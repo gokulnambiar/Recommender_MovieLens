{
 "cells": [
  {
   "cell_type": "code",
   "execution_count": 0,
   "metadata": {
    "application/vnd.databricks.v1+cell": {
     "cellMetadata": {
      "byteLimit": 2048000,
      "rowLimit": 10000
     },
     "inputWidgets": {},
     "nuid": "ab5b6ea4-84a6-4370-aecc-6de2a56ae677",
     "showTitle": false,
     "tableResultSettingsMap": {},
     "title": ""
    }
   },
   "outputs": [
    {
     "output_type": "stream",
     "name": "stdout",
     "output_type": "stream",
     "text": [
      "+-------+--------+------+---------+\n|user_id|movie_id|rating|timestamp|\n+-------+--------+------+---------+\n|    196|     242|     3|881250949|\n|    186|     302|     3|891717742|\n|     22|     377|     1|878887116|\n|    244|      51|     2|880606923|\n|    166|     346|     1|886397596|\n|    298|     474|     4|884182806|\n|    115|     265|     2|881171488|\n|    253|     465|     5|891628467|\n|    305|     451|     3|886324817|\n|      6|      86|     3|883603013|\n|     62|     257|     2|879372434|\n|    286|    1014|     5|879781125|\n|    200|     222|     5|876042340|\n|    210|      40|     3|891035994|\n|    224|      29|     3|888104457|\n|    303|     785|     3|879485318|\n|    122|     387|     5|879270459|\n|    194|     274|     2|879539794|\n|    291|    1042|     4|874834944|\n|    234|    1184|     2|892079237|\n+-------+--------+------+---------+\nonly showing top 20 rows\n\n+--------+--------------------+\n|movie_id|         movie_title|\n+--------+--------------------+\n|       1|    Toy Story (1995)|\n|       2|    GoldenEye (1995)|\n|       3|   Four Rooms (1995)|\n|       4|   Get Shorty (1995)|\n|       5|      Copycat (1995)|\n|       6|Shanghai Triad (Y...|\n|       7|Twelve Monkeys (1...|\n|       8|         Babe (1995)|\n|       9|Dead Man Walking ...|\n|      10|  Richard III (1995)|\n|      11|Seven (Se7en) (1995)|\n|      12|Usual Suspects, T...|\n|      13|Mighty Aphrodite ...|\n|      14|  Postino, Il (1994)|\n|      15|Mr. Holland's Opu...|\n|      16|French Twist (Gaz...|\n|      17|From Dusk Till Da...|\n|      18|White Balloon, Th...|\n|      19|Antonia's Line (1...|\n|      20|Angels and Insect...|\n+--------+--------------------+\nonly showing top 20 rows\n\n+-----------+--------+\n|      genre|genre_id|\n+-----------+--------+\n|    unknown|       0|\n|     Action|       1|\n|  Adventure|       2|\n|  Animation|       3|\n| Children's|       4|\n|     Comedy|       5|\n|      Crime|       6|\n|Documentary|       7|\n|      Drama|       8|\n|    Fantasy|       9|\n|  Film-Noir|      10|\n|     Horror|      11|\n|    Musical|      12|\n|    Mystery|      13|\n|    Romance|      14|\n|     Sci-Fi|      15|\n|   Thriller|      16|\n|        War|      17|\n|    Western|      18|\n+-----------+--------+\n\n+-------+---+------+-------------+--------+\n|user_id|age|gender|   occupation|zip_code|\n+-------+---+------+-------------+--------+\n|      1| 24|     M|   technician|   85711|\n|      2| 53|     F|        other|   94043|\n|      3| 23|     M|       writer|   32067|\n|      4| 24|     M|   technician|   43537|\n|      5| 33|     F|        other|   15213|\n|      6| 42|     M|    executive|   98101|\n|      7| 57|     M|administrator|   91344|\n|      8| 36|     M|administrator|   05201|\n|      9| 29|     M|      student|   01002|\n|     10| 53|     M|       lawyer|   90703|\n|     11| 39|     F|        other|   30329|\n|     12| 28|     F|        other|   06405|\n|     13| 47|     M|     educator|   29206|\n|     14| 45|     M|    scientist|   55106|\n|     15| 49|     F|     educator|   97301|\n|     16| 21|     M|entertainment|   10309|\n|     17| 30|     M|   programmer|   06355|\n|     18| 35|     F|        other|   37212|\n|     19| 40|     M|    librarian|   02138|\n|     20| 42|     F|    homemaker|   95660|\n+-------+---+------+-------------+--------+\nonly showing top 20 rows\n\n+--------------+\n|value         |\n+--------------+\n|943 users     |\n|1682 items    |\n|100000 ratings|\n+--------------+\n\n"
     ]
    }
   ],
   "source": [
    "from pyspark.sql.types import StructType, StructField, IntegerType, StringType\n",
    "from pyspark.sql import SparkSession\n",
    "\n",
    "# Initialize Spark session\n",
    "spark = SparkSession.builder.appName(\"MovieLensRecommender\").getOrCreate()\n",
    "\n",
    "# Define schema for the data\n",
    "ratings_schema = StructType([\n",
    "    StructField(\"user_id\", IntegerType(), True),\n",
    "    StructField(\"movie_id\", IntegerType(), True),\n",
    "    StructField(\"rating\", IntegerType(), True),\n",
    "    StructField(\"timestamp\", StringType(), True)\n",
    "])\n",
    "\n",
    "movies_schema = StructType([\n",
    "    StructField(\"movie_id\", IntegerType(), True),\n",
    "    StructField(\"movie_title\", StringType(), True)\n",
    "])\n",
    "\n",
    "genre_schema = StructType([\n",
    "    StructField(\"genre\", StringType(), True),\n",
    "    StructField(\"genre_id\", IntegerType(), True)\n",
    "])\n",
    "\n",
    "user_schema = StructType([\n",
    "    StructField(\"user_id\", IntegerType(), True),\n",
    "    StructField(\"age\", IntegerType(), True),\n",
    "    StructField(\"gender\", StringType(), True),\n",
    "    StructField(\"occupation\", StringType(), True),\n",
    "    StructField(\"zip_code\", StringType(), True)\n",
    "])\n",
    "\n",
    "\n",
    "# Load ratings data\n",
    "ratings = spark.read.csv(\"/FileStore/tables/movielens/u.data\", schema=ratings_schema, sep=\"\\t\")\n",
    "movies = spark.read.csv(\"/FileStore/tables/movielens/u.item\", schema=movies_schema, sep=\"|\").select(\"movie_id\", \"movie_title\")\n",
    "genres = spark.read.csv(\"/FileStore/tables/movielens/u.genre\", schema=genre_schema, sep=\"|\")\n",
    "users = spark.read.csv(\"/FileStore/tables/movielens/u.user\", schema=user_schema, sep=\"|\")\n",
    "info = spark.read.text(\"/FileStore/tables/movielens/u.info\")\n",
    "\n",
    "\n",
    "\n",
    "ratings.show()\n",
    "movies.show()\n",
    "genres.show()\n",
    "users.show()\n",
    "info.show(truncate=False)"
   ]
  },
  {
   "cell_type": "code",
   "execution_count": 0,
   "metadata": {
    "application/vnd.databricks.v1+cell": {
     "cellMetadata": {
      "byteLimit": 2048000,
      "rowLimit": 10000
     },
     "inputWidgets": {},
     "nuid": "d3bc3036-9dfd-4bc7-aeaf-969ceb40b503",
     "showTitle": false,
     "tableResultSettingsMap": {},
     "title": ""
    }
   },
   "outputs": [
    {
     "output_type": "display_data",
     "data": {
      "image/png": "[encoded data removed]"
     },
     "metadata": {
      "application/vnd.databricks.v1+output": {
       "addedWidgets": {},
       "arguments": {},
       "data": "data:image/png;base64,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\n",
       "datasetInfos": [],
       "metadata": {},
       "removedWidgets": [],
       "type": "image"
      }
     },
     "output_type": "display_data"
    },
    {
     "output_type": "display_data",
     "data": {
      "image/png": "[encoded data removed]"
     },
     "metadata": {
      "application/vnd.databricks.v1+output": {
       "addedWidgets": {},
       "arguments": {},
       "data": "data:image/png;base64,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\n",
       "datasetInfos": [],
       "metadata": {},
       "removedWidgets": [],
       "type": "image"
      }
     },
     "output_type": "display_data"
    },
    {
     "output_type": "display_data",
     "data": {
      "image/png": "[encoded data removed]"
     },
     "metadata": {
      "application/vnd.databricks.v1+output": {
       "addedWidgets": {},
       "arguments": {},
       "data": "data:image/png;base64,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\n",
       "datasetInfos": [],
       "metadata": {},
       "removedWidgets": [],
       "type": "image"
      }
     },
     "output_type": "display_data"
    },
    {
     "output_type": "display_data",
     "data": {
      "image/png": "[encoded data removed]"
     },
     "metadata": {
      "application/vnd.databricks.v1+output": {
       "addedWidgets": {},
       "arguments": {},
       "data": "data:image/png;base64,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\n",
       "datasetInfos": [],
       "metadata": {},
       "removedWidgets": [],
       "type": "image"
      }
     },
     "output_type": "display_data"
    },
    {
     "output_type": "display_data",
     "data": {
      "image/png": "[encoded data removed]"
     },
     "metadata": {
      "application/vnd.databricks.v1+output": {
       "addedWidgets": {},
       "arguments": {},
       "data": "data:image/png;base64,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\n",
       "datasetInfos": [],
       "metadata": {},
       "removedWidgets": [],
       "type": "image"
      }
     },
     "output_type": "display_data"
    }
   ],
   "source": [
    "from pyspark.sql.functions import avg, count, col, desc, from_unixtime\n",
    "import matplotlib.pyplot as plt\n",
    "import pandas as pd\n",
    "\n",
    "\n",
    "\n",
    "# 1. Number of Ratings for Each Rating Level\n",
    "rating_counts = ratings.groupBy(\"rating\").count().orderBy(\"rating\").toPandas()\n",
    "\n",
    "# Plotting the distribution of ratings\n",
    "plt.bar(rating_counts[\"rating\"], rating_counts[\"count\"])\n",
    "plt.xlabel(\"Rating Level\")\n",
    "plt.ylabel(\"Number of Ratings\")\n",
    "plt.title(\"Distribution of Ratings\")\n",
    "plt.show()\n",
    "\n",
    "# 2. Histogram of Number of Ratings per Movie\n",
    "ratings_per_movie = ratings.groupBy(\"movie_id\").count().withColumnRenamed(\"count\", \"num_ratings\")\n",
    "ratings_hist = ratings_per_movie.select(\"num_ratings\").toPandas()\n",
    "\n",
    "# Plotting histogram\n",
    "plt.hist(ratings_hist[\"num_ratings\"], bins=20, edgecolor='black')\n",
    "plt.xlabel(\"Number of Ratings\")\n",
    "plt.ylabel(\"Frequency\")\n",
    "plt.title(\"Histogram of Number of Ratings per Movie\")\n",
    "plt.show()\n",
    "\n",
    "# 3. Public Favorite Movies in Each Genre\n",
    "# Add genre flags to the ratings dataset\n",
    "movies_with_genres = movies.join(movies_with_genres, \"movie_id\")  # Join with genre flags\n",
    "\n",
    "# Get the average rating for each genre\n",
    "genre_ratings = {}\n",
    "for genre in genres.select(\"genre\").rdd.flatMap(lambda x: x).collect():\n",
    "    avg_ratings_genre = ratings.join(movies_with_genres, \"movie_id\").filter(col(genre) == 1) \\\n",
    "        .groupBy(\"movie_id\").agg(avg(\"rating\").alias(\"avg_rating\")) \\\n",
    "        .orderBy(\"avg_rating\", ascending=False).limit(1) \\\n",
    "        .join(movies, \"movie_id\").select(\"movie_title\", \"avg_rating\").collect()\n",
    "    genre_ratings[genre] = avg_ratings_genre[0]\n",
    "\n",
    "# Convert to DataFrame for plotting\n",
    "genre_ratings_df = pd.DataFrame({\n",
    "    \"Genre\": [k for k in genre_ratings.keys()],\n",
    "    \"Top Movie\": [v[\"movie_title\"] for v in genre_ratings.values()],\n",
    "    \"Average Rating\": [v[\"avg_rating\"] for v in genre_ratings.values()]\n",
    "})\n",
    "\n",
    "# Plotting top-rated movies by genre\n",
    "plt.figure(figsize=(10, 6))\n",
    "plt.barh(genre_ratings_df[\"Genre\"], genre_ratings_df[\"Average Rating\"], color='skyblue')\n",
    "plt.xlabel(\"Average Rating\")\n",
    "plt.ylabel(\"Genre\")\n",
    "plt.title(\"Top Public Favorite Movie in Each Genre by Average Rating\")\n",
    "plt.show()\n",
    "\n",
    "# 4. Ratings Over Time (Optional if Timestamp Data is Preprocessed)\n",
    "ratings_with_date = ratings.withColumn(\"date\", from_unixtime(col(\"timestamp\").cast(\"long\")).cast(\"date\"))\n",
    "ratings_trend = ratings_with_date.groupBy(\"date\").agg(avg(\"rating\").alias(\"avg_rating\")).orderBy(\"date\").toPandas()\n",
    "\n",
    "# Plotting trend of average ratings over time\n",
    "plt.plot(ratings_trend[\"date\"], ratings_trend[\"avg_rating\"], marker='o', linestyle='-')\n",
    "plt.xlabel(\"Date\")\n",
    "plt.ylabel(\"Average Rating\")\n",
    "plt.title(\"Trend of Average Ratings Over Time\")\n",
    "plt.xticks(rotation=45)\n",
    "plt.tight_layout()\n",
    "plt.show()\n",
    "\n",
    "# 5. Top Movies with Most Ratings\n",
    "top_movies_by_ratings = ratings_per_movie.join(movies, \"movie_id\").orderBy(desc(\"num_ratings\")).limit(10).toPandas()\n",
    "\n",
    "# Plotting the movies with the most ratings\n",
    "plt.figure(figsize=(10, 6))\n",
    "plt.barh(top_movies_by_ratings[\"movie_title\"], top_movies_by_ratings[\"num_ratings\"], color='orange')\n",
    "plt.xlabel(\"Number of Ratings\")\n",
    "plt.ylabel(\"Movie Title\")\n",
    "plt.title(\"Top 10 Movies with Most Ratings\")\n",
    "plt.show()\n"
   ]
  },
  {
   "cell_type": "code",
   "execution_count": 0,
   "metadata": {
    "application/vnd.databricks.v1+cell": {
     "cellMetadata": {
      "byteLimit": 2048000,
      "rowLimit": 10000
     },
     "inputWidgets": {},
     "nuid": "4959a301-a644-4450-a45d-1f45a8e49cbe",
     "showTitle": false,
     "tableResultSettingsMap": {},
     "title": ""
    }
   },
   "outputs": [
    {
     "output_type": "stream",
     "name": "stdout",
     "output_type": "stream",
     "text": [
      "Root-mean-square error: 0.9246352241021268\n"
     ]
    }
   ],
   "source": [
    "from pyspark.ml.recommendation import ALS\n",
    "from pyspark.ml.evaluation import RegressionEvaluator\n",
    "\n",
    "# Train-test split\n",
    "(training, test) = ratings.randomSplit([0.8, 0.2])\n",
    "\n",
    "# Define ALS model\n",
    "als = ALS(\n",
    "    userCol=\"user_id\",\n",
    "    itemCol=\"movie_id\",\n",
    "    ratingCol=\"rating\",\n",
    "    nonnegative=True,\n",
    "    coldStartStrategy=\"drop\"\n",
    ")\n",
    "\n",
    "# Train the model\n",
    "model = als.fit(training)\n",
    "\n",
    "# Evaluate the model\n",
    "predictions = model.transform(test)\n",
    "evaluator = RegressionEvaluator(metricName=\"rmse\", labelCol=\"rating\", predictionCol=\"prediction\")\n",
    "rmse = evaluator.evaluate(predictions)\n",
    "\n",
    "print(f\"Root-mean-square error: {rmse}\")\n"
   ]
  },
  {
   "cell_type": "code",
   "execution_count": 0,
   "metadata": {
    "application/vnd.databricks.v1+cell": {
     "cellMetadata": {
      "byteLimit": 2048000,
      "rowLimit": 10000
     },
     "inputWidgets": {},
     "nuid": "a93ed29b-f65a-4c02-8cc3-ffc6095be169",
     "showTitle": false,
     "tableResultSettingsMap": {},
     "title": ""
    }
   },
   "outputs": [
    {
     "output_type": "stream",
     "name": "stdout",
     "output_type": "stream",
     "text": [
      "+--------+-------+---------+--------------------+\n|movie_id|user_id|   rating|         movie_title|\n+--------+-------+---------+--------------------+\n|    1449|      1|5.1955085|Pather Panchali (...|\n+--------+-------+---------+--------------------+\n\n"
     ]
    }
   ],
   "source": [
    "# 1. The top recommendation for each user\n",
    "user_recommendations = model.recommendForAllUsers(1)\n",
    "\n",
    "# 2. Explode recommendations for better readability\n",
    "from pyspark.sql.functions import explode\n",
    "\n",
    "recommendations = user_recommendations.select(\"user_id\", explode(\"recommendations\").alias(\"recommendation\"))\n",
    "recommendations = recommendations.select(\"user_id\", \"recommendation.movie_id\", \"recommendation.rating\")\n",
    "\n",
    "# 3. Add movie titles to recommendations\n",
    "recommendations_with_titles = recommendations.join(movies, \"movie_id\")\n",
    "\n",
    "# Show recommendations for the first user\n",
    "recommendations_with_titles.filter(col(\"user_id\") == 1).show()\n"
   ]
  },
  {
   "cell_type": "code",
   "execution_count": 0,
   "metadata": {
    "application/vnd.databricks.v1+cell": {
     "cellMetadata": {
      "byteLimit": 2048000,
      "rowLimit": 10000
     },
     "inputWidgets": {},
     "nuid": "c12951c4-9e9c-404d-9b9d-82b81233a5c0",
     "showTitle": false,
     "tableResultSettingsMap": {},
     "title": ""
    }
   },
   "outputs": [
    {
     "output_type": "display_data",
     "data": {
      "image/png": "[encoded data removed]"
     },
     "metadata": {
      "application/vnd.databricks.v1+output": {
       "addedWidgets": {},
       "arguments": {},
       "data": "data:image/png;base64,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\n",
       "datasetInfos": [],
       "metadata": {},
       "removedWidgets": [],
       "type": "image"
      }
     },
     "output_type": "display_data"
    }
   ],
   "source": [
    "# Save recommendations\n",
    "recommendations_with_titles.write.csv(\"/FileStore/recommendations_1user.csv\", header=True)\n",
    "\n",
    "# Visualize top recommended movies\n",
    "top_recommended_movies = recommendations_with_titles.groupBy(\"movie_id\").agg(count(\"user_id\").alias(\"user_count\"))\n",
    "top_recommended_movies = top_recommended_movies.join(movies, \"movie_id\").orderBy(\"user_count\", ascending=False).limit(10)\n",
    "\n",
    "# Plot\n",
    "top_movies_df = top_recommended_movies.toPandas()\n",
    "plt.barh(top_movies_df[\"movie_title\"], top_movies_df[\"user_count\"])\n",
    "plt.xlabel(\"Number of Users Recommended\")\n",
    "plt.ylabel(\"Movie Title\")\n",
    "plt.title(\"Top Recommended Movies\")\n",
    "plt.show()\n"
   ]
  },
  {
   "cell_type": "code",
   "execution_count": 0,
   "metadata": {
    "application/vnd.databricks.v1+cell": {
     "cellMetadata": {
      "byteLimit": 2048000,
      "rowLimit": 10000
     },
     "inputWidgets": {},
     "nuid": "a3395610-0478-4f8f-9355-a7341d1ea77a",
     "showTitle": false,
     "tableResultSettingsMap": {},
     "title": ""
    }
   },
   "outputs": [
    {
     "output_type": "display_data",
     "data": {
      "text/html": [
       "<style scoped>\n",
       "  .table-result-container {\n",
       "    max-height: 300px;\n",
       "    overflow: auto;\n",
       "  }\n",
       "  table, th, td {\n",
       "    border: 1px solid black;\n",
       "    border-collapse: collapse;\n",
       "  }\n",
       "  th, td {\n",
       "    padding: 5px;\n",
       "  }\n",
       "  th {\n",
       "    text-align: left;\n",
       "  }\n",
       "</style><div class='table-result-container'><table class='table-result'><thead style='background-color: white'><tr><th>movie_id</th><th>user_id</th><th>rating</th><th>movie_title</th></tr></thead><tbody><tr><td>1449</td><td>1</td><td>5.1955085</td><td>Pather Panchali (1955)</td></tr><tr><td>1449</td><td>2</td><td>4.773265</td><td>Pather Panchali (1955)</td></tr><tr><td>1463</td><td>3</td><td>4.27937</td><td>Boys, Les (1997)</td></tr><tr><td>1368</td><td>4</td><td>5.968327</td><td>Mina Tannenbaum (1994)</td></tr><tr><td>1589</td><td>5</td><td>4.723507</td><td>Schizopolis (1996)</td></tr><tr><td>1463</td><td>6</td><td>5.043045</td><td>Boys, Les (1997)</td></tr><tr><td>1449</td><td>7</td><td>5.2160077</td><td>Pather Panchali (1955)</td></tr><tr><td>1467</td><td>8</td><td>4.9738374</td><td>Saint of Fort Washington, The (1993)</td></tr><tr><td>1642</td><td>9</td><td>5.4375424</td><td>Some Mother's Son (1996)</td></tr><tr><td>1449</td><td>10</td><td>5.188936</td><td>Pather Panchali (1955)</td></tr><tr><td>1642</td><td>11</td><td>4.507858</td><td>Some Mother's Son (1996)</td></tr><tr><td>1450</td><td>12</td><td>5.1827292</td><td>Golden Earrings (1947)</td></tr><tr><td>1643</td><td>13</td><td>5.0375404</td><td>Angel Baby (1995)</td></tr><tr><td>1449</td><td>14</td><td>5.293253</td><td>Pather Panchali (1955)</td></tr><tr><td>1242</td><td>15</td><td>4.1376843</td><td>Old Lady Who Walked in the Sea, The (Vieille qui marchait dans la mer, La) (1991)</td></tr><tr><td>1467</td><td>16</td><td>5.3468456</td><td>Saint of Fort Washington, The (1993)</td></tr><tr><td>408</td><td>17</td><td>4.379724</td><td>Close Shave, A (1995)</td></tr><tr><td>1642</td><td>18</td><td>4.8326936</td><td>Some Mother's Son (1996)</td></tr><tr><td>1642</td><td>19</td><td>4.4540315</td><td>Some Mother's Son (1996)</td></tr><tr><td>1427</td><td>20</td><td>3.9133117</td><td>Drunks (1995)</td></tr><tr><td>589</td><td>21</td><td>4.5300956</td><td>Wild Bunch, The (1969)</td></tr><tr><td>1463</td><td>22</td><td>5.229569</td><td>Boys, Les (1997)</td></tr><tr><td>1449</td><td>23</td><td>4.7735457</td><td>Pather Panchali (1955)</td></tr><tr><td>1449</td><td>24</td><td>5.3316336</td><td>Pather Panchali (1955)</td></tr><tr><td>1467</td><td>25</td><td>4.7465014</td><td>Saint of Fort Washington, The (1993)</td></tr><tr><td>1467</td><td>26</td><td>4.065113</td><td>Saint of Fort Washington, The (1993)</td></tr><tr><td>817</td><td>27</td><td>4.070869</td><td>Frisk (1995)</td></tr><tr><td>1467</td><td>28</td><td>4.894045</td><td>Saint of Fort Washington, The (1993)</td></tr><tr><td>320</td><td>29</td><td>4.942602</td><td>Paradise Lost: The Child Murders at Robin Hood Hills (1996)</td></tr><tr><td>1642</td><td>30</td><td>5.126123</td><td>Some Mother's Son (1996)</td></tr><tr><td>1449</td><td>31</td><td>5.021573</td><td>Pather Panchali (1955)</td></tr><tr><td>1467</td><td>32</td><td>4.2524424</td><td>Saint of Fort Washington, The (1993)</td></tr><tr><td>313</td><td>33</td><td>4.6174498</td><td>Titanic (1997)</td></tr><tr><td>1558</td><td>34</td><td>6.351625</td><td>Aparajito (1956)</td></tr><tr><td>1192</td><td>35</td><td>4.0965543</td><td>Boys of St. Vincent, The (1993)</td></tr><tr><td>1472</td><td>36</td><td>5.3781834</td><td>Visitors, The (Visiteurs, Les) (1993)</td></tr><tr><td>1467</td><td>37</td><td>4.7627864</td><td>Saint of Fort Washington, The (1993)</td></tr><tr><td>1102</td><td>38</td><td>5.8087506</td><td>Two Much (1996)</td></tr><tr><td>320</td><td>39</td><td>5.455408</td><td>Paradise Lost: The Child Murders at Robin Hood Hills (1996)</td></tr><tr><td>868</td><td>40</td><td>4.0608387</td><td>Hearts and Minds (1996)</td></tr><tr><td>1449</td><td>41</td><td>4.80686</td><td>Pather Panchali (1955)</td></tr><tr><td>1278</td><td>42</td><td>4.9630265</td><td>Selena (1997)</td></tr><tr><td>1450</td><td>43</td><td>4.763819</td><td>Golden Earrings (1947)</td></tr><tr><td>1467</td><td>44</td><td>4.632115</td><td>Saint of Fort Washington, The (1993)</td></tr><tr><td>1643</td><td>45</td><td>5.513509</td><td>Angel Baby (1995)</td></tr><tr><td>1643</td><td>46</td><td>5.388399</td><td>Angel Baby (1995)</td></tr><tr><td>1449</td><td>47</td><td>5.002678</td><td>Pather Panchali (1955)</td></tr><tr><td>1467</td><td>48</td><td>4.884698</td><td>Saint of Fort Washington, The (1993)</td></tr><tr><td>1085</td><td>49</td><td>4.3855457</td><td>Carried Away (1996)</td></tr><tr><td>320</td><td>50</td><td>5.426483</td><td>Paradise Lost: The Child Murders at Robin Hood Hills (1996)</td></tr><tr><td>1269</td><td>51</td><td>4.5366354</td><td>Love in the Afternoon (1957)</td></tr><tr><td>1642</td><td>52</td><td>5.516196</td><td>Some Mother's Son (1996)</td></tr><tr><td>626</td><td>53</td><td>4.963911</td><td>So Dear to My Heart (1949)</td></tr><tr><td>320</td><td>54</td><td>5.0616093</td><td>Paradise Lost: The Child Murders at Robin Hood Hills (1996)</td></tr><tr><td>313</td><td>55</td><td>4.44789</td><td>Titanic (1997)</td></tr><tr><td>1467</td><td>56</td><td>4.6838946</td><td>Saint of Fort Washington, The (1993)</td></tr><tr><td>1467</td><td>57</td><td>4.667837</td><td>Saint of Fort Washington, The (1993)</td></tr><tr><td>1589</td><td>58</td><td>5.0762725</td><td>Schizopolis (1996)</td></tr><tr><td>320</td><td>59</td><td>5.3002267</td><td>Paradise Lost: The Child Murders at Robin Hood Hills (1996)</td></tr><tr><td>1449</td><td>60</td><td>5.0886455</td><td>Pather Panchali (1955)</td></tr><tr><td>909</td><td>61</td><td>3.9272058</td><td>Dangerous Beauty (1998)</td></tr><tr><td>1449</td><td>62</td><td>4.544075</td><td>Pather Panchali (1955)</td></tr><tr><td>1449</td><td>63</td><td>4.4546566</td><td>Pather Panchali (1955)</td></tr><tr><td>1463</td><td>64</td><td>4.900611</td><td>Boys, Les (1997)</td></tr><tr><td>1450</td><td>65</td><td>4.9158864</td><td>Golden Earrings (1947)</td></tr><tr><td>1467</td><td>66</td><td>4.5135746</td><td>Saint of Fort Washington, The (1993)</td></tr><tr><td>958</td><td>67</td><td>5.2312565</td><td>To Live (Huozhe) (1994)</td></tr><tr><td>1463</td><td>68</td><td>4.7512956</td><td>Boys, Les (1997)</td></tr><tr><td>1463</td><td>69</td><td>5.0581813</td><td>Boys, Les (1997)</td></tr><tr><td>1467</td><td>70</td><td>4.560628</td><td>Saint of Fort Washington, The (1993)</td></tr><tr><td>1463</td><td>71</td><td>5.0834904</td><td>Boys, Les (1997)</td></tr><tr><td>1650</td><td>72</td><td>4.8881035</td><td>Butcher Boy, The (1998)</td></tr><tr><td>1643</td><td>73</td><td>5.1446</td><td>Angel Baby (1995)</td></tr><tr><td>1463</td><td>74</td><td>4.9483924</td><td>Boys, Les (1997)</td></tr><tr><td>1463</td><td>75</td><td>5.3648295</td><td>Boys, Les (1997)</td></tr><tr><td>1463</td><td>76</td><td>4.9901047</td><td>Boys, Les (1997)</td></tr><tr><td>1643</td><td>77</td><td>5.065589</td><td>Angel Baby (1995)</td></tr><tr><td>1554</td><td>78</td><td>5.1512837</td><td>Safe Passage (1994)</td></tr><tr><td>320</td><td>79</td><td>4.963161</td><td>Paradise Lost: The Child Murders at Robin Hood Hills (1996)</td></tr><tr><td>1449</td><td>80</td><td>4.7809277</td><td>Pather Panchali (1955)</td></tr><tr><td>1463</td><td>81</td><td>4.794747</td><td>Boys, Les (1997)</td></tr><tr><td>1463</td><td>82</td><td>4.6750283</td><td>Boys, Les (1997)</td></tr><tr><td>313</td><td>83</td><td>4.654109</td><td>Titanic (1997)</td></tr><tr><td>1064</td><td>84</td><td>4.9823637</td><td>Crossfire (1947)</td></tr><tr><td>1449</td><td>85</td><td>4.4205494</td><td>Pather Panchali (1955)</td></tr><tr><td>1159</td><td>86</td><td>5.262545</td><td>Stalker (1979)</td></tr><tr><td>1643</td><td>87</td><td>4.9972453</td><td>Angel Baby (1995)</td></tr><tr><td>1159</td><td>88</td><td>6.0270786</td><td>Stalker (1979)</td></tr><tr><td>1589</td><td>89</td><td>6.052506</td><td>Schizopolis (1996)</td></tr><tr><td>1463</td><td>90</td><td>5.347301</td><td>Boys, Les (1997)</td></tr><tr><td>1467</td><td>91</td><td>4.8964777</td><td>Saint of Fort Washington, The (1993)</td></tr><tr><td>1449</td><td>92</td><td>4.646897</td><td>Pather Panchali (1955)</td></tr><tr><td>1066</td><td>93</td><td>4.7950134</td><td>Balto (1995)</td></tr><tr><td>1449</td><td>94</td><td>5.3008723</td><td>Pather Panchali (1955)</td></tr><tr><td>1450</td><td>95</td><td>4.5653443</td><td>Golden Earrings (1947)</td></tr><tr><td>1467</td><td>96</td><td>4.9441066</td><td>Saint of Fort Washington, The (1993)</td></tr><tr><td>1154</td><td>97</td><td>5.231568</td><td>Alphaville (1965)</td></tr><tr><td>320</td><td>98</td><td>6.389991</td><td>Paradise Lost: The Child Murders at Robin Hood Hills (1996)</td></tr><tr><td>1643</td><td>99</td><td>4.99407</td><td>Angel Baby (1995)</td></tr><tr><td>1450</td><td>100</td><td>4.3942075</td><td>Golden Earrings (1947)</td></tr><tr><td>1467</td><td>101</td><td>3.906679</td><td>Saint of Fort Washington, The (1993)</td></tr><tr><td>1449</td><td>102</td><td>3.457935</td><td>Pather Panchali (1955)</td></tr><tr><td>1467</td><td>103</td><td>4.6299887</td><td>Saint of Fort Washington, The (1993)</td></tr><tr><td>1467</td><td>104</td><td>3.7850475</td><td>Saint of Fort Washington, The (1993)</td></tr><tr><td>1643</td><td>105</td><td>4.8097053</td><td>Angel Baby (1995)</td></tr><tr><td>1450</td><td>106</td><td>4.5751734</td><td>Golden Earrings (1947)</td></tr><tr><td>1085</td><td>107</td><td>4.8654904</td><td>Carried Away (1996)</td></tr><tr><td>1463</td><td>108</td><td>4.9351325</td><td>Boys, Les (1997)</td></tr><tr><td>1467</td><td>109</td><td>4.4711137</td><td>Saint of Fort Washington, The (1993)</td></tr><tr><td>64</td><td>110</td><td>3.8567286</td><td>Shawshank Redemption, The (1994)</td></tr><tr><td>913</td><td>111</td><td>4.74882</td><td>Love and Death on Long Island (1997)</td></tr><tr><td>1233</td><td>112</td><td>5.071802</td><td>N�nette et Boni (1996)</td></tr><tr><td>1643</td><td>113</td><td>5.4023275</td><td>Angel Baby (1995)</td></tr><tr><td>1643</td><td>114</td><td>4.910486</td><td>Angel Baby (1995)</td></tr><tr><td>1463</td><td>115</td><td>5.60494</td><td>Boys, Les (1997)</td></tr><tr><td>1467</td><td>116</td><td>4.1369</td><td>Saint of Fort Washington, The (1993)</td></tr><tr><td>1643</td><td>117</td><td>5.447026</td><td>Angel Baby (1995)</td></tr><tr><td>1449</td><td>118</td><td>5.7582927</td><td>Pather Panchali (1955)</td></tr><tr><td>1643</td><td>119</td><td>5.531326</td><td>Angel Baby (1995)</td></tr><tr><td>1642</td><td>120</td><td>4.539535</td><td>Some Mother's Son (1996)</td></tr><tr><td>1463</td><td>121</td><td>5.151521</td><td>Boys, Les (1997)</td></tr><tr><td>1512</td><td>122</td><td>5.282963</td><td>World of Apu, The (Apur Sansar) (1959)</td></tr><tr><td>1463</td><td>123</td><td>4.9976115</td><td>Boys, Les (1997)</td></tr><tr><td>1449</td><td>124</td><td>4.385146</td><td>Pather Panchali (1955)</td></tr><tr><td>174</td><td>125</td><td>4.5904236</td><td>Raiders of the Lost Ark (1981)</td></tr><tr><td>1159</td><td>126</td><td>5.3570204</td><td>Stalker (1979)</td></tr><tr><td>916</td><td>127</td><td>6.3245897</td><td>Lost in Space (1998)</td></tr><tr><td>1467</td><td>128</td><td>4.8239374</td><td>Saint of Fort Washington, The (1993)</td></tr><tr><td>1104</td><td>129</td><td>4.762328</td><td>C'est arriv� pr�s de chez vous (1992)</td></tr><tr><td>1467</td><td>130</td><td>5.2157145</td><td>Saint of Fort Washington, The (1993)</td></tr><tr><td>1463</td><td>131</td><td>4.927617</td><td>Boys, Les (1997)</td></tr><tr><td>320</td><td>132</td><td>4.6825895</td><td>Paradise Lost: The Child Murders at Robin Hood Hills (1996)</td></tr><tr><td>958</td><td>133</td><td>4.4280996</td><td>To Live (Huozhe) (1994)</td></tr><tr><td>313</td><td>134</td><td>4.7936044</td><td>Titanic (1997)</td></tr><tr><td>1467</td><td>135</td><td>4.5234466</td><td>Saint of Fort Washington, The (1993)</td></tr><tr><td>1463</td><td>136</td><td>5.4092255</td><td>Boys, Les (1997)</td></tr><tr><td>361</td><td>137</td><td>6.0389028</td><td>Incognito (1997)</td></tr><tr><td>1643</td><td>138</td><td>5.5904636</td><td>Angel Baby (1995)</td></tr><tr><td>1463</td><td>139</td><td>5.948947</td><td>Boys, Les (1997)</td></tr><tr><td>1398</td><td>140</td><td>4.688021</td><td>Anna (1996)</td></tr><tr><td>1192</td><td>141</td><td>5.389981</td><td>Boys of St. Vincent, The (1993)</td></tr><tr><td>320</td><td>142</td><td>5.113839</td><td>Paradise Lost: The Child Murders at Robin Hood Hills (1996)</td></tr><tr><td>1467</td><td>143</td><td>4.8519464</td><td>Saint of Fort Washington, The (1993)</td></tr><tr><td>1450</td><td>144</td><td>4.744459</td><td>Golden Earrings (1947)</td></tr><tr><td>1643</td><td>145</td><td>5.4803524</td><td>Angel Baby (1995)</td></tr><tr><td>884</td><td>146</td><td>5.1665297</td><td>Year of the Horse (1997)</td></tr><tr><td>958</td><td>147</td><td>5.5402246</td><td>To Live (Huozhe) (1994)</td></tr><tr><td>408</td><td>148</td><td>5.10963</td><td>Close Shave, A (1995)</td></tr><tr><td>320</td><td>149</td><td>4.619462</td><td>Paradise Lost: The Child Murders at Robin Hood Hills (1996)</td></tr><tr><td>1449</td><td>150</td><td>5.361509</td><td>Pather Panchali (1955)</td></tr><tr><td>1463</td><td>151</td><td>5.332705</td><td>Boys, Les (1997)</td></tr><tr><td>1064</td><td>152</td><td>5.2787833</td><td>Crossfire (1947)</td></tr><tr><td>1172</td><td>153</td><td>4.6536484</td><td>Women, The (1939)</td></tr><tr><td>1463</td><td>154</td><td>5.0413384</td><td>Boys, Les (1997)</td></tr><tr><td>1642</td><td>155</td><td>4.0592446</td><td>Some Mother's Son (1996)</td></tr><tr><td>1449</td><td>156</td><td>4.391126</td><td>Pather Panchali (1955)</td></tr><tr><td>1643</td><td>157</td><td>6.4662366</td><td>Angel Baby (1995)</td></tr><tr><td>1449</td><td>158</td><td>5.0979342</td><td>Pather Panchali (1955)</td></tr><tr><td>817</td><td>159</td><td>5.3003783</td><td>Frisk (1995)</td></tr><tr><td>320</td><td>160</td><td>5.3114</td><td>Paradise Lost: The Child Murders at Robin Hood Hills (1996)</td></tr><tr><td>1463</td><td>161</td><td>3.5369647</td><td>Boys, Les (1997)</td></tr><tr><td>1293</td><td>162</td><td>4.5583534</td><td>Star Kid (1997)</td></tr><tr><td>1463</td><td>163</td><td>4.2375317</td><td>Boys, Les (1997)</td></tr><tr><td>899</td><td>164</td><td>5.303885</td><td>Winter Guest, The (1997)</td></tr><tr><td>867</td><td>165</td><td>5.0876255</td><td>Whole Wide World, The (1996)</td></tr><tr><td>1294</td><td>166</td><td>5.197034</td><td>Ayn Rand: A Sense of Life (1997)</td></tr><tr><td>884</td><td>167</td><td>5.238608</td><td>Year of the Horse (1997)</td></tr><tr><td>1192</td><td>168</td><td>4.8403826</td><td>Boys of St. Vincent, The (1993)</td></tr><tr><td>1467</td><td>169</td><td>4.8216033</td><td>Saint of Fort Washington, The (1993)</td></tr><tr><td>1446</td><td>170</td><td>4.872472</td><td>Bye Bye, Love (1995)</td></tr><tr><td>1643</td><td>171</td><td>4.8375926</td><td>Angel Baby (1995)</td></tr><tr><td>1233</td><td>172</td><td>4.0876956</td><td>N�nette et Boni (1996)</td></tr><tr><td>1650</td><td>173</td><td>5.6128936</td><td>Butcher Boy, The (1998)</td></tr><tr><td>1233</td><td>174</td><td>5.905413</td><td>N�nette et Boni (1996)</td></tr><tr><td>1450</td><td>175</td><td>4.722333</td><td>Golden Earrings (1947)</td></tr><tr><td>1449</td><td>176</td><td>5.0253983</td><td>Pather Panchali (1955)</td></tr><tr><td>1463</td><td>177</td><td>4.7975426</td><td>Boys, Les (1997)</td></tr><tr><td>1467</td><td>178</td><td>4.792169</td><td>Saint of Fort Washington, The (1993)</td></tr><tr><td>854</td><td>179</td><td>4.727635</td><td>Bad Taste (1987)</td></tr><tr><td>1463</td><td>180</td><td>5.5236435</td><td>Boys, Les (1997)</td></tr><tr><td>313</td><td>181</td><td>2.4546716</td><td>Titanic (1997)</td></tr><tr><td>1450</td><td>182</td><td>4.8197813</td><td>Golden Earrings (1947)</td></tr><tr><td>867</td><td>183</td><td>4.633606</td><td>Whole Wide World, The (1996)</td></tr><tr><td>1642</td><td>184</td><td>4.747527</td><td>Some Mother's Son (1996)</td></tr><tr><td>1642</td><td>185</td><td>4.775476</td><td>Some Mother's Son (1996)</td></tr><tr><td>867</td><td>186</td><td>4.67591</td><td>Whole Wide World, The (1996)</td></tr><tr><td>1463</td><td>187</td><td>4.9730086</td><td>Boys, Les (1997)</td></tr><tr><td>318</td><td>188</td><td>4.5694675</td><td>Schindler's List (1993)</td></tr><tr><td>1449</td><td>189</td><td>5.1428213</td><td>Pather Panchali (1955)</td></tr><tr><td>1467</td><td>190</td><td>4.5818553</td><td>Saint of Fort Washington, The (1993)</td></tr><tr><td>1450</td><td>191</td><td>4.5843673</td><td>Golden Earrings (1947)</td></tr><tr><td>1449</td><td>192</td><td>5.25895</td><td>Pather Panchali (1955)</td></tr><tr><td>1643</td><td>193</td><td>4.6038322</td><td>Angel Baby (1995)</td></tr><tr><td>1463</td><td>194</td><td>4.415476</td><td>Boys, Les (1997)</td></tr><tr><td>1467</td><td>195</td><td>4.784143</td><td>Saint of Fort Washington, The (1993)</td></tr><tr><td>868</td><td>196</td><td>4.8726397</td><td>Hearts and Minds (1996)</td></tr><tr><td>1450</td><td>197</td><td>4.9097624</td><td>Golden Earrings (1947)</td></tr><tr><td>1463</td><td>198</td><td>4.5799766</td><td>Boys, Les (1997)</td></tr><tr><td>1449</td><td>199</td><td>4.82724</td><td>Pather Panchali (1955)</td></tr><tr><td>1467</td><td>200</td><td>5.234641</td><td>Saint of Fort Washington, The (1993)</td></tr><tr><td>1643</td><td>201</td><td>4.366482</td><td>Angel Baby (1995)</td></tr><tr><td>916</td><td>202</td><td>3.560466</td><td>Lost in Space (1998)</td></tr><tr><td>1467</td><td>203</td><td>4.385748</td><td>Saint of Fort Washington, The (1993)</td></tr><tr><td>320</td><td>204</td><td>5.226881</td><td>Paradise Lost: The Child Murders at Robin Hood Hills (1996)</td></tr><tr><td>169</td><td>205</td><td>3.9446084</td><td>Wrong Trousers, The (1993)</td></tr><tr><td>854</td><td>206</td><td>4.594321</td><td>Bad Taste (1987)</td></tr><tr><td>1643</td><td>207</td><td>4.096898</td><td>Angel Baby (1995)</td></tr><tr><td>1278</td><td>208</td><td>4.9471183</td><td>Selena (1997)</td></tr><tr><td>963</td><td>209</td><td>4.23972</td><td>Some Folks Call It a Sling Blade (1993)</td></tr><tr><td>1467</td><td>210</td><td>5.0102096</td><td>Saint of Fort Washington, The (1993)</td></tr><tr><td>1664</td><td>211</td><td>4.256653</td><td>8 Heads in a Duffel Bag (1997)</td></tr><tr><td>1242</td><td>212</td><td>5.3842473</td><td>Old Lady Who Walked in the Sea, The (Vieille qui marchait dans la mer, La) (1991)</td></tr><tr><td>1643</td><td>213</td><td>5.566839</td><td>Angel Baby (1995)</td></tr><tr><td>1643</td><td>214</td><td>5.0943713</td><td>Angel Baby (1995)</td></tr><tr><td>1643</td><td>215</td><td>4.7774568</td><td>Angel Baby (1995)</td></tr><tr><td>1643</td><td>216</td><td>5.4582005</td><td>Angel Baby (1995)</td></tr><tr><td>1467</td><td>217</td><td>4.679866</td><td>Saint of Fort Washington, The (1993)</td></tr><tr><td>1643</td><td>218</td><td>4.777007</td><td>Angel Baby (1995)</td></tr><tr><td>1558</td><td>219</td><td>6.191805</td><td>Aparajito (1956)</td></tr><tr><td>1664</td><td>220</td><td>5.1873813</td><td>8 Heads in a Duffel Bag (1997)</td></tr><tr><td>1643</td><td>221</td><td>5.0847607</td><td>Angel Baby (1995)</td></tr><tr><td>1643</td><td>222</td><td>4.4583197</td><td>Angel Baby (1995)</td></tr><tr><td>174</td><td>223</td><td>4.2918673</td><td>Raiders of the Lost Ark (1981)</td></tr><tr><td>1278</td><td>224</td><td>4.173043</td><td>Selena (1997)</td></tr><tr><td>1463</td><td>225</td><td>5.514614</td><td>Boys, Les (1997)</td></tr><tr><td>1463</td><td>226</td><td>4.949175</td><td>Boys, Les (1997)</td></tr><tr><td>1642</td><td>227</td><td>5.0034213</td><td>Some Mother's Son (1996)</td></tr><tr><td>1233</td><td>228</td><td>5.0595684</td><td>N�nette et Boni (1996)</td></tr><tr><td>1639</td><td>229</td><td>5.1033845</td><td>Bitter Sugar (Azucar Amargo) (1996)</td></tr><tr><td>1450</td><td>230</td><td>4.914147</td><td>Golden Earrings (1947)</td></tr><tr><td>817</td><td>231</td><td>4.516107</td><td>Frisk (1995)</td></tr><tr><td>1449</td><td>232</td><td>4.9863763</td><td>Pather Panchali (1955)</td></tr><tr><td>1398</td><td>233</td><td>5.1390734</td><td>Anna (1996)</td></tr><tr><td>1463</td><td>234</td><td>4.213318</td><td>Boys, Les (1997)</td></tr><tr><td>1449</td><td>235</td><td>4.9375405</td><td>Pather Panchali (1955)</td></tr><tr><td>1664</td><td>236</td><td>4.8178415</td><td>8 Heads in a Duffel Bag (1997)</td></tr><tr><td>1643</td><td>237</td><td>4.95278</td><td>Angel Baby (1995)</td></tr><tr><td>272</td><td>238</td><td>4.2003794</td><td>Good Will Hunting (1997)</td></tr><tr><td>1367</td><td>239</td><td>5.2515326</td><td>Faust (1994)</td></tr><tr><td>1512</td><td>240</td><td>5.6496925</td><td>World of Apu, The (Apur Sansar) (1959)</td></tr><tr><td>1367</td><td>241</td><td>4.9805565</td><td>Faust (1994)</td></tr><tr><td>963</td><td>242</td><td>5.3981633</td><td>Some Folks Call It a Sling Blade (1993)</td></tr><tr><td>1398</td><td>243</td><td>4.5583386</td><td>Anna (1996)</td></tr><tr><td>1449</td><td>244</td><td>5.2079268</td><td>Pather Panchali (1955)</td></tr><tr><td>867</td><td>245</td><td>4.5817184</td><td>Whole Wide World, The (1996)</td></tr><tr><td>853</td><td>246</td><td>4.5069785</td><td>Braindead (1992)</td></tr><tr><td>1467</td><td>247</td><td>4.6778374</td><td>Saint of Fort Washington, The (1993)</td></tr><tr><td>1589</td><td>248</td><td>4.6764483</td><td>Schizopolis (1996)</td></tr><tr><td>1449</td><td>249</td><td>5.5891623</td><td>Pather Panchali (1955)</td></tr><tr><td>1642</td><td>250</td><td>5.0630436</td><td>Some Mother's Son (1996)</td></tr><tr><td>1467</td><td>251</td><td>5.0832014</td><td>Saint of Fort Washington, The (1993)</td></tr><tr><td>1449</td><td>252</td><td>5.6646476</td><td>Pather Panchali (1955)</td></tr><tr><td>1450</td><td>253</td><td>5.083769</td><td>Golden Earrings (1947)</td></tr><tr><td>1450</td><td>254</td><td>4.161913</td><td>Golden Earrings (1947)</td></tr><tr><td>56</td><td>255</td><td>4.269513</td><td>Pulp Fiction (1994)</td></tr><tr><td>1019</td><td>256</td><td>5.174077</td><td>Die xue shuang xiong (Killer, The) (1989)</td></tr><tr><td>1642</td><td>257</td><td>5.2965727</td><td>Some Mother's Son (1996)</td></tr><tr><td>313</td><td>258</td><td>4.629779</td><td>Titanic (1997)</td></tr><tr><td>1449</td><td>259</td><td>5.0810285</td><td>Pather Panchali (1955)</td></tr><tr><td>1159</td><td>260</td><td>6.2368345</td><td>Stalker (1979)</td></tr><tr><td>958</td><td>261</td><td>5.9178104</td><td>To Live (Huozhe) (1994)</td></tr><tr><td>1642</td><td>262</td><td>4.312789</td><td>Some Mother's Son (1996)</td></tr><tr><td>1463</td><td>263</td><td>5.0693383</td><td>Boys, Les (1997)</td></tr><tr><td>1449</td><td>264</td><td>5.4351482</td><td>Pather Panchali (1955)</td></tr><tr><td>1294</td><td>265</td><td>5.058833</td><td>Ayn Rand: A Sense of Life (1997)</td></tr><tr><td>1463</td><td>266</td><td>4.6353664</td><td>Boys, Les (1997)</td></tr><tr><td>1449</td><td>267</td><td>5.4976716</td><td>Pather Panchali (1955)</td></tr><tr><td>1449</td><td>268</td><td>4.4009614</td><td>Pather Panchali (1955)</td></tr><tr><td>320</td><td>269</td><td>4.975392</td><td>Paradise Lost: The Child Murders at Robin Hood Hills (1996)</td></tr><tr><td>958</td><td>270</td><td>5.941681</td><td>To Live (Huozhe) (1994)</td></tr><tr><td>1463</td><td>271</td><td>5.0569687</td><td>Boys, Les (1997)</td></tr><tr><td>1449</td><td>272</td><td>5.364543</td><td>Pather Panchali (1955)</td></tr><tr><td>320</td><td>273</td><td>4.6496167</td><td>Paradise Lost: The Child Murders at Robin Hood Hills (1996)</td></tr><tr><td>1643</td><td>274</td><td>5.762611</td><td>Angel Baby (1995)</td></tr><tr><td>1467</td><td>275</td><td>3.811229</td><td>Saint of Fort Washington, The (1993)</td></tr><tr><td>1467</td><td>276</td><td>5.0433955</td><td>Saint of Fort Washington, The (1993)</td></tr><tr><td>1643</td><td>277</td><td>4.9893913</td><td>Angel Baby (1995)</td></tr><tr><td>1463</td><td>278</td><td>5.41461</td><td>Boys, Les (1997)</td></tr><tr><td>1242</td><td>279</td><td>5.3497677</td><td>Old Lady Who Walked in the Sea, The (Vieille qui marchait dans la mer, La) (1991)</td></tr><tr><td>1642</td><td>280</td><td>4.9853077</td><td>Some Mother's Son (1996)</td></tr><tr><td>913</td><td>281</td><td>5.289418</td><td>Love and Death on Long Island (1997)</td></tr><tr><td>958</td><td>282</td><td>4.9332094</td><td>To Live (Huozhe) (1994)</td></tr><tr><td>1449</td><td>283</td><td>5.4362764</td><td>Pather Panchali (1955)</td></tr><tr><td>1449</td><td>284</td><td>4.9310775</td><td>Pather Panchali (1955)</td></tr><tr><td>1589</td><td>285</td><td>4.854863</td><td>Schizopolis (1996)</td></tr><tr><td>958</td><td>286</td><td>5.265323</td><td>To Live (Huozhe) (1994)</td></tr><tr><td>1643</td><td>287</td><td>5.982003</td><td>Angel Baby (1995)</td></tr><tr><td>1463</td><td>288</td><td>5.1576242</td><td>Boys, Les (1997)</td></tr><tr><td>1643</td><td>289</td><td>4.706852</td><td>Angel Baby (1995)</td></tr><tr><td>1450</td><td>290</td><td>4.2442093</td><td>Golden Earrings (1947)</td></tr><tr><td>1449</td><td>291</td><td>5.454462</td><td>Pather Panchali (1955)</td></tr><tr><td>1463</td><td>292</td><td>5.4858336</td><td>Boys, Les (1997)</td></tr><tr><td>1463</td><td>293</td><td>4.466893</td><td>Boys, Les (1997)</td></tr><tr><td>1467</td><td>294</td><td>4.866977</td><td>Saint of Fort Washington, The (1993)</td></tr><tr><td>1642</td><td>295</td><td>5.589449</td><td>Some Mother's Son (1996)</td></tr><tr><td>1463</td><td>296</td><td>5.432382</td><td>Boys, Les (1997)</td></tr><tr><td>1449</td><td>297</td><td>4.569956</td><td>Pather Panchali (1955)</td></tr><tr><td>1467</td><td>298</td><td>4.874468</td><td>Saint of Fort Washington, The (1993)</td></tr><tr><td>1463</td><td>299</td><td>4.605769</td><td>Boys, Les (1997)</td></tr><tr><td>74</td><td>300</td><td>5.1442733</td><td>Faster Pussycat! Kill! Kill! (1965)</td></tr><tr><td>1467</td><td>301</td><td>4.679347</td><td>Saint of Fort Washington, The (1993)</td></tr><tr><td>1449</td><td>302</td><td>3.679666</td><td>Pather Panchali (1955)</td></tr><tr><td>1463</td><td>303</td><td>5.251484</td><td>Boys, Les (1997)</td></tr><tr><td>1294</td><td>304</td><td>4.3353887</td><td>Ayn Rand: A Sense of Life (1997)</td></tr><tr><td>1463</td><td>305</td><td>4.619226</td><td>Boys, Les (1997)</td></tr><tr><td>1449</td><td>306</td><td>5.5159764</td><td>Pather Panchali (1955)</td></tr><tr><td>408</td><td>307</td><td>4.947262</td><td>Close Shave, A (1995)</td></tr><tr><td>1449</td><td>308</td><td>4.93805</td><td>Pather Panchali (1955)</td></tr><tr><td>867</td><td>309</td><td>5.1445627</td><td>Whole Wide World, The (1996)</td></tr><tr><td>884</td><td>310</td><td>5.778944</td><td>Year of the Horse (1997)</td></tr><tr><td>1450</td><td>311</td><td>4.651053</td><td>Golden Earrings (1947)</td></tr><tr><td>1642</td><td>312</td><td>5.2535195</td><td>Some Mother's Son (1996)</td></tr><tr><td>1463</td><td>313</td><td>4.8428326</td><td>Boys, Les (1997)</td></tr><tr><td>313</td><td>314</td><td>4.8976192</td><td>Titanic (1997)</td></tr><tr><td>1449</td><td>315</td><td>5.1169844</td><td>Pather Panchali (1955)</td></tr><tr><td>884</td><td>316</td><td>4.767702</td><td>Year of the Horse (1997)</td></tr><tr><td>1589</td><td>317</td><td>4.761322</td><td>Schizopolis (1996)</td></tr><tr><td>1664</td><td>318</td><td>5.1544223</td><td>8 Heads in a Duffel Bag (1997)</td></tr><tr><td>1643</td><td>319</td><td>4.858437</td><td>Angel Baby (1995)</td></tr><tr><td>1467</td><td>320</td><td>4.893185</td><td>Saint of Fort Washington, The (1993)</td></tr><tr><td>1463</td><td>321</td><td>4.4441266</td><td>Boys, Les (1997)</td></tr><tr><td>1449</td><td>322</td><td>5.051409</td><td>Pather Panchali (1955)</td></tr><tr><td>1463</td><td>323</td><td>5.042288</td><td>Boys, Les (1997)</td></tr><tr><td>1650</td><td>324</td><td>5.49804</td><td>Butcher Boy, The (1998)</td></tr><tr><td>1643</td><td>325</td><td>5.0369463</td><td>Angel Baby (1995)</td></tr><tr><td>1450</td><td>326</td><td>4.525528</td><td>Golden Earrings (1947)</td></tr><tr><td>1449</td><td>327</td><td>4.424332</td><td>Pather Panchali (1955)</td></tr><tr><td>1450</td><td>328</td><td>4.528016</td><td>Golden Earrings (1947)</td></tr><tr><td>1463</td><td>329</td><td>4.5725007</td><td>Boys, Les (1997)</td></tr><tr><td>1064</td><td>330</td><td>5.440488</td><td>Crossfire (1947)</td></tr><tr><td>320</td><td>331</td><td>5.0920334</td><td>Paradise Lost: The Child Murders at Robin Hood Hills (1996)</td></tr><tr><td>1467</td><td>332</td><td>5.4151406</td><td>Saint of Fort Washington, The (1993)</td></tr><tr><td>1278</td><td>333</td><td>5.091696</td><td>Selena (1997)</td></tr><tr><td>1449</td><td>334</td><td>4.827071</td><td>Pather Panchali (1955)</td></tr><tr><td>899</td><td>335</td><td>5.0964746</td><td>Winter Guest, The (1997)</td></tr><tr><td>1463</td><td>336</td><td>4.896067</td><td>Boys, Les (1997)</td></tr><tr><td>867</td><td>337</td><td>5.025784</td><td>Whole Wide World, The (1996)</td></tr><tr><td>1643</td><td>338</td><td>5.078553</td><td>Angel Baby (1995)</td></tr><tr><td>1449</td><td>339</td><td>5.3945065</td><td>Pather Panchali (1955)</td></tr><tr><td>22</td><td>340</td><td>4.977241</td><td>Braveheart (1995)</td></tr><tr><td>1159</td><td>341</td><td>6.130686</td><td>Stalker (1979)</td></tr><tr><td>1085</td><td>342</td><td>4.8146534</td><td>Carried Away (1996)</td></tr><tr><td>1449</td><td>343</td><td>5.3742228</td><td>Pather Panchali (1955)</td></tr><tr><td>1449</td><td>344</td><td>5.0064087</td><td>Pather Panchali (1955)</td></tr><tr><td>1449</td><td>345</td><td>5.0242953</td><td>Pather Panchali (1955)</td></tr><tr><td>1643</td><td>346</td><td>5.0079207</td><td>Angel Baby (1995)</td></tr><tr><td>1467</td><td>347</td><td>4.9928813</td><td>Saint of Fort Washington, The (1993)</td></tr><tr><td>1293</td><td>348</td><td>4.926241</td><td>Star Kid (1997)</td></tr><tr><td>884</td><td>349</td><td>4.9115596</td><td>Year of the Horse (1997)</td></tr><tr><td>1463</td><td>350</td><td>5.3685927</td><td>Boys, Les (1997)</td></tr><tr><td>867</td><td>351</td><td>5.4322615</td><td>Whole Wide World, The (1996)</td></tr><tr><td>313</td><td>352</td><td>4.5925756</td><td>Titanic (1997)</td></tr><tr><td>1642</td><td>353</td><td>5.035967</td><td>Some Mother's Son (1996)</td></tr><tr><td>1449</td><td>354</td><td>4.7401195</td><td>Pather Panchali (1955)</td></tr><tr><td>1642</td><td>355</td><td>5.512414</td><td>Some Mother's Son (1996)</td></tr><tr><td>1643</td><td>356</td><td>5.317611</td><td>Angel Baby (1995)</td></tr><tr><td>1467</td><td>357</td><td>5.78206</td><td>Saint of Fort Washington, The (1993)</td></tr><tr><td>1558</td><td>358</td><td>4.878001</td><td>Aparajito (1956)</td></tr><tr><td>1467</td><td>359</td><td>5.0982585</td><td>Saint of Fort Washington, The (1993)</td></tr><tr><td>1463</td><td>360</td><td>5.0258408</td><td>Boys, Les (1997)</td></tr><tr><td>1463</td><td>361</td><td>4.990627</td><td>Boys, Les (1997)</td></tr><tr><td>1233</td><td>362</td><td>5.637231</td><td>N�nette et Boni (1996)</td></tr><tr><td>1643</td><td>363</td><td>4.803981</td><td>Angel Baby (1995)</td></tr><tr><td>1650</td><td>364</td><td>5.038417</td><td>Butcher Boy, The (1998)</td></tr><tr><td>1642</td><td>365</td><td>4.712802</td><td>Some Mother's Son (1996)</td></tr><tr><td>320</td><td>366</td><td>6.341165</td><td>Paradise Lost: The Child Murders at Robin Hood Hills (1996)</td></tr><tr><td>1467</td><td>367</td><td>5.3883824</td><td>Saint of Fort Washington, The (1993)</td></tr><tr><td>1589</td><td>368</td><td>5.0379686</td><td>Schizopolis (1996)</td></tr><tr><td>1467</td><td>369</td><td>5.28804</td><td>Saint of Fort Washington, The (1993)</td></tr><tr><td>1463</td><td>370</td><td>4.6696243</td><td>Boys, Les (1997)</td></tr><tr><td>313</td><td>371</td><td>4.7772484</td><td>Titanic (1997)</td></tr><tr><td>320</td><td>372</td><td>5.7982545</td><td>Paradise Lost: The Child Murders at Robin Hood Hills (1996)</td></tr><tr><td>1467</td><td>373</td><td>4.648451</td><td>Saint of Fort Washington, The (1993)</td></tr><tr><td>313</td><td>374</td><td>4.553256</td><td>Titanic (1997)</td></tr><tr><td>1467</td><td>375</td><td>4.7258034</td><td>Saint of Fort Washington, The (1993)</td></tr><tr><td>1463</td><td>376</td><td>4.8112836</td><td>Boys, Les (1997)</td></tr><tr><td>1467</td><td>377</td><td>5.0283237</td><td>Saint of Fort Washington, The (1993)</td></tr><tr><td>1642</td><td>378</td><td>4.5939865</td><td>Some Mother's Son (1996)</td></tr><tr><td>1449</td><td>379</td><td>5.218092</td><td>Pather Panchali (1955)</td></tr><tr><td>408</td><td>380</td><td>4.0739684</td><td>Close Shave, A (1995)</td></tr><tr><td>320</td><td>381</td><td>5.2839274</td><td>Paradise Lost: The Child Murders at Robin Hood Hills (1996)</td></tr><tr><td>74</td><td>382</td><td>4.836979</td><td>Faster Pussycat! Kill! Kill! (1965)</td></tr><tr><td>1449</td><td>383</td><td>5.283182</td><td>Pather Panchali (1955)</td></tr><tr><td>1064</td><td>384</td><td>5.294648</td><td>Crossfire (1947)</td></tr><tr><td>1536</td><td>385</td><td>4.819392</td><td>Aiqing wansui (1994)</td></tr><tr><td>272</td><td>386</td><td>4.838547</td><td>Good Will Hunting (1997)</td></tr><tr><td>1449</td><td>387</td><td>4.6927705</td><td>Pather Panchali (1955)</td></tr><tr><td>817</td><td>388</td><td>5.52598</td><td>Frisk (1995)</td></tr><tr><td>1449</td><td>389</td><td>4.9880595</td><td>Pather Panchali (1955)</td></tr><tr><td>1066</td><td>390</td><td>5.0870028</td><td>Balto (1995)</td></tr><tr><td>1643</td><td>391</td><td>4.8853736</td><td>Angel Baby (1995)</td></tr><tr><td>1449</td><td>392</td><td>5.208146</td><td>Pather Panchali (1955)</td></tr><tr><td>958</td><td>393</td><td>4.3193455</td><td>To Live (Huozhe) (1994)</td></tr><tr><td>1467</td><td>394</td><td>5.1687846</td><td>Saint of Fort Washington, The (1993)</td></tr><tr><td>1450</td><td>395</td><td>4.979383</td><td>Golden Earrings (1947)</td></tr><tr><td>1294</td><td>396</td><td>4.3874426</td><td>Ayn Rand: A Sense of Life (1997)</td></tr><tr><td>1463</td><td>397</td><td>5.21801</td><td>Boys, Les (1997)</td></tr><tr><td>1450</td><td>398</td><td>4.813204</td><td>Golden Earrings (1947)</td></tr><tr><td>1642</td><td>399</td><td>3.9074287</td><td>Some Mother's Son (1996)</td></tr><tr><td>1642</td><td>400</td><td>4.736003</td><td>Some Mother's Son (1996)</td></tr><tr><td>1664</td><td>401</td><td>4.390838</td><td>8 Heads in a Duffel Bag (1997)</td></tr><tr><td>1450</td><td>402</td><td>4.9098253</td><td>Golden Earrings (1947)</td></tr><tr><td>1467</td><td>403</td><td>4.9542294</td><td>Saint of Fort Washington, The (1993)</td></tr><tr><td>1589</td><td>404</td><td>4.9791603</td><td>Schizopolis (1996)</td></tr><tr><td>1554</td><td>405</td><td>3.725391</td><td>Safe Passage (1994)</td></tr><tr><td>1449</td><td>406</td><td>4.570929</td><td>Pather Panchali (1955)</td></tr><tr><td>1467</td><td>407</td><td>4.6197405</td><td>Saint of Fort Washington, The (1993)</td></tr><tr><td>958</td><td>408</td><td>5.35426</td><td>To Live (Huozhe) (1994)</td></tr><tr><td>1463</td><td>409</td><td>4.884116</td><td>Boys, Les (1997)</td></tr><tr><td>913</td><td>410</td><td>4.142685</td><td>Love and Death on Long Island (1997)</td></tr><tr><td>1467</td><td>411</td><td>4.580336</td><td>Saint of Fort Washington, The (1993)</td></tr><tr><td>1467</td><td>412</td><td>4.85253</td><td>Saint of Fort Washington, The (1993)</td></tr><tr><td>1463</td><td>413</td><td>5.0369368</td><td>Boys, Les (1997)</td></tr><tr><td>1449</td><td>414</td><td>5.582295</td><td>Pather Panchali (1955)</td></tr><tr><td>1643</td><td>415</td><td>5.501584</td><td>Angel Baby (1995)</td></tr><tr><td>1450</td><td>416</td><td>5.170796</td><td>Golden Earrings (1947)</td></tr><tr><td>1467</td><td>417</td><td>4.448923</td><td>Saint of Fort Washington, The (1993)</td></tr><tr><td>854</td><td>418</td><td>5.2000823</td><td>Bad Taste (1987)</td></tr><tr><td>1463</td><td>419</td><td>5.3945894</td><td>Boys, Les (1997)</td></tr><tr><td>1558</td><td>420</td><td>5.074907</td><td>Aparajito (1956)</td></tr><tr><td>1589</td><td>421</td><td>4.7106276</td><td>Schizopolis (1996)</td></tr><tr><td>1642</td><td>422</td><td>4.7324243</td><td>Some Mother's Son (1996)</td></tr><tr><td>1642</td><td>423</td><td>4.8841515</td><td>Some Mother's Son (1996)</td></tr><tr><td>913</td><td>424</td><td>5.5074377</td><td>Love and Death on Long Island (1997)</td></tr><tr><td>1449</td><td>425</td><td>4.119</td><td>Pather Panchali (1955)</td></tr><tr><td>1643</td><td>426</td><td>4.643489</td><td>Angel Baby (1995)</td></tr><tr><td>1159</td><td>427</td><td>6.881821</td><td>Stalker (1979)</td></tr><tr><td>1064</td><td>428</td><td>5.002741</td><td>Crossfire (1947)</td></tr><tr><td>1463</td><td>429</td><td>4.7399335</td><td>Boys, Les (1997)</td></tr><tr><td>1449</td><td>430</td><td>4.746925</td><td>Pather Panchali (1955)</td></tr><tr><td>1192</td><td>431</td><td>4.319911</td><td>Boys of St. Vincent, The (1993)</td></tr><tr><td>1463</td><td>432</td><td>5.002988</td><td>Boys, Les (1997)</td></tr><tr><td>1463</td><td>433</td><td>5.330138</td><td>Boys, Les (1997)</td></tr><tr><td>1102</td><td>434</td><td>5.145795</td><td>Two Much (1996)</td></tr><tr><td>1467</td><td>435</td><td>4.616206</td><td>Saint of Fort Washington, The (1993)</td></tr><tr><td>1467</td><td>436</td><td>4.871457</td><td>Saint of Fort Washington, The (1993)</td></tr><tr><td>1599</td><td>437</td><td>4.8332057</td><td>Someone Else's America (1995)</td></tr><tr><td>1064</td><td>438</td><td>5.1222606</td><td>Crossfire (1947)</td></tr><tr><td>1449</td><td>439</td><td>4.6426635</td><td>Pather Panchali (1955)</td></tr><tr><td>320</td><td>440</td><td>5.828365</td><td>Paradise Lost: The Child Murders at Robin Hood Hills (1996)</td></tr><tr><td>169</td><td>441</td><td>4.6776457</td><td>Wrong Trousers, The (1993)</td></tr><tr><td>1467</td><td>442</td><td>4.3316236</td><td>Saint of Fort Washington, The (1993)</td></tr><tr><td>1589</td><td>443</td><td>5.06334</td><td>Schizopolis (1996)</td></tr><tr><td>1467</td><td>444</td><td>5.032655</td><td>Saint of Fort Washington, The (1993)</td></tr><tr><td>1463</td><td>445</td><td>3.2810347</td><td>Boys, Les (1997)</td></tr><tr><td>1449</td><td>446</td><td>3.9395912</td><td>Pather Panchali (1955)</td></tr><tr><td>1467</td><td>447</td><td>4.8124685</td><td>Saint of Fort Washington, The (1993)</td></tr><tr><td>958</td><td>448</td><td>4.8395066</td><td>To Live (Huozhe) (1994)</td></tr><tr><td>320</td><td>449</td><td>5.5266185</td><td>Paradise Lost: The Child Murders at Robin Hood Hills (1996)</td></tr><tr><td>1450</td><td>450</td><td>4.8953867</td><td>Golden Earrings (1947)</td></tr><tr><td>913</td><td>451</td><td>5.064643</td><td>Love and Death on Long Island (1997)</td></tr><tr><td>1233</td><td>452</td><td>4.4156733</td><td>N�nette et Boni (1996)</td></tr><tr><td>1463</td><td>453</td><td>4.6519365</td><td>Boys, Les (1997)</td></tr><tr><td>313</td><td>454</td><td>3.8361447</td><td>Titanic (1997)</td></tr><tr><td>1467</td><td>455</td><td>4.3842907</td><td>Saint of Fort Washington, The (1993)</td></tr><tr><td>1449</td><td>456</td><td>4.8281274</td><td>Pather Panchali (1955)</td></tr><tr><td>1467</td><td>457</td><td>5.4098034</td><td>Saint of Fort Washington, The (1993)</td></tr><tr><td>1463</td><td>458</td><td>4.771856</td><td>Boys, Les (1997)</td></tr><tr><td>1467</td><td>459</td><td>4.4156</td><td>Saint of Fort Washington, The (1993)</td></tr><tr><td>1463</td><td>460</td><td>4.8024874</td><td>Boys, Les (1997)</td></tr><tr><td>1463</td><td>461</td><td>4.565559</td><td>Boys, Les (1997)</td></tr><tr><td>313</td><td>462</td><td>5.3367085</td><td>Titanic (1997)</td></tr><tr><td>320</td><td>463</td><td>4.041382</td><td>Paradise Lost: The Child Murders at Robin Hood Hills (1996)</td></tr><tr><td>1449</td><td>464</td><td>5.517928</td><td>Pather Panchali (1955)</td></tr><tr><td>1642</td><td>465</td><td>4.0357714</td><td>Some Mother's Son (1996)</td></tr><tr><td>1643</td><td>466</td><td>4.626074</td><td>Angel Baby (1995)</td></tr><tr><td>320</td><td>467</td><td>5.173283</td><td>Paradise Lost: The Child Murders at Robin Hood Hills (1996)</td></tr><tr><td>1449</td><td>468</td><td>5.026994</td><td>Pather Panchali (1955)</td></tr><tr><td>1463</td><td>469</td><td>5.2887144</td><td>Boys, Les (1997)</td></tr><tr><td>1449</td><td>470</td><td>4.591573</td><td>Pather Panchali (1955)</td></tr><tr><td>1427</td><td>471</td><td>5.266494</td><td>Drunks (1995)</td></tr><tr><td>958</td><td>472</td><td>5.8279886</td><td>To Live (Huozhe) (1994)</td></tr><tr><td>1643</td><td>473</td><td>4.933793</td><td>Angel Baby (1995)</td></tr><tr><td>1463</td><td>474</td><td>5.2912974</td><td>Boys, Les (1997)</td></tr><tr><td>320</td><td>475</td><td>5.361097</td><td>Paradise Lost: The Child Murders at Robin Hood Hills (1996)</td></tr><tr><td>1467</td><td>476</td><td>4.9850216</td><td>Saint of Fort Washington, The (1993)</td></tr><tr><td>1064</td><td>477</td><td>5.6001296</td><td>Crossfire (1947)</td></tr><tr><td>1463</td><td>478</td><td>4.8988304</td><td>Boys, Les (1997)</td></tr><tr><td>1467</td><td>479</td><td>4.6781645</td><td>Saint of Fort Washington, The (1993)</td></tr><tr><td>1463</td><td>480</td><td>4.6875744</td><td>Boys, Les (1997)</td></tr><tr><td>408</td><td>481</td><td>4.6985283</td><td>Close Shave, A (1995)</td></tr><tr><td>1064</td><td>482</td><td>4.411118</td><td>Crossfire (1947)</td></tr><tr><td>1242</td><td>483</td><td>4.0030565</td><td>Old Lady Who Walked in the Sea, The (Vieille qui marchait dans la mer, La) (1991)</td></tr><tr><td>1450</td><td>484</td><td>5.0568833</td><td>Golden Earrings (1947)</td></tr><tr><td>320</td><td>485</td><td>5.153249</td><td>Paradise Lost: The Child Murders at Robin Hood Hills (1996)</td></tr><tr><td>1449</td><td>486</td><td>4.6275754</td><td>Pather Panchali (1955)</td></tr><tr><td>1467</td><td>487</td><td>4.929311</td><td>Saint of Fort Washington, The (1993)</td></tr><tr><td>1450</td><td>488</td><td>4.0903444</td><td>Golden Earrings (1947)</td></tr><tr><td>1664</td><td>489</td><td>5.0761986</td><td>8 Heads in a Duffel Bag (1997)</td></tr><tr><td>1368</td><td>490</td><td>4.3436904</td><td>Mina Tannenbaum (1994)</td></tr><tr><td>1643</td><td>491</td><td>5.1298003</td><td>Angel Baby (1995)</td></tr><tr><td>1463</td><td>492</td><td>4.5125227</td><td>Boys, Les (1997)</td></tr><tr><td>1467</td><td>493</td><td>4.9065824</td><td>Saint of Fort Washington, The (1993)</td></tr><tr><td>1463</td><td>494</td><td>5.049965</td><td>Boys, Les (1997)</td></tr><tr><td>1643</td><td>495</td><td>5.97225</td><td>Angel Baby (1995)</td></tr><tr><td>320</td><td>496</td><td>4.8275876</td><td>Paradise Lost: The Child Murders at Robin Hood Hills (1996)</td></tr><tr><td>1467</td><td>497</td><td>4.320733</td><td>Saint of Fort Washington, The (1993)</td></tr><tr><td>1449</td><td>498</td><td>4.3127995</td><td>Pather Panchali (1955)</td></tr><tr><td>1449</td><td>499</td><td>4.667438</td><td>Pather Panchali (1955)</td></tr><tr><td>1449</td><td>500</td><td>4.830404</td><td>Pather Panchali (1955)</td></tr><tr><td>1449</td><td>501</td><td>5.2077346</td><td>Pather Panchali (1955)</td></tr><tr><td>914</td><td>502</td><td>4.3901796</td><td>Wild Things (1998)</td></tr><tr><td>1449</td><td>503</td><td>5.1756277</td><td>Pather Panchali (1955)</td></tr><tr><td>1642</td><td>504</td><td>4.6913314</td><td>Some Mother's Son (1996)</td></tr><tr><td>1664</td><td>505</td><td>4.4342127</td><td>8 Heads in a Duffel Bag (1997)</td></tr><tr><td>1450</td><td>506</td><td>4.7908397</td><td>Golden Earrings (1947)</td></tr><tr><td>817</td><td>507</td><td>5.873743</td><td>Frisk (1995)</td></tr><tr><td>1449</td><td>508</td><td>5.0624213</td><td>Pather Panchali (1955)</td></tr><tr><td>1154</td><td>509</td><td>4.2547917</td><td>Alphaville (1965)</td></tr><tr><td>313</td><td>510</td><td>4.158151</td><td>Titanic (1997)</td></tr><tr><td>1664</td><td>511</td><td>5.3381257</td><td>8 Heads in a Duffel Bag (1997)</td></tr><tr><td>1463</td><td>512</td><td>5.743197</td><td>Boys, Les (1997)</td></tr><tr><td>313</td><td>513</td><td>5.145142</td><td>Titanic (1997)</td></tr><tr><td>1467</td><td>514</td><td>4.9102936</td><td>Saint of Fort Washington, The (1993)</td></tr><tr><td>817</td><td>515</td><td>4.266796</td><td>Frisk (1995)</td></tr><tr><td>958</td><td>516</td><td>5.4936075</td><td>To Live (Huozhe) (1994)</td></tr><tr><td>1377</td><td>517</td><td>4.9840508</td><td>Hotel de Love (1996)</td></tr><tr><td>867</td><td>518</td><td>5.3923306</td><td>Whole Wide World, The (1996)</td></tr><tr><td>320</td><td>519</td><td>6.4034605</td><td>Paradise Lost: The Child Murders at Robin Hood Hills (1996)</td></tr><tr><td>1233</td><td>520</td><td>4.904966</td><td>N�nette et Boni (1996)</td></tr><tr><td>1467</td><td>521</td><td>4.205856</td><td>Saint of Fort Washington, The (1993)</td></tr><tr><td>1463</td><td>522</td><td>5.2035766</td><td>Boys, Les (1997)</td></tr><tr><td>1642</td><td>523</td><td>5.4468584</td><td>Some Mother's Son (1996)</td></tr><tr><td>320</td><td>524</td><td>4.8191857</td><td>Paradise Lost: The Child Murders at Robin Hood Hills (1996)</td></tr><tr><td>1467</td><td>525</td><td>4.461086</td><td>Saint of Fort Washington, The (1993)</td></tr><tr><td>1463</td><td>526</td><td>4.98891</td><td>Boys, Les (1997)</td></tr><tr><td>1449</td><td>527</td><td>4.783865</td><td>Pather Panchali (1955)</td></tr><tr><td>1467</td><td>528</td><td>5.0578656</td><td>Saint of Fort Washington, The (1993)</td></tr><tr><td>1242</td><td>529</td><td>5.049363</td><td>Old Lady Who Walked in the Sea, The (Vieille qui marchait dans la mer, La) (1991)</td></tr><tr><td>1642</td><td>530</td><td>4.9441557</td><td>Some Mother's Son (1996)</td></tr><tr><td>867</td><td>531</td><td>5.8091426</td><td>Whole Wide World, The (1996)</td></tr><tr><td>1467</td><td>532</td><td>5.524206</td><td>Saint of Fort Washington, The (1993)</td></tr><tr><td>1450</td><td>533</td><td>4.5311923</td><td>Golden Earrings (1947)</td></tr><tr><td>1643</td><td>534</td><td>5.7305956</td><td>Angel Baby (1995)</td></tr><tr><td>1642</td><td>535</td><td>4.912015</td><td>Some Mother's Son (1996)</td></tr><tr><td>1450</td><td>536</td><td>4.8349385</td><td>Golden Earrings (1947)</td></tr><tr><td>1463</td><td>537</td><td>4.2248926</td><td>Boys, Les (1997)</td></tr><tr><td>1450</td><td>538</td><td>4.356622</td><td>Golden Earrings (1947)</td></tr><tr><td>1242</td><td>539</td><td>5.379808</td><td>Old Lady Who Walked in the Sea, The (Vieille qui marchait dans la mer, La) (1991)</td></tr><tr><td>1467</td><td>540</td><td>4.8127923</td><td>Saint of Fort Washington, The (1993)</td></tr><tr><td>1278</td><td>541</td><td>4.706195</td><td>Selena (1997)</td></tr><tr><td>1449</td><td>542</td><td>4.6319466</td><td>Pather Panchali (1955)</td></tr><tr><td>1643</td><td>543</td><td>4.6601315</td><td>Angel Baby (1995)</td></tr><tr><td>1643</td><td>544</td><td>4.2005043</td><td>Angel Baby (1995)</td></tr><tr><td>1467</td><td>545</td><td>4.5821095</td><td>Saint of Fort Washington, The (1993)</td></tr><tr><td>958</td><td>546</td><td>5.6162395</td><td>To Live (Huozhe) (1994)</td></tr><tr><td>1643</td><td>547</td><td>5.432609</td><td>Angel Baby (1995)</td></tr><tr><td>1643</td><td>548</td><td>5.524416</td><td>Angel Baby (1995)</td></tr><tr><td>1467</td><td>549</td><td>5.085197</td><td>Saint of Fort Washington, The (1993)</td></tr><tr><td>1192</td><td>550</td><td>5.1930733</td><td>Boys of St. Vincent, The (1993)</td></tr><tr><td>1463</td><td>551</td><td>5.1998706</td><td>Boys, Les (1997)</td></tr><tr><td>958</td><td>552</td><td>4.203767</td><td>To Live (Huozhe) (1994)</td></tr><tr><td>1463</td><td>553</td><td>4.990817</td><td>Boys, Les (1997)</td></tr><tr><td>1467</td><td>554</td><td>4.457288</td><td>Saint of Fort Washington, The (1993)</td></tr><tr><td>1642</td><td>555</td><td>5.2985854</td><td>Some Mother's Son (1996)</td></tr><tr><td>1463</td><td>556</td><td>5.4183693</td><td>Boys, Les (1997)</td></tr><tr><td>1643</td><td>557</td><td>5.2807627</td><td>Angel Baby (1995)</td></tr><tr><td>320</td><td>558</td><td>5.960811</td><td>Paradise Lost: The Child Murders at Robin Hood Hills (1996)</td></tr><tr><td>1643</td><td>559</td><td>5.185956</td><td>Angel Baby (1995)</td></tr><tr><td>1449</td><td>560</td><td>4.609938</td><td>Pather Panchali (1955)</td></tr><tr><td>1449</td><td>561</td><td>4.378077</td><td>Pather Panchali (1955)</td></tr><tr><td>1664</td><td>562</td><td>5.119821</td><td>8 Heads in a Duffel Bag (1997)</td></tr><tr><td>1467</td><td>563</td><td>5.0576572</td><td>Saint of Fort Washington, The (1993)</td></tr><tr><td>1467</td><td>564</td><td>4.1970525</td><td>Saint of Fort Washington, The (1993)</td></tr><tr><td>320</td><td>565</td><td>5.707348</td><td>Paradise Lost: The Child Murders at Robin Hood Hills (1996)</td></tr><tr><td>1449</td><td>566</td><td>4.886781</td><td>Pather Panchali (1955)</td></tr><tr><td>1449</td><td>567</td><td>5.1037135</td><td>Pather Panchali (1955)</td></tr><tr><td>1463</td><td>568</td><td>4.624815</td><td>Boys, Les (1997)</td></tr><tr><td>1398</td><td>569</td><td>4.779925</td><td>Anna (1996)</td></tr><tr><td>1463</td><td>570</td><td>5.0833683</td><td>Boys, Les (1997)</td></tr><tr><td>1463</td><td>571</td><td>4.3499985</td><td>Boys, Les (1997)</td></tr><tr><td>408</td><td>572</td><td>4.694295</td><td>Close Shave, A (1995)</td></tr><tr><td>1449</td><td>573</td><td>4.5783033</td><td>Pather Panchali (1955)</td></tr><tr><td>1642</td><td>574</td><td>4.884451</td><td>Some Mother's Son (1996)</td></tr><tr><td>1643</td><td>575</td><td>5.531114</td><td>Angel Baby (1995)</td></tr><tr><td>1643</td><td>576</td><td>4.598481</td><td>Angel Baby (1995)</td></tr><tr><td>1450</td><td>577</td><td>4.6582828</td><td>Golden Earrings (1947)</td></tr><tr><td>22</td><td>578</td><td>3.9132285</td><td>Braveheart (1995)</td></tr><tr><td>318</td><td>579</td><td>4.4106164</td><td>Schindler's List (1993)</td></tr><tr><td>1664</td><td>580</td><td>5.394637</td><td>8 Heads in a Duffel Bag (1997)</td></tr><tr><td>1368</td><td>581</td><td>5.3947053</td><td>Mina Tannenbaum (1994)</td></tr><tr><td>1467</td><td>582</td><td>4.8604894</td><td>Saint of Fort Washington, The (1993)</td></tr><tr><td>1449</td><td>583</td><td>5.509114</td><td>Pather Panchali (1955)</td></tr><tr><td>1589</td><td>584</td><td>4.3894234</td><td>Schizopolis (1996)</td></tr><tr><td>1642</td><td>585</td><td>4.744991</td><td>Some Mother's Son (1996)</td></tr><tr><td>1019</td><td>586</td><td>4.161093</td><td>Die xue shuang xiong (Killer, The) (1989)</td></tr><tr><td>854</td><td>587</td><td>4.4912047</td><td>Bad Taste (1987)</td></tr><tr><td>958</td><td>588</td><td>4.8512053</td><td>To Live (Huozhe) (1994)</td></tr><tr><td>899</td><td>589</td><td>5.3752737</td><td>Winter Guest, The (1997)</td></tr><tr><td>320</td><td>590</td><td>4.8354526</td><td>Paradise Lost: The Child Murders at Robin Hood Hills (1996)</td></tr><tr><td>1449</td><td>591</td><td>4.6389976</td><td>Pather Panchali (1955)</td></tr><tr><td>1463</td><td>592</td><td>5.901061</td><td>Boys, Les (1997)</td></tr><tr><td>1643</td><td>593</td><td>4.753749</td><td>Angel Baby (1995)</td></tr><tr><td>1463</td><td>594</td><td>4.4801817</td><td>Boys, Les (1997)</td></tr><tr><td>320</td><td>595</td><td>4.9027467</td><td>Paradise Lost: The Child Murders at Robin Hood Hills (1996)</td></tr><tr><td>313</td><td>596</td><td>4.789964</td><td>Titanic (1997)</td></tr><tr><td>1467</td><td>597</td><td>5.1271267</td><td>Saint of Fort Washington, The (1993)</td></tr><tr><td>867</td><td>598</td><td>5.031552</td><td>Whole Wide World, The (1996)</td></tr><tr><td>1294</td><td>599</td><td>5.124741</td><td>Ayn Rand: A Sense of Life (1997)</td></tr><tr><td>1463</td><td>600</td><td>4.897407</td><td>Boys, Les (1997)</td></tr><tr><td>1643</td><td>601</td><td>5.036165</td><td>Angel Baby (1995)</td></tr><tr><td>1467</td><td>602</td><td>5.0195584</td><td>Saint of Fort Washington, The (1993)</td></tr><tr><td>1154</td><td>603</td><td>4.838217</td><td>Alphaville (1965)</td></tr><tr><td>1472</td><td>604</td><td>4.7661343</td><td>Visitors, The (Visiteurs, Les) (1993)</td></tr><tr><td>1463</td><td>605</td><td>5.380578</td><td>Boys, Les (1997)</td></tr><tr><td>1467</td><td>606</td><td>5.035301</td><td>Saint of Fort Washington, The (1993)</td></tr><tr><td>1463</td><td>607</td><td>4.762909</td><td>Boys, Les (1997)</td></tr><tr><td>1643</td><td>608</td><td>5.1219835</td><td>Angel Baby (1995)</td></tr><tr><td>1512</td><td>609</td><td>4.744542</td><td>World of Apu, The (Apur Sansar) (1959)</td></tr><tr><td>1450</td><td>610</td><td>4.6870413</td><td>Golden Earrings (1947)</td></tr><tr><td>884</td><td>611</td><td>5.2803774</td><td>Year of the Horse (1997)</td></tr><tr><td>1064</td><td>612</td><td>4.3347163</td><td>Crossfire (1947)</td></tr><tr><td>1463</td><td>613</td><td>5.38111</td><td>Boys, Les (1997)</td></tr><tr><td>1154</td><td>614</td><td>4.2370152</td><td>Alphaville (1965)</td></tr><tr><td>1463</td><td>615</td><td>5.4463325</td><td>Boys, Les (1997)</td></tr><tr><td>1064</td><td>616</td><td>4.975394</td><td>Crossfire (1947)</td></tr><tr><td>1159</td><td>617</td><td>4.235835</td><td>Stalker (1979)</td></tr><tr><td>1450</td><td>618</td><td>4.275711</td><td>Golden Earrings (1947)</td></tr><tr><td>313</td><td>619</td><td>4.375969</td><td>Titanic (1997)</td></tr><tr><td>1242</td><td>620</td><td>5.1485357</td><td>Old Lady Who Walked in the Sea, The (Vieille qui marchait dans la mer, La) (1991)</td></tr><tr><td>1467</td><td>621</td><td>5.0585184</td><td>Saint of Fort Washington, The (1993)</td></tr><tr><td>1449</td><td>622</td><td>4.8115873</td><td>Pather Panchali (1955)</td></tr><tr><td>1450</td><td>623</td><td>4.4343567</td><td>Golden Earrings (1947)</td></tr><tr><td>1449</td><td>624</td><td>4.866399</td><td>Pather Panchali (1955)</td></tr><tr><td>1449</td><td>625</td><td>4.312723</td><td>Pather Panchali (1955)</td></tr><tr><td>1463</td><td>626</td><td>4.6356287</td><td>Boys, Les (1997)</td></tr><tr><td>1643</td><td>627</td><td>4.5361595</td><td>Angel Baby (1995)</td></tr><tr><td>1650</td><td>628</td><td>6.0627465</td><td>Butcher Boy, The (1998)</td></tr><tr><td>1450</td><td>629</td><td>5.158693</td><td>Golden Earrings (1947)</td></tr><tr><td>914</td><td>630</td><td>4.31981</td><td>Wild Things (1998)</td></tr><tr><td>1467</td><td>631</td><td>4.6171474</td><td>Saint of Fort Washington, The (1993)</td></tr><tr><td>1467</td><td>632</td><td>4.6063514</td><td>Saint of Fort Washington, The (1993)</td></tr><tr><td>313</td><td>633</td><td>4.01729</td><td>Titanic (1997)</td></tr><tr><td>1019</td><td>634</td><td>4.559131</td><td>Die xue shuang xiong (Killer, The) (1989)</td></tr><tr><td>320</td><td>635</td><td>4.716611</td><td>Paradise Lost: The Child Murders at Robin Hood Hills (1996)</td></tr><tr><td>1019</td><td>636</td><td>5.579207</td><td>Die xue shuang xiong (Killer, The) (1989)</td></tr><tr><td>1233</td><td>637</td><td>4.0909014</td><td>N�nette et Boni (1996)</td></tr><tr><td>1467</td><td>638</td><td>4.4957294</td><td>Saint of Fort Washington, The (1993)</td></tr><tr><td>1463</td><td>639</td><td>4.0780926</td><td>Boys, Les (1997)</td></tr><tr><td>1449</td><td>640</td><td>5.586892</td><td>Pather Panchali (1955)</td></tr><tr><td>1449</td><td>641</td><td>5.06236</td><td>Pather Panchali (1955)</td></tr><tr><td>867</td><td>642</td><td>5.205388</td><td>Whole Wide World, The (1996)</td></tr><tr><td>1449</td><td>643</td><td>4.875098</td><td>Pather Panchali (1955)</td></tr><tr><td>958</td><td>644</td><td>5.2343216</td><td>To Live (Huozhe) (1994)</td></tr><tr><td>1463</td><td>645</td><td>5.3185163</td><td>Boys, Les (1997)</td></tr><tr><td>958</td><td>646</td><td>3.820754</td><td>To Live (Huozhe) (1994)</td></tr><tr><td>1467</td><td>647</td><td>4.690572</td><td>Saint of Fort Washington, The (1993)</td></tr><tr><td>174</td><td>648</td><td>4.563908</td><td>Raiders of the Lost Ark (1981)</td></tr><tr><td>1467</td><td>649</td><td>4.811693</td><td>Saint of Fort Washington, The (1993)</td></tr><tr><td>1449</td><td>650</td><td>4.1518517</td><td>Pather Panchali (1955)</td></tr><tr><td>1463</td><td>651</td><td>5.442863</td><td>Boys, Les (1997)</td></tr><tr><td>1427</td><td>652</td><td>4.1945786</td><td>Drunks (1995)</td></tr><tr><td>1589</td><td>653</td><td>4.005397</td><td>Schizopolis (1996)</td></tr><tr><td>1467</td><td>654</td><td>4.6360373</td><td>Saint of Fort Washington, The (1993)</td></tr><tr><td>320</td><td>655</td><td>3.9068983</td><td>Paradise Lost: The Child Murders at Robin Hood Hills (1996)</td></tr><tr><td>1463</td><td>656</td><td>4.154065</td><td>Boys, Les (1997)</td></tr><tr><td>854</td><td>657</td><td>5.0577383</td><td>Bad Taste (1987)</td></tr><tr><td>1463</td><td>658</td><td>4.7640047</td><td>Boys, Les (1997)</td></tr><tr><td>1064</td><td>659</td><td>4.6383085</td><td>Crossfire (1947)</td></tr><tr><td>408</td><td>660</td><td>3.6887145</td><td>Close Shave, A (1995)</td></tr><tr><td>1463</td><td>661</td><td>4.9731264</td><td>Boys, Les (1997)</td></tr><tr><td>1398</td><td>662</td><td>5.1127777</td><td>Anna (1996)</td></tr><tr><td>1467</td><td>663</td><td>4.6637917</td><td>Saint of Fort Washington, The (1993)</td></tr><tr><td>1463</td><td>664</td><td>5.0742326</td><td>Boys, Les (1997)</td></tr><tr><td>1449</td><td>665</td><td>4.5381293</td><td>Pather Panchali (1955)</td></tr><tr><td>1449</td><td>666</td><td>4.8078737</td><td>Pather Panchali (1955)</td></tr><tr><td>1463</td><td>667</td><td>5.098314</td><td>Boys, Les (1997)</td></tr><tr><td>1589</td><td>668</td><td>5.013232</td><td>Schizopolis (1996)</td></tr><tr><td>1463</td><td>669</td><td>4.5704107</td><td>Boys, Les (1997)</td></tr><tr><td>1064</td><td>670</td><td>4.502068</td><td>Crossfire (1947)</td></tr><tr><td>1467</td><td>671</td><td>4.490041</td><td>Saint of Fort Washington, The (1993)</td></tr><tr><td>958</td><td>672</td><td>5.013419</td><td>To Live (Huozhe) (1994)</td></tr><tr><td>1463</td><td>673</td><td>5.2030225</td><td>Boys, Les (1997)</td></tr><tr><td>1643</td><td>674</td><td>4.408361</td><td>Angel Baby (1995)</td></tr><tr><td>1463</td><td>675</td><td>5.5591984</td><td>Boys, Les (1997)</td></tr><tr><td>173</td><td>676</td><td>4.847726</td><td>Princess Bride, The (1987)</td></tr><tr><td>1019</td><td>677</td><td>5.403023</td><td>Die xue shuang xiong (Killer, The) (1989)</td></tr><tr><td>1643</td><td>678</td><td>4.677577</td><td>Angel Baby (1995)</td></tr><tr><td>1643</td><td>679</td><td>4.9099936</td><td>Angel Baby (1995)</td></tr><tr><td>1449</td><td>680</td><td>4.996877</td><td>Pather Panchali (1955)</td></tr><tr><td>1155</td><td>681</td><td>4.7851386</td><td>Rendezvous in Paris (Rendez-vous de Paris, Les) (1995)</td></tr><tr><td>1467</td><td>682</td><td>4.4038963</td><td>Saint of Fort Washington, The (1993)</td></tr><tr><td>1449</td><td>683</td><td>4.668456</td><td>Pather Panchali (1955)</td></tr><tr><td>1450</td><td>684</td><td>4.3932796</td><td>Golden Earrings (1947)</td></tr><tr><td>1639</td><td>685</td><td>3.0796738</td><td>Bitter Sugar (Azucar Amargo) (1996)</td></tr><tr><td>1643</td><td>686</td><td>5.9100585</td><td>Angel Baby (1995)</td></tr><tr><td>958</td><td>687</td><td>4.792751</td><td>To Live (Huozhe) (1994)</td></tr><tr><td>1664</td><td>688</td><td>6.3561645</td><td>8 Heads in a Duffel Bag (1997)</td></tr><tr><td>1344</td><td>689</td><td>5.1121364</td><td>Story of Xinghua, The (1993)</td></tr><tr><td>1294</td><td>690</td><td>4.0731883</td><td>Ayn Rand: A Sense of Life (1997)</td></tr><tr><td>1643</td><td>691</td><td>6.077527</td><td>Angel Baby (1995)</td></tr><tr><td>320</td><td>692</td><td>4.8304176</td><td>Paradise Lost: The Child Murders at Robin Hood Hills (1996)</td></tr><tr><td>320</td><td>693</td><td>4.126149</td><td>Paradise Lost: The Child Murders at Robin Hood Hills (1996)</td></tr><tr><td>1463</td><td>694</td><td>5.0359344</td><td>Boys, Les (1997)</td></tr><tr><td>958</td><td>695</td><td>5.3259206</td><td>To Live (Huozhe) (1994)</td></tr><tr><td>884</td><td>696</td><td>4.992666</td><td>Year of the Horse (1997)</td></tr><tr><td>1449</td><td>697</td><td>5.661794</td><td>Pather Panchali (1955)</td></tr><tr><td>50</td><td>698</td><td>3.7173085</td><td>Star Wars (1977)</td></tr><tr><td>1642</td><td>699</td><td>4.5156217</td><td>Some Mother's Son (1996)</td></tr><tr><td>1450</td><td>700</td><td>4.007306</td><td>Golden Earrings (1947)</td></tr><tr><td>1642</td><td>701</td><td>5.337929</td><td>Some Mother's Son (1996)</td></tr><tr><td>1154</td><td>702</td><td>4.533293</td><td>Alphaville (1965)</td></tr><tr><td>1467</td><td>703</td><td>4.6377773</td><td>Saint of Fort Washington, The (1993)</td></tr><tr><td>1463</td><td>704</td><td>5.267538</td><td>Boys, Les (1997)</td></tr><tr><td>909</td><td>705</td><td>4.878977</td><td>Dangerous Beauty (1998)</td></tr><tr><td>1242</td><td>706</td><td>4.6904154</td><td>Old Lady Who Walked in the Sea, The (Vieille qui marchait dans la mer, La) (1991)</td></tr><tr><td>1642</td><td>707</td><td>4.8164234</td><td>Some Mother's Son (1996)</td></tr><tr><td>1450</td><td>708</td><td>4.650536</td><td>Golden Earrings (1947)</td></tr><tr><td>1467</td><td>709</td><td>4.6584325</td><td>Saint of Fort Washington, The (1993)</td></tr><tr><td>1449</td><td>710</td><td>4.6572003</td><td>Pather Panchali (1955)</td></tr><tr><td>884</td><td>711</td><td>5.1695113</td><td>Year of the Horse (1997)</td></tr><tr><td>1160</td><td>712</td><td>4.7466702</td><td>Love! Valour! Compassion! (1997)</td></tr><tr><td>344</td><td>713</td><td>4.216547</td><td>Apostle, The (1997)</td></tr><tr><td>1410</td><td>714</td><td>4.775214</td><td>Harlem (1993)</td></tr><tr><td>1643</td><td>715</td><td>4.7617025</td><td>Angel Baby (1995)</td></tr><tr><td>1398</td><td>716</td><td>4.854222</td><td>Anna (1996)</td></tr><tr><td>1398</td><td>717</td><td>5.0534234</td><td>Anna (1996)</td></tr><tr><td>909</td><td>718</td><td>5.060603</td><td>Dangerous Beauty (1998)</td></tr><tr><td>1450</td><td>719</td><td>4.2214365</td><td>Golden Earrings (1947)</td></tr><tr><td>867</td><td>720</td><td>4.955356</td><td>Whole Wide World, The (1996)</td></tr><tr><td>1450</td><td>721</td><td>4.6164384</td><td>Golden Earrings (1947)</td></tr><tr><td>1643</td><td>722</td><td>5.053039</td><td>Angel Baby (1995)</td></tr><tr><td>1643</td><td>723</td><td>4.237884</td><td>Angel Baby (1995)</td></tr><tr><td>313</td><td>724</td><td>3.674538</td><td>Titanic (1997)</td></tr><tr><td>1643</td><td>725</td><td>6.2047524</td><td>Angel Baby (1995)</td></tr><tr><td>1094</td><td>726</td><td>4.7427115</td><td>Thin Line Between Love and Hate, A (1996)</td></tr><tr><td>1467</td><td>727</td><td>4.362204</td><td>Saint of Fort Washington, The (1993)</td></tr><tr><td>1642</td><td>728</td><td>4.781602</td><td>Some Mother's Son (1996)</td></tr><tr><td>1643</td><td>729</td><td>4.8904</td><td>Angel Baby (1995)</td></tr><tr><td>408</td><td>730</td><td>4.5023403</td><td>Close Shave, A (1995)</td></tr><tr><td>909</td><td>731</td><td>5.0324383</td><td>Dangerous Beauty (1998)</td></tr><tr><td>899</td><td>732</td><td>5.9691463</td><td>Winter Guest, The (1997)</td></tr><tr><td>884</td><td>733</td><td>4.5446033</td><td>Year of the Horse (1997)</td></tr><tr><td>884</td><td>734</td><td>4.4715385</td><td>Year of the Horse (1997)</td></tr><tr><td>1463</td><td>735</td><td>4.4416876</td><td>Boys, Les (1997)</td></tr><tr><td>320</td><td>736</td><td>5.464926</td><td>Paradise Lost: The Child Murders at Robin Hood Hills (1996)</td></tr><tr><td>1463</td><td>737</td><td>5.1875725</td><td>Boys, Les (1997)</td></tr><tr><td>1467</td><td>738</td><td>4.650844</td><td>Saint of Fort Washington, The (1993)</td></tr><tr><td>1410</td><td>739</td><td>4.803564</td><td>Harlem (1993)</td></tr><tr><td>1398</td><td>740</td><td>4.788614</td><td>Anna (1996)</td></tr><tr><td>1467</td><td>741</td><td>4.5483456</td><td>Saint of Fort Washington, The (1993)</td></tr><tr><td>1463</td><td>742</td><td>5.1640286</td><td>Boys, Les (1997)</td></tr><tr><td>1643</td><td>743</td><td>5.676789</td><td>Angel Baby (1995)</td></tr><tr><td>320</td><td>744</td><td>4.8311057</td><td>Paradise Lost: The Child Murders at Robin Hood Hills (1996)</td></tr><tr><td>1643</td><td>745</td><td>4.7901998</td><td>Angel Baby (1995)</td></tr><tr><td>1589</td><td>746</td><td>4.4654307</td><td>Schizopolis (1996)</td></tr><tr><td>1463</td><td>747</td><td>5.1775517</td><td>Boys, Les (1997)</td></tr><tr><td>169</td><td>748</td><td>4.620941</td><td>Wrong Trousers, The (1993)</td></tr><tr><td>1450</td><td>749</td><td>4.7744317</td><td>Golden Earrings (1947)</td></tr><tr><td>1463</td><td>750</td><td>4.6831064</td><td>Boys, Les (1997)</td></tr><tr><td>1463</td><td>751</td><td>4.9079757</td><td>Boys, Les (1997)</td></tr><tr><td>958</td><td>752</td><td>4.704117</td><td>To Live (Huozhe) (1994)</td></tr><tr><td>1463</td><td>753</td><td>4.7280617</td><td>Boys, Les (1997)</td></tr><tr><td>1064</td><td>754</td><td>4.424907</td><td>Crossfire (1947)</td></tr><tr><td>867</td><td>755</td><td>4.6272836</td><td>Whole Wide World, The (1996)</td></tr><tr><td>1467</td><td>756</td><td>4.146931</td><td>Saint of Fort Washington, The (1993)</td></tr><tr><td>1467</td><td>757</td><td>4.531544</td><td>Saint of Fort Washington, The (1993)</td></tr><tr><td>1449</td><td>758</td><td>5.275611</td><td>Pather Panchali (1955)</td></tr><tr><td>313</td><td>759</td><td>4.9589095</td><td>Titanic (1997)</td></tr><tr><td>1242</td><td>760</td><td>5.0257244</td><td>Old Lady Who Walked in the Sea, The (Vieille qui marchait dans la mer, La) (1991)</td></tr><tr><td>1472</td><td>761</td><td>4.4190197</td><td>Visitors, The (Visiteurs, Les) (1993)</td></tr><tr><td>1643</td><td>762</td><td>5.902051</td><td>Angel Baby (1995)</td></tr><tr><td>1449</td><td>763</td><td>5.053486</td><td>Pather Panchali (1955)</td></tr><tr><td>1467</td><td>764</td><td>4.703751</td><td>Saint of Fort Washington, The (1993)</td></tr><tr><td>320</td><td>765</td><td>5.813857</td><td>Paradise Lost: The Child Murders at Robin Hood Hills (1996)</td></tr><tr><td>1449</td><td>766</td><td>4.2545342</td><td>Pather Panchali (1955)</td></tr><tr><td>1449</td><td>767</td><td>5.3727913</td><td>Pather Panchali (1955)</td></tr><tr><td>1450</td><td>768</td><td>4.7543364</td><td>Golden Earrings (1947)</td></tr><tr><td>1064</td><td>769</td><td>4.371995</td><td>Crossfire (1947)</td></tr><tr><td>1642</td><td>770</td><td>5.800137</td><td>Some Mother's Son (1996)</td></tr><tr><td>1512</td><td>771</td><td>5.5649767</td><td>World of Apu, The (Apur Sansar) (1959)</td></tr><tr><td>1467</td><td>772</td><td>5.2655873</td><td>Saint of Fort Washington, The (1993)</td></tr><tr><td>1367</td><td>773</td><td>4.6799417</td><td>Faust (1994)</td></tr><tr><td>1463</td><td>774</td><td>3.2891626</td><td>Boys, Les (1997)</td></tr><tr><td>958</td><td>775</td><td>4.97468</td><td>To Live (Huozhe) (1994)</td></tr><tr><td>1467</td><td>776</td><td>4.751485</td><td>Saint of Fort Washington, The (1993)</td></tr><tr><td>1159</td><td>777</td><td>5.3353596</td><td>Stalker (1979)</td></tr><tr><td>1463</td><td>778</td><td>4.4259953</td><td>Boys, Les (1997)</td></tr><tr><td>1278</td><td>779</td><td>4.7085004</td><td>Selena (1997)</td></tr><tr><td>1450</td><td>780</td><td>4.704981</td><td>Golden Earrings (1947)</td></tr><tr><td>1643</td><td>781</td><td>4.9312925</td><td>Angel Baby (1995)</td></tr><tr><td>1512</td><td>782</td><td>4.0689564</td><td>World of Apu, The (Apur Sansar) (1959)</td></tr><tr><td>1643</td><td>783</td><td>5.7343807</td><td>Angel Baby (1995)</td></tr><tr><td>169</td><td>784</td><td>4.989276</td><td>Wrong Trousers, The (1993)</td></tr><tr><td>1467</td><td>785</td><td>4.514055</td><td>Saint of Fort Washington, The (1993)</td></tr><tr><td>1450</td><td>786</td><td>4.7400813</td><td>Golden Earrings (1947)</td></tr><tr><td>313</td><td>787</td><td>4.380928</td><td>Titanic (1997)</td></tr><tr><td>318</td><td>788</td><td>4.3178773</td><td>Schindler's List (1993)</td></tr><tr><td>1449</td><td>789</td><td>4.866433</td><td>Pather Panchali (1955)</td></tr><tr><td>1467</td><td>790</td><td>4.261259</td><td>Saint of Fort Washington, The (1993)</td></tr><tr><td>1467</td><td>791</td><td>4.807533</td><td>Saint of Fort Washington, The (1993)</td></tr><tr><td>1467</td><td>792</td><td>4.5559683</td><td>Saint of Fort Washington, The (1993)</td></tr><tr><td>1467</td><td>793</td><td>4.8278728</td><td>Saint of Fort Washington, The (1993)</td></tr><tr><td>320</td><td>794</td><td>5.5475826</td><td>Paradise Lost: The Child Murders at Robin Hood Hills (1996)</td></tr><tr><td>1449</td><td>795</td><td>4.205083</td><td>Pather Panchali (1955)</td></tr><tr><td>1467</td><td>796</td><td>4.5916615</td><td>Saint of Fort Washington, The (1993)</td></tr><tr><td>1467</td><td>797</td><td>3.721291</td><td>Saint of Fort Washington, The (1993)</td></tr><tr><td>1169</td><td>798</td><td>4.1485004</td><td>Fresh (1994)</td></tr><tr><td>1463</td><td>799</td><td>5.3458548</td><td>Boys, Les (1997)</td></tr><tr><td>1449</td><td>800</td><td>4.7723584</td><td>Pather Panchali (1955)</td></tr><tr><td>963</td><td>801</td><td>5.351035</td><td>Some Folks Call It a Sling Blade (1993)</td></tr><tr><td>1019</td><td>802</td><td>4.7685575</td><td>Die xue shuang xiong (Killer, The) (1989)</td></tr><tr><td>1463</td><td>803</td><td>5.4753885</td><td>Boys, Les (1997)</td></tr><tr><td>1643</td><td>804</td><td>4.9250445</td><td>Angel Baby (1995)</td></tr><tr><td>1449</td><td>805</td><td>4.9586105</td><td>Pather Panchali (1955)</td></tr><tr><td>1467</td><td>806</td><td>4.5925817</td><td>Saint of Fort Washington, The (1993)</td></tr><tr><td>1450</td><td>807</td><td>4.860498</td><td>Golden Earrings (1947)</td></tr><tr><td>1463</td><td>808</td><td>5.9844713</td><td>Boys, Les (1997)</td></tr><tr><td>1643</td><td>809</td><td>5.4771976</td><td>Angel Baby (1995)</td></tr><tr><td>1467</td><td>810</td><td>5.9385695</td><td>Saint of Fort Washington, The (1993)</td></tr><tr><td>817</td><td>811</td><td>5.890028</td><td>Frisk (1995)</td></tr><tr><td>1483</td><td>812</td><td>5.1738515</td><td>Man in the Iron Mask, The (1998)</td></tr><tr><td>74</td><td>813</td><td>4.5330906</td><td>Faster Pussycat! Kill! Kill! (1965)</td></tr><tr><td>1642</td><td>814</td><td>3.9201512</td><td>Some Mother's Son (1996)</td></tr><tr><td>1450</td><td>815</td><td>4.794144</td><td>Golden Earrings (1947)</td></tr><tr><td>1664</td><td>816</td><td>4.981416</td><td>8 Heads in a Duffel Bag (1997)</td></tr><tr><td>1589</td><td>817</td><td>4.681366</td><td>Schizopolis (1996)</td></tr><tr><td>1463</td><td>818</td><td>4.855152</td><td>Boys, Les (1997)</td></tr><tr><td>1463</td><td>819</td><td>5.6298904</td><td>Boys, Les (1997)</td></tr><tr><td>854</td><td>820</td><td>5.5919423</td><td>Bad Taste (1987)</td></tr><tr><td>1064</td><td>821</td><td>5.3666606</td><td>Crossfire (1947)</td></tr><tr><td>408</td><td>822</td><td>4.345426</td><td>Close Shave, A (1995)</td></tr><tr><td>1463</td><td>823</td><td>5.3546104</td><td>Boys, Les (1997)</td></tr><tr><td>854</td><td>824</td><td>4.4502473</td><td>Bad Taste (1987)</td></tr><tr><td>1294</td><td>825</td><td>5.2096205</td><td>Ayn Rand: A Sense of Life (1997)</td></tr><tr><td>1467</td><td>826</td><td>4.8970175</td><td>Saint of Fort Washington, The (1993)</td></tr><tr><td>320</td><td>827</td><td>4.6205883</td><td>Paradise Lost: The Child Murders at Robin Hood Hills (1996)</td></tr><tr><td>1643</td><td>828</td><td>4.556309</td><td>Angel Baby (1995)</td></tr><tr><td>1449</td><td>829</td><td>4.7984834</td><td>Pather Panchali (1955)</td></tr><tr><td>1463</td><td>830</td><td>5.0226316</td><td>Boys, Les (1997)</td></tr><tr><td>1467</td><td>831</td><td>4.6088123</td><td>Saint of Fort Washington, The (1993)</td></tr><tr><td>313</td><td>832</td><td>3.9581804</td><td>Titanic (1997)</td></tr><tr><td>1085</td><td>833</td><td>4.227395</td><td>Carried Away (1996)</td></tr><tr><td>1467</td><td>834</td><td>4.9368877</td><td>Saint of Fort Washington, The (1993)</td></tr><tr><td>1642</td><td>835</td><td>5.1754394</td><td>Some Mother's Son (1996)</td></tr><tr><td>1643</td><td>836</td><td>5.527282</td><td>Angel Baby (1995)</td></tr><tr><td>1512</td><td>837</td><td>4.5236845</td><td>World of Apu, The (Apur Sansar) (1959)</td></tr><tr><td>1467</td><td>838</td><td>4.857074</td><td>Saint of Fort Washington, The (1993)</td></tr><tr><td>1154</td><td>839</td><td>4.9227433</td><td>Alphaville (1965)</td></tr><tr><td>1463</td><td>840</td><td>5.103287</td><td>Boys, Les (1997)</td></tr><tr><td>272</td><td>841</td><td>4.9970574</td><td>Good Will Hunting (1997)</td></tr><tr><td>320</td><td>842</td><td>6.7754936</td><td>Paradise Lost: The Child Murders at Robin Hood Hills (1996)</td></tr><tr><td>1589</td><td>843</td><td>3.9563603</td><td>Schizopolis (1996)</td></tr><tr><td>1463</td><td>844</td><td>4.569058</td><td>Boys, Les (1997)</td></tr><tr><td>1159</td><td>845</td><td>4.4476647</td><td>Stalker (1979)</td></tr><tr><td>1449</td><td>846</td><td>5.0606956</td><td>Pather Panchali (1955)</td></tr><tr><td>958</td><td>847</td><td>4.3262234</td><td>To Live (Huozhe) (1994)</td></tr><tr><td>1643</td><td>848</td><td>6.0211005</td><td>Angel Baby (1995)</td></tr><tr><td>958</td><td>849</td><td>5.896836</td><td>To Live (Huozhe) (1994)</td></tr><tr><td>1278</td><td>850</td><td>5.358262</td><td>Selena (1997)</td></tr><tr><td>1643</td><td>851</td><td>5.3300014</td><td>Angel Baby (1995)</td></tr><tr><td>114</td><td>852</td><td>4.8863754</td><td>Wallace & Gromit: The Best of Aardman Animation (1996)</td></tr><tr><td>1159</td><td>853</td><td>4.748569</td><td>Stalker (1979)</td></tr><tr><td>1463</td><td>854</td><td>4.411881</td><td>Boys, Les (1997)</td></tr><tr><td>1463</td><td>855</td><td>4.437776</td><td>Boys, Les (1997)</td></tr><tr><td>1463</td><td>856</td><td>4.8571067</td><td>Boys, Les (1997)</td></tr><tr><td>1558</td><td>857</td><td>5.0858903</td><td>Aparajito (1956)</td></tr><tr><td>1642</td><td>858</td><td>4.6470323</td><td>Some Mother's Son (1996)</td></tr><tr><td>1019</td><td>859</td><td>5.317113</td><td>Die xue shuang xiong (Killer, The) (1989)</td></tr><tr><td>1398</td><td>860</td><td>4.346241</td><td>Anna (1996)</td></tr><tr><td>408</td><td>861</td><td>5.1659665</td><td>Close Shave, A (1995)</td></tr><tr><td>958</td><td>862</td><td>5.659417</td><td>To Live (Huozhe) (1994)</td></tr><tr><td>1467</td><td>863</td><td>5.0274777</td><td>Saint of Fort Washington, The (1993)</td></tr><tr><td>1467</td><td>864</td><td>5.1607203</td><td>Saint of Fort Washington, The (1993)</td></tr><tr><td>1558</td><td>865</td><td>4.76422</td><td>Aparajito (1956)</td></tr><tr><td>344</td><td>866</td><td>4.2075815</td><td>Apostle, The (1997)</td></tr><tr><td>1449</td><td>867</td><td>5.50624</td><td>Pather Panchali (1955)</td></tr><tr><td>1449</td><td>868</td><td>4.51261</td><td>Pather Panchali (1955)</td></tr><tr><td>1643</td><td>869</td><td>4.8205566</td><td>Angel Baby (1995)</td></tr><tr><td>1463</td><td>870</td><td>4.71462</td><td>Boys, Les (1997)</td></tr><tr><td>1467</td><td>871</td><td>4.6046543</td><td>Saint of Fort Washington, The (1993)</td></tr><tr><td>1294</td><td>872</td><td>4.525383</td><td>Ayn Rand: A Sense of Life (1997)</td></tr><tr><td>1278</td><td>873</td><td>4.2832465</td><td>Selena (1997)</td></tr><tr><td>1449</td><td>874</td><td>4.842903</td><td>Pather Panchali (1955)</td></tr><tr><td>1449</td><td>875</td><td>5.3586884</td><td>Pather Panchali (1955)</td></tr><tr><td>1463</td><td>876</td><td>5.204362</td><td>Boys, Les (1997)</td></tr><tr><td>1643</td><td>877</td><td>4.8838487</td><td>Angel Baby (1995)</td></tr><tr><td>1463</td><td>878</td><td>4.30259</td><td>Boys, Les (1997)</td></tr><tr><td>1467</td><td>879</td><td>4.668102</td><td>Saint of Fort Washington, The (1993)</td></tr><tr><td>1449</td><td>880</td><td>4.9484324</td><td>Pather Panchali (1955)</td></tr><tr><td>1643</td><td>881</td><td>4.857753</td><td>Angel Baby (1995)</td></tr><tr><td>1467</td><td>882</td><td>5.169891</td><td>Saint of Fort Washington, The (1993)</td></tr><tr><td>1642</td><td>883</td><td>5.009216</td><td>Some Mother's Son (1996)</td></tr><tr><td>1558</td><td>884</td><td>4.9732804</td><td>Aparajito (1956)</td></tr><tr><td>1450</td><td>885</td><td>4.408083</td><td>Golden Earrings (1947)</td></tr><tr><td>1467</td><td>886</td><td>4.7763925</td><td>Saint of Fort Washington, The (1993)</td></tr><tr><td>1472</td><td>887</td><td>5.804775</td><td>Visitors, The (Visiteurs, Les) (1993)</td></tr><tr><td>1449</td><td>888</td><td>5.3931184</td><td>Pather Panchali (1955)</td></tr><tr><td>1467</td><td>889</td><td>4.593117</td><td>Saint of Fort Washington, The (1993)</td></tr><tr><td>1463</td><td>890</td><td>5.226201</td><td>Boys, Les (1997)</td></tr><tr><td>1064</td><td>891</td><td>5.2559414</td><td>Crossfire (1947)</td></tr><tr><td>1467</td><td>892</td><td>5.151002</td><td>Saint of Fort Washington, The (1993)</td></tr><tr><td>1467</td><td>893</td><td>4.860705</td><td>Saint of Fort Washington, The (1993)</td></tr><tr><td>1642</td><td>894</td><td>4.8618693</td><td>Some Mother's Son (1996)</td></tr><tr><td>1463</td><td>895</td><td>5.4127235</td><td>Boys, Les (1997)</td></tr><tr><td>1463</td><td>896</td><td>4.2946405</td><td>Boys, Les (1997)</td></tr><tr><td>1467</td><td>897</td><td>4.8916974</td><td>Saint of Fort Washington, The (1993)</td></tr><tr><td>1242</td><td>898</td><td>5.3009815</td><td>Old Lady Who Walked in the Sea, The (Vieille qui marchait dans la mer, La) (1991)</td></tr><tr><td>1450</td><td>899</td><td>4.4207125</td><td>Golden Earrings (1947)</td></tr><tr><td>1512</td><td>900</td><td>4.033419</td><td>World of Apu, The (Apur Sansar) (1959)</td></tr><tr><td>867</td><td>901</td><td>5.0769153</td><td>Whole Wide World, The (1996)</td></tr><tr><td>1450</td><td>902</td><td>4.423606</td><td>Golden Earrings (1947)</td></tr><tr><td>1449</td><td>903</td><td>5.1167912</td><td>Pather Panchali (1955)</td></tr><tr><td>1512</td><td>904</td><td>5.5001855</td><td>World of Apu, The (Apur Sansar) (1959)</td></tr><tr><td>1467</td><td>905</td><td>4.5673556</td><td>Saint of Fort Washington, The (1993)</td></tr><tr><td>1642</td><td>906</td><td>4.903103</td><td>Some Mother's Son (1996)</td></tr><tr><td>1064</td><td>907</td><td>5.667625</td><td>Crossfire (1947)</td></tr><tr><td>1642</td><td>908</td><td>4.2139506</td><td>Some Mother's Son (1996)</td></tr><tr><td>1449</td><td>909</td><td>5.6179276</td><td>Pather Panchali (1955)</td></tr><tr><td>1643</td><td>910</td><td>4.2755637</td><td>Angel Baby (1995)</td></tr><tr><td>1449</td><td>911</td><td>4.5009613</td><td>Pather Panchali (1955)</td></tr><tr><td>344</td><td>912</td><td>4.7274446</td><td>Apostle, The (1997)</td></tr><tr><td>1467</td><td>913</td><td>4.3750815</td><td>Saint of Fort Washington, The (1993)</td></tr><tr><td>1664</td><td>914</td><td>4.5443954</td><td>8 Heads in a Duffel Bag (1997)</td></tr><tr><td>1463</td><td>915</td><td>4.500205</td><td>Boys, Les (1997)</td></tr><tr><td>1449</td><td>916</td><td>4.6514077</td><td>Pather Panchali (1955)</td></tr><tr><td>1642</td><td>917</td><td>4.8684435</td><td>Some Mother's Son (1996)</td></tr><tr><td>1639</td><td>918</td><td>4.5939627</td><td>Bitter Sugar (Azucar Amargo) (1996)</td></tr><tr><td>1064</td><td>919</td><td>4.5326166</td><td>Crossfire (1947)</td></tr><tr><td>320</td><td>920</td><td>4.0219417</td><td>Paradise Lost: The Child Murders at Robin Hood Hills (1996)</td></tr><tr><td>1278</td><td>921</td><td>4.242789</td><td>Selena (1997)</td></tr><tr><td>173</td><td>922</td><td>4.611015</td><td>Princess Bride, The (1987)</td></tr><tr><td>1449</td><td>923</td><td>5.4381776</td><td>Pather Panchali (1955)</td></tr><tr><td>1467</td><td>924</td><td>4.5645037</td><td>Saint of Fort Washington, The (1993)</td></tr><tr><td>1642</td><td>925</td><td>4.3367715</td><td>Some Mother's Son (1996)</td></tr><tr><td>1463</td><td>926</td><td>4.5935416</td><td>Boys, Les (1997)</td></tr><tr><td>1294</td><td>927</td><td>4.9015145</td><td>Ayn Rand: A Sense of Life (1997)</td></tr><tr><td>958</td><td>928</td><td>6.7767353</td><td>To Live (Huozhe) (1994)</td></tr><tr><td>1463</td><td>929</td><td>4.372408</td><td>Boys, Les (1997)</td></tr><tr><td>1167</td><td>930</td><td>4.256628</td><td>Sum of Us, The (1994)</td></tr><tr><td>318</td><td>931</td><td>4.7441936</td><td>Schindler's List (1993)</td></tr><tr><td>1463</td><td>932</td><td>5.0705104</td><td>Boys, Les (1997)</td></tr><tr><td>1643</td><td>933</td><td>4.0083065</td><td>Angel Baby (1995)</td></tr><tr><td>1643</td><td>934</td><td>4.6982837</td><td>Angel Baby (1995)</td></tr><tr><td>1102</td><td>935</td><td>4.8775225</td><td>Two Much (1996)</td></tr><tr><td>1449</td><td>936</td><td>5.152805</td><td>Pather Panchali (1955)</td></tr><tr><td>1463</td><td>937</td><td>4.384873</td><td>Boys, Les (1997)</td></tr><tr><td>1664</td><td>938</td><td>4.9956713</td><td>8 Heads in a Duffel Bag (1997)</td></tr><tr><td>1064</td><td>939</td><td>5.8013334</td><td>Crossfire (1947)</td></tr><tr><td>1643</td><td>940</td><td>4.472472</td><td>Angel Baby (1995)</td></tr><tr><td>1467</td><td>941</td><td>5.1162343</td><td>Saint of Fort Washington, The (1993)</td></tr><tr><td>318</td><td>942</td><td>4.9935083</td><td>Schindler's List (1993)</td></tr><tr><td>1467</td><td>943</td><td>4.6865945</td><td>Saint of Fort Washington, The (1993)</td></tr></tbody></table></div>"
      ]
     },
     "metadata": {
      "application/vnd.databricks.v1+output": {
       "addedWidgets": {},
       "aggData": [],
       "aggError": "",
       "aggOverflow": false,
       "aggSchema": [],
       "aggSeriesLimitReached": false,
       "aggType": "",
       "arguments": {},
       "columnCustomDisplayInfos": {},
       "data": [
        [
         1449,
         1,
         5.1955085,
         "Pather Panchali (1955)"
        ],
        [
         1449,
         2,
         4.773265,
         "Pather Panchali (1955)"
        ],
        [
         1463,
         3,
         4.27937,
         "Boys, Les (1997)"
        ],
        [
         1368,
         4,
         5.968327,
         "Mina Tannenbaum (1994)"
        ],
        [
         1589,
         5,
         4.723507,
         "Schizopolis (1996)"
        ],
        [
         1463,
         6,
         5.043045,
         "Boys, Les (1997)"
        ],
        [
         1449,
         7,
         5.2160077,
         "Pather Panchali (1955)"
        ],
        [
         1467,
         8,
         4.9738374,
         "Saint of Fort Washington, The (1993)"
        ],
        [
         1642,
         9,
         5.4375424,
         "Some Mother's Son (1996)"
        ],
        [
         1449,
         10,
         5.188936,
         "Pather Panchali (1955)"
        ],
        [
         1642,
         11,
         4.507858,
         "Some Mother's Son (1996)"
        ],
        [
         1450,
         12,
         5.1827292,
         "Golden Earrings (1947)"
        ],
        [
         1643,
         13,
         5.0375404,
         "Angel Baby (1995)"
        ],
        [
         1449,
         14,
         5.293253,
         "Pather Panchali (1955)"
        ],
        [
         1242,
         15,
         4.1376843,
         "Old Lady Who Walked in the Sea, The (Vieille qui marchait dans la mer, La) (1991)"
        ],
        [
         1467,
         16,
         5.3468456,
         "Saint of Fort Washington, The (1993)"
        ],
        [
         408,
         17,
         4.379724,
         "Close Shave, A (1995)"
        ],
        [
         1642,
         18,
         4.8326936,
         "Some Mother's Son (1996)"
        ],
        [
         1642,
         19,
         4.4540315,
         "Some Mother's Son (1996)"
        ],
        [
         1427,
         20,
         3.9133117,
         "Drunks (1995)"
        ],
        [
         589,
         21,
         4.5300956,
         "Wild Bunch, The (1969)"
        ],
        [
         1463,
         22,
         5.229569,
         "Boys, Les (1997)"
        ],
        [
         1449,
         23,
         4.7735457,
         "Pather Panchali (1955)"
        ],
        [
         1449,
         24,
         5.3316336,
         "Pather Panchali (1955)"
        ],
        [
         1467,
         25,
         4.7465014,
         "Saint of Fort Washington, The (1993)"
        ],
        [
         1467,
         26,
         4.065113,
         "Saint of Fort Washington, The (1993)"
        ],
        [
         817,
         27,
         4.070869,
         "Frisk (1995)"
        ],
        [
         1467,
         28,
         4.894045,
         "Saint of Fort Washington, The (1993)"
        ],
        [
         320,
         29,
         4.942602,
         "Paradise Lost: The Child Murders at Robin Hood Hills (1996)"
        ],
        [
         1642,
         30,
         5.126123,
         "Some Mother's Son (1996)"
        ],
        [
         1449,
         31,
         5.021573,
         "Pather Panchali (1955)"
        ],
        [
         1467,
         32,
         4.2524424,
         "Saint of Fort Washington, The (1993)"
        ],
        [
         313,
         33,
         4.6174498,
         "Titanic (1997)"
        ],
        [
         1558,
         34,
         6.351625,
         "Aparajito (1956)"
        ],
        [
         1192,
         35,
         4.0965543,
         "Boys of St. Vincent, The (1993)"
        ],
        [
         1472,
         36,
         5.3781834,
         "Visitors, The (Visiteurs, Les) (1993)"
        ],
        [
         1467,
         37,
         4.7627864,
         "Saint of Fort Washington, The (1993)"
        ],
        [
         1102,
         38,
         5.8087506,
         "Two Much (1996)"
        ],
        [
         320,
         39,
         5.455408,
         "Paradise Lost: The Child Murders at Robin Hood Hills (1996)"
        ],
        [
         868,
         40,
         4.0608387,
         "Hearts and Minds (1996)"
        ],
        [
         1449,
         41,
         4.80686,
         "Pather Panchali (1955)"
        ],
        [
         1278,
         42,
         4.9630265,
         "Selena (1997)"
        ],
        [
         1450,
         43,
         4.763819,
         "Golden Earrings (1947)"
        ],
        [
         1467,
         44,
         4.632115,
         "Saint of Fort Washington, The (1993)"
        ],
        [
         1643,
         45,
         5.513509,
         "Angel Baby (1995)"
        ],
        [
         1643,
         46,
         5.388399,
         "Angel Baby (1995)"
        ],
        [
         1449,
         47,
         5.002678,
         "Pather Panchali (1955)"
        ],
        [
         1467,
         48,
         4.884698,
         "Saint of Fort Washington, The (1993)"
        ],
        [
         1085,
         49,
         4.3855457,
         "Carried Away (1996)"
        ],
        [
         320,
         50,
         5.426483,
         "Paradise Lost: The Child Murders at Robin Hood Hills (1996)"
        ],
        [
         1269,
         51,
         4.5366354,
         "Love in the Afternoon (1957)"
        ],
        [
         1642,
         52,
         5.516196,
         "Some Mother's Son (1996)"
        ],
        [
         626,
         53,
         4.963911,
         "So Dear to My Heart (1949)"
        ],
        [
         320,
         54,
         5.0616093,
         "Paradise Lost: The Child Murders at Robin Hood Hills (1996)"
        ],
        [
         313,
         55,
         4.44789,
         "Titanic (1997)"
        ],
        [
         1467,
         56,
         4.6838946,
         "Saint of Fort Washington, The (1993)"
        ],
        [
         1467,
         57,
         4.667837,
         "Saint of Fort Washington, The (1993)"
        ],
        [
         1589,
         58,
         5.0762725,
         "Schizopolis (1996)"
        ],
        [
         320,
         59,
         5.3002267,
         "Paradise Lost: The Child Murders at Robin Hood Hills (1996)"
        ],
        [
         1449,
         60,
         5.0886455,
         "Pather Panchali (1955)"
        ],
        [
         909,
         61,
         3.9272058,
         "Dangerous Beauty (1998)"
        ],
        [
         1449,
         62,
         4.544075,
         "Pather Panchali (1955)"
        ],
        [
         1449,
         63,
         4.4546566,
         "Pather Panchali (1955)"
        ],
        [
         1463,
         64,
         4.900611,
         "Boys, Les (1997)"
        ],
        [
         1450,
         65,
         4.9158864,
         "Golden Earrings (1947)"
        ],
        [
         1467,
         66,
         4.5135746,
         "Saint of Fort Washington, The (1993)"
        ],
        [
         958,
         67,
         5.2312565,
         "To Live (Huozhe) (1994)"
        ],
        [
         1463,
         68,
         4.7512956,
         "Boys, Les (1997)"
        ],
        [
         1463,
         69,
         5.0581813,
         "Boys, Les (1997)"
        ],
        [
         1467,
         70,
         4.560628,
         "Saint of Fort Washington, The (1993)"
        ],
        [
         1463,
         71,
         5.0834904,
         "Boys, Les (1997)"
        ],
        [
         1650,
         72,
         4.8881035,
         "Butcher Boy, The (1998)"
        ],
        [
         1643,
         73,
         5.1446,
         "Angel Baby (1995)"
        ],
        [
         1463,
         74,
         4.9483924,
         "Boys, Les (1997)"
        ],
        [
         1463,
         75,
         5.3648295,
         "Boys, Les (1997)"
        ],
        [
         1463,
         76,
         4.9901047,
         "Boys, Les (1997)"
        ],
        [
         1643,
         77,
         5.065589,
         "Angel Baby (1995)"
        ],
        [
         1554,
         78,
         5.1512837,
         "Safe Passage (1994)"
        ],
        [
         320,
         79,
         4.963161,
         "Paradise Lost: The Child Murders at Robin Hood Hills (1996)"
        ],
        [
         1449,
         80,
         4.7809277,
         "Pather Panchali (1955)"
        ],
        [
         1463,
         81,
         4.794747,
         "Boys, Les (1997)"
        ],
        [
         1463,
         82,
         4.6750283,
         "Boys, Les (1997)"
        ],
        [
         313,
         83,
         4.654109,
         "Titanic (1997)"
        ],
        [
         1064,
         84,
         4.9823637,
         "Crossfire (1947)"
        ],
        [
         1449,
         85,
         4.4205494,
         "Pather Panchali (1955)"
        ],
        [
         1159,
         86,
         5.262545,
         "Stalker (1979)"
        ],
        [
         1643,
         87,
         4.9972453,
         "Angel Baby (1995)"
        ],
        [
         1159,
         88,
         6.0270786,
         "Stalker (1979)"
        ],
        [
         1589,
         89,
         6.052506,
         "Schizopolis (1996)"
        ],
        [
         1463,
         90,
         5.347301,
         "Boys, Les (1997)"
        ],
        [
         1467,
         91,
         4.8964777,
         "Saint of Fort Washington, The (1993)"
        ],
        [
         1449,
         92,
         4.646897,
         "Pather Panchali (1955)"
        ],
        [
         1066,
         93,
         4.7950134,
         "Balto (1995)"
        ],
        [
         1449,
         94,
         5.3008723,
         "Pather Panchali (1955)"
        ],
        [
         1450,
         95,
         4.5653443,
         "Golden Earrings (1947)"
        ],
        [
         1467,
         96,
         4.9441066,
         "Saint of Fort Washington, The (1993)"
        ],
        [
         1154,
         97,
         5.231568,
         "Alphaville (1965)"
        ],
        [
         320,
         98,
         6.389991,
         "Paradise Lost: The Child Murders at Robin Hood Hills (1996)"
        ],
        [
         1643,
         99,
         4.99407,
         "Angel Baby (1995)"
        ],
        [
         1450,
         100,
         4.3942075,
         "Golden Earrings (1947)"
        ],
        [
         1467,
         101,
         3.906679,
         "Saint of Fort Washington, The (1993)"
        ],
        [
         1449,
         102,
         3.457935,
         "Pather Panchali (1955)"
        ],
        [
         1467,
         103,
         4.6299887,
         "Saint of Fort Washington, The (1993)"
        ],
        [
         1467,
         104,
         3.7850475,
         "Saint of Fort Washington, The (1993)"
        ],
        [
         1643,
         105,
         4.8097053,
         "Angel Baby (1995)"
        ],
        [
         1450,
         106,
         4.5751734,
         "Golden Earrings (1947)"
        ],
        [
         1085,
         107,
         4.8654904,
         "Carried Away (1996)"
        ],
        [
         1463,
         108,
         4.9351325,
         "Boys, Les (1997)"
        ],
        [
         1467,
         109,
         4.4711137,
         "Saint of Fort Washington, The (1993)"
        ],
        [
         64,
         110,
         3.8567286,
         "Shawshank Redemption, The (1994)"
        ],
        [
         913,
         111,
         4.74882,
         "Love and Death on Long Island (1997)"
        ],
        [
         1233,
         112,
         5.071802,
         "N�nette et Boni (1996)"
        ],
        [
         1643,
         113,
         5.4023275,
         "Angel Baby (1995)"
        ],
        [
         1643,
         114,
         4.910486,
         "Angel Baby (1995)"
        ],
        [
         1463,
         115,
         5.60494,
         "Boys, Les (1997)"
        ],
        [
         1467,
         116,
         4.1369,
         "Saint of Fort Washington, The (1993)"
        ],
        [
         1643,
         117,
         5.447026,
         "Angel Baby (1995)"
        ],
        [
         1449,
         118,
         5.7582927,
         "Pather Panchali (1955)"
        ],
        [
         1643,
         119,
         5.531326,
         "Angel Baby (1995)"
        ],
        [
         1642,
         120,
         4.539535,
         "Some Mother's Son (1996)"
        ],
        [
         1463,
         121,
         5.151521,
         "Boys, Les (1997)"
        ],
        [
         1512,
         122,
         5.282963,
         "World of Apu, The (Apur Sansar) (1959)"
        ],
        [
         1463,
         123,
         4.9976115,
         "Boys, Les (1997)"
        ],
        [
         1449,
         124,
         4.385146,
         "Pather Panchali (1955)"
        ],
        [
         174,
         125,
         4.5904236,
         "Raiders of the Lost Ark (1981)"
        ],
        [
         1159,
         126,
         5.3570204,
         "Stalker (1979)"
        ],
        [
         916,
         127,
         6.3245897,
         "Lost in Space (1998)"
        ],
        [
         1467,
         128,
         4.8239374,
         "Saint of Fort Washington, The (1993)"
        ],
        [
         1104,
         129,
         4.762328,
         "C'est arriv� pr�s de chez vous (1992)"
        ],
        [
         1467,
         130,
         5.2157145,
         "Saint of Fort Washington, The (1993)"
        ],
        [
         1463,
         131,
         4.927617,
         "Boys, Les (1997)"
        ],
        [
         320,
         132,
         4.6825895,
         "Paradise Lost: The Child Murders at Robin Hood Hills (1996)"
        ],
        [
         958,
         133,
         4.4280996,
         "To Live (Huozhe) (1994)"
        ],
        [
         313,
         134,
         4.7936044,
         "Titanic (1997)"
        ],
        [
         1467,
         135,
         4.5234466,
         "Saint of Fort Washington, The (1993)"
        ],
        [
         1463,
         136,
         5.4092255,
         "Boys, Les (1997)"
        ],
        [
         361,
         137,
         6.0389028,
         "Incognito (1997)"
        ],
        [
         1643,
         138,
         5.5904636,
         "Angel Baby (1995)"
        ],
        [
         1463,
         139,
         5.948947,
         "Boys, Les (1997)"
        ],
        [
         1398,
         140,
         4.688021,
         "Anna (1996)"
        ],
        [
         1192,
         141,
         5.389981,
         "Boys of St. Vincent, The (1993)"
        ],
        [
         320,
         142,
         5.113839,
         "Paradise Lost: The Child Murders at Robin Hood Hills (1996)"
        ],
        [
         1467,
         143,
         4.8519464,
         "Saint of Fort Washington, The (1993)"
        ],
        [
         1450,
         144,
         4.744459,
         "Golden Earrings (1947)"
        ],
        [
         1643,
         145,
         5.4803524,
         "Angel Baby (1995)"
        ],
        [
         884,
         146,
         5.1665297,
         "Year of the Horse (1997)"
        ],
        [
         958,
         147,
         5.5402246,
         "To Live (Huozhe) (1994)"
        ],
        [
         408,
         148,
         5.10963,
         "Close Shave, A (1995)"
        ],
        [
         320,
         149,
         4.619462,
         "Paradise Lost: The Child Murders at Robin Hood Hills (1996)"
        ],
        [
         1449,
         150,
         5.361509,
         "Pather Panchali (1955)"
        ],
        [
         1463,
         151,
         5.332705,
         "Boys, Les (1997)"
        ],
        [
         1064,
         152,
         5.2787833,
         "Crossfire (1947)"
        ],
        [
         1172,
         153,
         4.6536484,
         "Women, The (1939)"
        ],
        [
         1463,
         154,
         5.0413384,
         "Boys, Les (1997)"
        ],
        [
         1642,
         155,
         4.0592446,
         "Some Mother's Son (1996)"
        ],
        [
         1449,
         156,
         4.391126,
         "Pather Panchali (1955)"
        ],
        [
         1643,
         157,
         6.4662366,
         "Angel Baby (1995)"
        ],
        [
         1449,
         158,
         5.0979342,
         "Pather Panchali (1955)"
        ],
        [
         817,
         159,
         5.3003783,
         "Frisk (1995)"
        ],
        [
         320,
         160,
         5.3114,
         "Paradise Lost: The Child Murders at Robin Hood Hills (1996)"
        ],
        [
         1463,
         161,
         3.5369647,
         "Boys, Les (1997)"
        ],
        [
         1293,
         162,
         4.5583534,
         "Star Kid (1997)"
        ],
        [
         1463,
         163,
         4.2375317,
         "Boys, Les (1997)"
        ],
        [
         899,
         164,
         5.303885,
         "Winter Guest, The (1997)"
        ],
        [
         867,
         165,
         5.0876255,
         "Whole Wide World, The (1996)"
        ],
        [
         1294,
         166,
         5.197034,
         "Ayn Rand: A Sense of Life (1997)"
        ],
        [
         884,
         167,
         5.238608,
         "Year of the Horse (1997)"
        ],
        [
         1192,
         168,
         4.8403826,
         "Boys of St. Vincent, The (1993)"
        ],
        [
         1467,
         169,
         4.8216033,
         "Saint of Fort Washington, The (1993)"
        ],
        [
         1446,
         170,
         4.872472,
         "Bye Bye, Love (1995)"
        ],
        [
         1643,
         171,
         4.8375926,
         "Angel Baby (1995)"
        ],
        [
         1233,
         172,
         4.0876956,
         "N�nette et Boni (1996)"
        ],
        [
         1650,
         173,
         5.6128936,
         "Butcher Boy, The (1998)"
        ],
        [
         1233,
         174,
         5.905413,
         "N�nette et Boni (1996)"
        ],
        [
         1450,
         175,
         4.722333,
         "Golden Earrings (1947)"
        ],
        [
         1449,
         176,
         5.0253983,
         "Pather Panchali (1955)"
        ],
        [
         1463,
         177,
         4.7975426,
         "Boys, Les (1997)"
        ],
        [
         1467,
         178,
         4.792169,
         "Saint of Fort Washington, The (1993)"
        ],
        [
         854,
         179,
         4.727635,
         "Bad Taste (1987)"
        ],
        [
         1463,
         180,
         5.5236435,
         "Boys, Les (1997)"
        ],
        [
         313,
         181,
         2.4546716,
         "Titanic (1997)"
        ],
        [
         1450,
         182,
         4.8197813,
         "Golden Earrings (1947)"
        ],
        [
         867,
         183,
         4.633606,
         "Whole Wide World, The (1996)"
        ],
        [
         1642,
         184,
         4.747527,
         "Some Mother's Son (1996)"
        ],
        [
         1642,
         185,
         4.775476,
         "Some Mother's Son (1996)"
        ],
        [
         867,
         186,
         4.67591,
         "Whole Wide World, The (1996)"
        ],
        [
         1463,
         187,
         4.9730086,
         "Boys, Les (1997)"
        ],
        [
         318,
         188,
         4.5694675,
         "Schindler's List (1993)"
        ],
        [
         1449,
         189,
         5.1428213,
         "Pather Panchali (1955)"
        ],
        [
         1467,
         190,
         4.5818553,
         "Saint of Fort Washington, The (1993)"
        ],
        [
         1450,
         191,
         4.5843673,
         "Golden Earrings (1947)"
        ],
        [
         1449,
         192,
         5.25895,
         "Pather Panchali (1955)"
        ],
        [
         1643,
         193,
         4.6038322,
         "Angel Baby (1995)"
        ],
        [
         1463,
         194,
         4.415476,
         "Boys, Les (1997)"
        ],
        [
         1467,
         195,
         4.784143,
         "Saint of Fort Washington, The (1993)"
        ],
        [
         868,
         196,
         4.8726397,
         "Hearts and Minds (1996)"
        ],
        [
         1450,
         197,
         4.9097624,
         "Golden Earrings (1947)"
        ],
        [
         1463,
         198,
         4.5799766,
         "Boys, Les (1997)"
        ],
        [
         1449,
         199,
         4.82724,
         "Pather Panchali (1955)"
        ],
        [
         1467,
         200,
         5.234641,
         "Saint of Fort Washington, The (1993)"
        ],
        [
         1643,
         201,
         4.366482,
         "Angel Baby (1995)"
        ],
        [
         916,
         202,
         3.560466,
         "Lost in Space (1998)"
        ],
        [
         1467,
         203,
         4.385748,
         "Saint of Fort Washington, The (1993)"
        ],
        [
         320,
         204,
         5.226881,
         "Paradise Lost: The Child Murders at Robin Hood Hills (1996)"
        ],
        [
         169,
         205,
         3.9446084,
         "Wrong Trousers, The (1993)"
        ],
        [
         854,
         206,
         4.594321,
         "Bad Taste (1987)"
        ],
        [
         1643,
         207,
         4.096898,
         "Angel Baby (1995)"
        ],
        [
         1278,
         208,
         4.9471183,
         "Selena (1997)"
        ],
        [
         963,
         209,
         4.23972,
         "Some Folks Call It a Sling Blade (1993)"
        ],
        [
         1467,
         210,
         5.0102096,
         "Saint of Fort Washington, The (1993)"
        ],
        [
         1664,
         211,
         4.256653,
         "8 Heads in a Duffel Bag (1997)"
        ],
        [
         1242,
         212,
         5.3842473,
         "Old Lady Who Walked in the Sea, The (Vieille qui marchait dans la mer, La) (1991)"
        ],
        [
         1643,
         213,
         5.566839,
         "Angel Baby (1995)"
        ],
        [
         1643,
         214,
         5.0943713,
         "Angel Baby (1995)"
        ],
        [
         1643,
         215,
         4.7774568,
         "Angel Baby (1995)"
        ],
        [
         1643,
         216,
         5.4582005,
         "Angel Baby (1995)"
        ],
        [
         1467,
         217,
         4.679866,
         "Saint of Fort Washington, The (1993)"
        ],
        [
         1643,
         218,
         4.777007,
         "Angel Baby (1995)"
        ],
        [
         1558,
         219,
         6.191805,
         "Aparajito (1956)"
        ],
        [
         1664,
         220,
         5.1873813,
         "8 Heads in a Duffel Bag (1997)"
        ],
        [
         1643,
         221,
         5.0847607,
         "Angel Baby (1995)"
        ],
        [
         1643,
         222,
         4.4583197,
         "Angel Baby (1995)"
        ],
        [
         174,
         223,
         4.2918673,
         "Raiders of the Lost Ark (1981)"
        ],
        [
         1278,
         224,
         4.173043,
         "Selena (1997)"
        ],
        [
         1463,
         225,
         5.514614,
         "Boys, Les (1997)"
        ],
        [
         1463,
         226,
         4.949175,
         "Boys, Les (1997)"
        ],
        [
         1642,
         227,
         5.0034213,
         "Some Mother's Son (1996)"
        ],
        [
         1233,
         228,
         5.0595684,
         "N�nette et Boni (1996)"
        ],
        [
         1639,
         229,
         5.1033845,
         "Bitter Sugar (Azucar Amargo) (1996)"
        ],
        [
         1450,
         230,
         4.914147,
         "Golden Earrings (1947)"
        ],
        [
         817,
         231,
         4.516107,
         "Frisk (1995)"
        ],
        [
         1449,
         232,
         4.9863763,
         "Pather Panchali (1955)"
        ],
        [
         1398,
         233,
         5.1390734,
         "Anna (1996)"
        ],
        [
         1463,
         234,
         4.213318,
         "Boys, Les (1997)"
        ],
        [
         1449,
         235,
         4.9375405,
         "Pather Panchali (1955)"
        ],
        [
         1664,
         236,
         4.8178415,
         "8 Heads in a Duffel Bag (1997)"
        ],
        [
         1643,
         237,
         4.95278,
         "Angel Baby (1995)"
        ],
        [
         272,
         238,
         4.2003794,
         "Good Will Hunting (1997)"
        ],
        [
         1367,
         239,
         5.2515326,
         "Faust (1994)"
        ],
        [
         1512,
         240,
         5.6496925,
         "World of Apu, The (Apur Sansar) (1959)"
        ],
        [
         1367,
         241,
         4.9805565,
         "Faust (1994)"
        ],
        [
         963,
         242,
         5.3981633,
         "Some Folks Call It a Sling Blade (1993)"
        ],
        [
         1398,
         243,
         4.5583386,
         "Anna (1996)"
        ],
        [
         1449,
         244,
         5.2079268,
         "Pather Panchali (1955)"
        ],
        [
         867,
         245,
         4.5817184,
         "Whole Wide World, The (1996)"
        ],
        [
         853,
         246,
         4.5069785,
         "Braindead (1992)"
        ],
        [
         1467,
         247,
         4.6778374,
         "Saint of Fort Washington, The (1993)"
        ],
        [
         1589,
         248,
         4.6764483,
         "Schizopolis (1996)"
        ],
        [
         1449,
         249,
         5.5891623,
         "Pather Panchali (1955)"
        ],
        [
         1642,
         250,
         5.0630436,
         "Some Mother's Son (1996)"
        ],
        [
         1467,
         251,
         5.0832014,
         "Saint of Fort Washington, The (1993)"
        ],
        [
         1449,
         252,
         5.6646476,
         "Pather Panchali (1955)"
        ],
        [
         1450,
         253,
         5.083769,
         "Golden Earrings (1947)"
        ],
        [
         1450,
         254,
         4.161913,
         "Golden Earrings (1947)"
        ],
        [
         56,
         255,
         4.269513,
         "Pulp Fiction (1994)"
        ],
        [
         1019,
         256,
         5.174077,
         "Die xue shuang xiong (Killer, The) (1989)"
        ],
        [
         1642,
         257,
         5.2965727,
         "Some Mother's Son (1996)"
        ],
        [
         313,
         258,
         4.629779,
         "Titanic (1997)"
        ],
        [
         1449,
         259,
         5.0810285,
         "Pather Panchali (1955)"
        ],
        [
         1159,
         260,
         6.2368345,
         "Stalker (1979)"
        ],
        [
         958,
         261,
         5.9178104,
         "To Live (Huozhe) (1994)"
        ],
        [
         1642,
         262,
         4.312789,
         "Some Mother's Son (1996)"
        ],
        [
         1463,
         263,
         5.0693383,
         "Boys, Les (1997)"
        ],
        [
         1449,
         264,
         5.4351482,
         "Pather Panchali (1955)"
        ],
        [
         1294,
         265,
         5.058833,
         "Ayn Rand: A Sense of Life (1997)"
        ],
        [
         1463,
         266,
         4.6353664,
         "Boys, Les (1997)"
        ],
        [
         1449,
         267,
         5.4976716,
         "Pather Panchali (1955)"
        ],
        [
         1449,
         268,
         4.4009614,
         "Pather Panchali (1955)"
        ],
        [
         320,
         269,
         4.975392,
         "Paradise Lost: The Child Murders at Robin Hood Hills (1996)"
        ],
        [
         958,
         270,
         5.941681,
         "To Live (Huozhe) (1994)"
        ],
        [
         1463,
         271,
         5.0569687,
         "Boys, Les (1997)"
        ],
        [
         1449,
         272,
         5.364543,
         "Pather Panchali (1955)"
        ],
        [
         320,
         273,
         4.6496167,
         "Paradise Lost: The Child Murders at Robin Hood Hills (1996)"
        ],
        [
         1643,
         274,
         5.762611,
         "Angel Baby (1995)"
        ],
        [
         1467,
         275,
         3.811229,
         "Saint of Fort Washington, The (1993)"
        ],
        [
         1467,
         276,
         5.0433955,
         "Saint of Fort Washington, The (1993)"
        ],
        [
         1643,
         277,
         4.9893913,
         "Angel Baby (1995)"
        ],
        [
         1463,
         278,
         5.41461,
         "Boys, Les (1997)"
        ],
        [
         1242,
         279,
         5.3497677,
         "Old Lady Who Walked in the Sea, The (Vieille qui marchait dans la mer, La) (1991)"
        ],
        [
         1642,
         280,
         4.9853077,
         "Some Mother's Son (1996)"
        ],
        [
         913,
         281,
         5.289418,
         "Love and Death on Long Island (1997)"
        ],
        [
         958,
         282,
         4.9332094,
         "To Live (Huozhe) (1994)"
        ],
        [
         1449,
         283,
         5.4362764,
         "Pather Panchali (1955)"
        ],
        [
         1449,
         284,
         4.9310775,
         "Pather Panchali (1955)"
        ],
        [
         1589,
         285,
         4.854863,
         "Schizopolis (1996)"
        ],
        [
         958,
         286,
         5.265323,
         "To Live (Huozhe) (1994)"
        ],
        [
         1643,
         287,
         5.982003,
         "Angel Baby (1995)"
        ],
        [
         1463,
         288,
         5.1576242,
         "Boys, Les (1997)"
        ],
        [
         1643,
         289,
         4.706852,
         "Angel Baby (1995)"
        ],
        [
         1450,
         290,
         4.2442093,
         "Golden Earrings (1947)"
        ],
        [
         1449,
         291,
         5.454462,
         "Pather Panchali (1955)"
        ],
        [
         1463,
         292,
         5.4858336,
         "Boys, Les (1997)"
        ],
        [
         1463,
         293,
         4.466893,
         "Boys, Les (1997)"
        ],
        [
         1467,
         294,
         4.866977,
         "Saint of Fort Washington, The (1993)"
        ],
        [
         1642,
         295,
         5.589449,
         "Some Mother's Son (1996)"
        ],
        [
         1463,
         296,
         5.432382,
         "Boys, Les (1997)"
        ],
        [
         1449,
         297,
         4.569956,
         "Pather Panchali (1955)"
        ],
        [
         1467,
         298,
         4.874468,
         "Saint of Fort Washington, The (1993)"
        ],
        [
         1463,
         299,
         4.605769,
         "Boys, Les (1997)"
        ],
        [
         74,
         300,
         5.1442733,
         "Faster Pussycat! Kill! Kill! (1965)"
        ],
        [
         1467,
         301,
         4.679347,
         "Saint of Fort Washington, The (1993)"
        ],
        [
         1449,
         302,
         3.679666,
         "Pather Panchali (1955)"
        ],
        [
         1463,
         303,
         5.251484,
         "Boys, Les (1997)"
        ],
        [
         1294,
         304,
         4.3353887,
         "Ayn Rand: A Sense of Life (1997)"
        ],
        [
         1463,
         305,
         4.619226,
         "Boys, Les (1997)"
        ],
        [
         1449,
         306,
         5.5159764,
         "Pather Panchali (1955)"
        ],
        [
         408,
         307,
         4.947262,
         "Close Shave, A (1995)"
        ],
        [
         1449,
         308,
         4.93805,
         "Pather Panchali (1955)"
        ],
        [
         867,
         309,
         5.1445627,
         "Whole Wide World, The (1996)"
        ],
        [
         884,
         310,
         5.778944,
         "Year of the Horse (1997)"
        ],
        [
         1450,
         311,
         4.651053,
         "Golden Earrings (1947)"
        ],
        [
         1642,
         312,
         5.2535195,
         "Some Mother's Son (1996)"
        ],
        [
         1463,
         313,
         4.8428326,
         "Boys, Les (1997)"
        ],
        [
         313,
         314,
         4.8976192,
         "Titanic (1997)"
        ],
        [
         1449,
         315,
         5.1169844,
         "Pather Panchali (1955)"
        ],
        [
         884,
         316,
         4.767702,
         "Year of the Horse (1997)"
        ],
        [
         1589,
         317,
         4.761322,
         "Schizopolis (1996)"
        ],
        [
         1664,
         318,
         5.1544223,
         "8 Heads in a Duffel Bag (1997)"
        ],
        [
         1643,
         319,
         4.858437,
         "Angel Baby (1995)"
        ],
        [
         1467,
         320,
         4.893185,
         "Saint of Fort Washington, The (1993)"
        ],
        [
         1463,
         321,
         4.4441266,
         "Boys, Les (1997)"
        ],
        [
         1449,
         322,
         5.051409,
         "Pather Panchali (1955)"
        ],
        [
         1463,
         323,
         5.042288,
         "Boys, Les (1997)"
        ],
        [
         1650,
         324,
         5.49804,
         "Butcher Boy, The (1998)"
        ],
        [
         1643,
         325,
         5.0369463,
         "Angel Baby (1995)"
        ],
        [
         1450,
         326,
         4.525528,
         "Golden Earrings (1947)"
        ],
        [
         1449,
         327,
         4.424332,
         "Pather Panchali (1955)"
        ],
        [
         1450,
         328,
         4.528016,
         "Golden Earrings (1947)"
        ],
        [
         1463,
         329,
         4.5725007,
         "Boys, Les (1997)"
        ],
        [
         1064,
         330,
         5.440488,
         "Crossfire (1947)"
        ],
        [
         320,
         331,
         5.0920334,
         "Paradise Lost: The Child Murders at Robin Hood Hills (1996)"
        ],
        [
         1467,
         332,
         5.4151406,
         "Saint of Fort Washington, The (1993)"
        ],
        [
         1278,
         333,
         5.091696,
         "Selena (1997)"
        ],
        [
         1449,
         334,
         4.827071,
         "Pather Panchali (1955)"
        ],
        [
         899,
         335,
         5.0964746,
         "Winter Guest, The (1997)"
        ],
        [
         1463,
         336,
         4.896067,
         "Boys, Les (1997)"
        ],
        [
         867,
         337,
         5.025784,
         "Whole Wide World, The (1996)"
        ],
        [
         1643,
         338,
         5.078553,
         "Angel Baby (1995)"
        ],
        [
         1449,
         339,
         5.3945065,
         "Pather Panchali (1955)"
        ],
        [
         22,
         340,
         4.977241,
         "Braveheart (1995)"
        ],
        [
         1159,
         341,
         6.130686,
         "Stalker (1979)"
        ],
        [
         1085,
         342,
         4.8146534,
         "Carried Away (1996)"
        ],
        [
         1449,
         343,
         5.3742228,
         "Pather Panchali (1955)"
        ],
        [
         1449,
         344,
         5.0064087,
         "Pather Panchali (1955)"
        ],
        [
         1449,
         345,
         5.0242953,
         "Pather Panchali (1955)"
        ],
        [
         1643,
         346,
         5.0079207,
         "Angel Baby (1995)"
        ],
        [
         1467,
         347,
         4.9928813,
         "Saint of Fort Washington, The (1993)"
        ],
        [
         1293,
         348,
         4.926241,
         "Star Kid (1997)"
        ],
        [
         884,
         349,
         4.9115596,
         "Year of the Horse (1997)"
        ],
        [
         1463,
         350,
         5.3685927,
         "Boys, Les (1997)"
        ],
        [
         867,
         351,
         5.4322615,
         "Whole Wide World, The (1996)"
        ],
        [
         313,
         352,
         4.5925756,
         "Titanic (1997)"
        ],
        [
         1642,
         353,
         5.035967,
         "Some Mother's Son (1996)"
        ],
        [
         1449,
         354,
         4.7401195,
         "Pather Panchali (1955)"
        ],
        [
         1642,
         355,
         5.512414,
         "Some Mother's Son (1996)"
        ],
        [
         1643,
         356,
         5.317611,
         "Angel Baby (1995)"
        ],
        [
         1467,
         357,
         5.78206,
         "Saint of Fort Washington, The (1993)"
        ],
        [
         1558,
         358,
         4.878001,
         "Aparajito (1956)"
        ],
        [
         1467,
         359,
         5.0982585,
         "Saint of Fort Washington, The (1993)"
        ],
        [
         1463,
         360,
         5.0258408,
         "Boys, Les (1997)"
        ],
        [
         1463,
         361,
         4.990627,
         "Boys, Les (1997)"
        ],
        [
         1233,
         362,
         5.637231,
         "N�nette et Boni (1996)"
        ],
        [
         1643,
         363,
         4.803981,
         "Angel Baby (1995)"
        ],
        [
         1650,
         364,
         5.038417,
         "Butcher Boy, The (1998)"
        ],
        [
         1642,
         365,
         4.712802,
         "Some Mother's Son (1996)"
        ],
        [
         320,
         366,
         6.341165,
         "Paradise Lost: The Child Murders at Robin Hood Hills (1996)"
        ],
        [
         1467,
         367,
         5.3883824,
         "Saint of Fort Washington, The (1993)"
        ],
        [
         1589,
         368,
         5.0379686,
         "Schizopolis (1996)"
        ],
        [
         1467,
         369,
         5.28804,
         "Saint of Fort Washington, The (1993)"
        ],
        [
         1463,
         370,
         4.6696243,
         "Boys, Les (1997)"
        ],
        [
         313,
         371,
         4.7772484,
         "Titanic (1997)"
        ],
        [
         320,
         372,
         5.7982545,
         "Paradise Lost: The Child Murders at Robin Hood Hills (1996)"
        ],
        [
         1467,
         373,
         4.648451,
         "Saint of Fort Washington, The (1993)"
        ],
        [
         313,
         374,
         4.553256,
         "Titanic (1997)"
        ],
        [
         1467,
         375,
         4.7258034,
         "Saint of Fort Washington, The (1993)"
        ],
        [
         1463,
         376,
         4.8112836,
         "Boys, Les (1997)"
        ],
        [
         1467,
         377,
         5.0283237,
         "Saint of Fort Washington, The (1993)"
        ],
        [
         1642,
         378,
         4.5939865,
         "Some Mother's Son (1996)"
        ],
        [
         1449,
         379,
         5.218092,
         "Pather Panchali (1955)"
        ],
        [
         408,
         380,
         4.0739684,
         "Close Shave, A (1995)"
        ],
        [
         320,
         381,
         5.2839274,
         "Paradise Lost: The Child Murders at Robin Hood Hills (1996)"
        ],
        [
         74,
         382,
         4.836979,
         "Faster Pussycat! Kill! Kill! (1965)"
        ],
        [
         1449,
         383,
         5.283182,
         "Pather Panchali (1955)"
        ],
        [
         1064,
         384,
         5.294648,
         "Crossfire (1947)"
        ],
        [
         1536,
         385,
         4.819392,
         "Aiqing wansui (1994)"
        ],
        [
         272,
         386,
         4.838547,
         "Good Will Hunting (1997)"
        ],
        [
         1449,
         387,
         4.6927705,
         "Pather Panchali (1955)"
        ],
        [
         817,
         388,
         5.52598,
         "Frisk (1995)"
        ],
        [
         1449,
         389,
         4.9880595,
         "Pather Panchali (1955)"
        ],
        [
         1066,
         390,
         5.0870028,
         "Balto (1995)"
        ],
        [
         1643,
         391,
         4.8853736,
         "Angel Baby (1995)"
        ],
        [
         1449,
         392,
         5.208146,
         "Pather Panchali (1955)"
        ],
        [
         958,
         393,
         4.3193455,
         "To Live (Huozhe) (1994)"
        ],
        [
         1467,
         394,
         5.1687846,
         "Saint of Fort Washington, The (1993)"
        ],
        [
         1450,
         395,
         4.979383,
         "Golden Earrings (1947)"
        ],
        [
         1294,
         396,
         4.3874426,
         "Ayn Rand: A Sense of Life (1997)"
        ],
        [
         1463,
         397,
         5.21801,
         "Boys, Les (1997)"
        ],
        [
         1450,
         398,
         4.813204,
         "Golden Earrings (1947)"
        ],
        [
         1642,
         399,
         3.9074287,
         "Some Mother's Son (1996)"
        ],
        [
         1642,
         400,
         4.736003,
         "Some Mother's Son (1996)"
        ],
        [
         1664,
         401,
         4.390838,
         "8 Heads in a Duffel Bag (1997)"
        ],
        [
         1450,
         402,
         4.9098253,
         "Golden Earrings (1947)"
        ],
        [
         1467,
         403,
         4.9542294,
         "Saint of Fort Washington, The (1993)"
        ],
        [
         1589,
         404,
         4.9791603,
         "Schizopolis (1996)"
        ],
        [
         1554,
         405,
         3.725391,
         "Safe Passage (1994)"
        ],
        [
         1449,
         406,
         4.570929,
         "Pather Panchali (1955)"
        ],
        [
         1467,
         407,
         4.6197405,
         "Saint of Fort Washington, The (1993)"
        ],
        [
         958,
         408,
         5.35426,
         "To Live (Huozhe) (1994)"
        ],
        [
         1463,
         409,
         4.884116,
         "Boys, Les (1997)"
        ],
        [
         913,
         410,
         4.142685,
         "Love and Death on Long Island (1997)"
        ],
        [
         1467,
         411,
         4.580336,
         "Saint of Fort Washington, The (1993)"
        ],
        [
         1467,
         412,
         4.85253,
         "Saint of Fort Washington, The (1993)"
        ],
        [
         1463,
         413,
         5.0369368,
         "Boys, Les (1997)"
        ],
        [
         1449,
         414,
         5.582295,
         "Pather Panchali (1955)"
        ],
        [
         1643,
         415,
         5.501584,
         "Angel Baby (1995)"
        ],
        [
         1450,
         416,
         5.170796,
         "Golden Earrings (1947)"
        ],
        [
         1467,
         417,
         4.448923,
         "Saint of Fort Washington, The (1993)"
        ],
        [
         854,
         418,
         5.2000823,
         "Bad Taste (1987)"
        ],
        [
         1463,
         419,
         5.3945894,
         "Boys, Les (1997)"
        ],
        [
         1558,
         420,
         5.074907,
         "Aparajito (1956)"
        ],
        [
         1589,
         421,
         4.7106276,
         "Schizopolis (1996)"
        ],
        [
         1642,
         422,
         4.7324243,
         "Some Mother's Son (1996)"
        ],
        [
         1642,
         423,
         4.8841515,
         "Some Mother's Son (1996)"
        ],
        [
         913,
         424,
         5.5074377,
         "Love and Death on Long Island (1997)"
        ],
        [
         1449,
         425,
         4.119,
         "Pather Panchali (1955)"
        ],
        [
         1643,
         426,
         4.643489,
         "Angel Baby (1995)"
        ],
        [
         1159,
         427,
         6.881821,
         "Stalker (1979)"
        ],
        [
         1064,
         428,
         5.002741,
         "Crossfire (1947)"
        ],
        [
         1463,
         429,
         4.7399335,
         "Boys, Les (1997)"
        ],
        [
         1449,
         430,
         4.746925,
         "Pather Panchali (1955)"
        ],
        [
         1192,
         431,
         4.319911,
         "Boys of St. Vincent, The (1993)"
        ],
        [
         1463,
         432,
         5.002988,
         "Boys, Les (1997)"
        ],
        [
         1463,
         433,
         5.330138,
         "Boys, Les (1997)"
        ],
        [
         1102,
         434,
         5.145795,
         "Two Much (1996)"
        ],
        [
         1467,
         435,
         4.616206,
         "Saint of Fort Washington, The (1993)"
        ],
        [
         1467,
         436,
         4.871457,
         "Saint of Fort Washington, The (1993)"
        ],
        [
         1599,
         437,
         4.8332057,
         "Someone Else's America (1995)"
        ],
        [
         1064,
         438,
         5.1222606,
         "Crossfire (1947)"
        ],
        [
         1449,
         439,
         4.6426635,
         "Pather Panchali (1955)"
        ],
        [
         320,
         440,
         5.828365,
         "Paradise Lost: The Child Murders at Robin Hood Hills (1996)"
        ],
        [
         169,
         441,
         4.6776457,
         "Wrong Trousers, The (1993)"
        ],
        [
         1467,
         442,
         4.3316236,
         "Saint of Fort Washington, The (1993)"
        ],
        [
         1589,
         443,
         5.06334,
         "Schizopolis (1996)"
        ],
        [
         1467,
         444,
         5.032655,
         "Saint of Fort Washington, The (1993)"
        ],
        [
         1463,
         445,
         3.2810347,
         "Boys, Les (1997)"
        ],
        [
         1449,
         446,
         3.9395912,
         "Pather Panchali (1955)"
        ],
        [
         1467,
         447,
         4.8124685,
         "Saint of Fort Washington, The (1993)"
        ],
        [
         958,
         448,
         4.8395066,
         "To Live (Huozhe) (1994)"
        ],
        [
         320,
         449,
         5.5266185,
         "Paradise Lost: The Child Murders at Robin Hood Hills (1996)"
        ],
        [
         1450,
         450,
         4.8953867,
         "Golden Earrings (1947)"
        ],
        [
         913,
         451,
         5.064643,
         "Love and Death on Long Island (1997)"
        ],
        [
         1233,
         452,
         4.4156733,
         "N�nette et Boni (1996)"
        ],
        [
         1463,
         453,
         4.6519365,
         "Boys, Les (1997)"
        ],
        [
         313,
         454,
         3.8361447,
         "Titanic (1997)"
        ],
        [
         1467,
         455,
         4.3842907,
         "Saint of Fort Washington, The (1993)"
        ],
        [
         1449,
         456,
         4.8281274,
         "Pather Panchali (1955)"
        ],
        [
         1467,
         457,
         5.4098034,
         "Saint of Fort Washington, The (1993)"
        ],
        [
         1463,
         458,
         4.771856,
         "Boys, Les (1997)"
        ],
        [
         1467,
         459,
         4.4156,
         "Saint of Fort Washington, The (1993)"
        ],
        [
         1463,
         460,
         4.8024874,
         "Boys, Les (1997)"
        ],
        [
         1463,
         461,
         4.565559,
         "Boys, Les (1997)"
        ],
        [
         313,
         462,
         5.3367085,
         "Titanic (1997)"
        ],
        [
         320,
         463,
         4.041382,
         "Paradise Lost: The Child Murders at Robin Hood Hills (1996)"
        ],
        [
         1449,
         464,
         5.517928,
         "Pather Panchali (1955)"
        ],
        [
         1642,
         465,
         4.0357714,
         "Some Mother's Son (1996)"
        ],
        [
         1643,
         466,
         4.626074,
         "Angel Baby (1995)"
        ],
        [
         320,
         467,
         5.173283,
         "Paradise Lost: The Child Murders at Robin Hood Hills (1996)"
        ],
        [
         1449,
         468,
         5.026994,
         "Pather Panchali (1955)"
        ],
        [
         1463,
         469,
         5.2887144,
         "Boys, Les (1997)"
        ],
        [
         1449,
         470,
         4.591573,
         "Pather Panchali (1955)"
        ],
        [
         1427,
         471,
         5.266494,
         "Drunks (1995)"
        ],
        [
         958,
         472,
         5.8279886,
         "To Live (Huozhe) (1994)"
        ],
        [
         1643,
         473,
         4.933793,
         "Angel Baby (1995)"
        ],
        [
         1463,
         474,
         5.2912974,
         "Boys, Les (1997)"
        ],
        [
         320,
         475,
         5.361097,
         "Paradise Lost: The Child Murders at Robin Hood Hills (1996)"
        ],
        [
         1467,
         476,
         4.9850216,
         "Saint of Fort Washington, The (1993)"
        ],
        [
         1064,
         477,
         5.6001296,
         "Crossfire (1947)"
        ],
        [
         1463,
         478,
         4.8988304,
         "Boys, Les (1997)"
        ],
        [
         1467,
         479,
         4.6781645,
         "Saint of Fort Washington, The (1993)"
        ],
        [
         1463,
         480,
         4.6875744,
         "Boys, Les (1997)"
        ],
        [
         408,
         481,
         4.6985283,
         "Close Shave, A (1995)"
        ],
        [
         1064,
         482,
         4.411118,
         "Crossfire (1947)"
        ],
        [
         1242,
         483,
         4.0030565,
         "Old Lady Who Walked in the Sea, The (Vieille qui marchait dans la mer, La) (1991)"
        ],
        [
         1450,
         484,
         5.0568833,
         "Golden Earrings (1947)"
        ],
        [
         320,
         485,
         5.153249,
         "Paradise Lost: The Child Murders at Robin Hood Hills (1996)"
        ],
        [
         1449,
         486,
         4.6275754,
         "Pather Panchali (1955)"
        ],
        [
         1467,
         487,
         4.929311,
         "Saint of Fort Washington, The (1993)"
        ],
        [
         1450,
         488,
         4.0903444,
         "Golden Earrings (1947)"
        ],
        [
         1664,
         489,
         5.0761986,
         "8 Heads in a Duffel Bag (1997)"
        ],
        [
         1368,
         490,
         4.3436904,
         "Mina Tannenbaum (1994)"
        ],
        [
         1643,
         491,
         5.1298003,
         "Angel Baby (1995)"
        ],
        [
         1463,
         492,
         4.5125227,
         "Boys, Les (1997)"
        ],
        [
         1467,
         493,
         4.9065824,
         "Saint of Fort Washington, The (1993)"
        ],
        [
         1463,
         494,
         5.049965,
         "Boys, Les (1997)"
        ],
        [
         1643,
         495,
         5.97225,
         "Angel Baby (1995)"
        ],
        [
         320,
         496,
         4.8275876,
         "Paradise Lost: The Child Murders at Robin Hood Hills (1996)"
        ],
        [
         1467,
         497,
         4.320733,
         "Saint of Fort Washington, The (1993)"
        ],
        [
         1449,
         498,
         4.3127995,
         "Pather Panchali (1955)"
        ],
        [
         1449,
         499,
         4.667438,
         "Pather Panchali (1955)"
        ],
        [
         1449,
         500,
         4.830404,
         "Pather Panchali (1955)"
        ],
        [
         1449,
         501,
         5.2077346,
         "Pather Panchali (1955)"
        ],
        [
         914,
         502,
         4.3901796,
         "Wild Things (1998)"
        ],
        [
         1449,
         503,
         5.1756277,
         "Pather Panchali (1955)"
        ],
        [
         1642,
         504,
         4.6913314,
         "Some Mother's Son (1996)"
        ],
        [
         1664,
         505,
         4.4342127,
         "8 Heads in a Duffel Bag (1997)"
        ],
        [
         1450,
         506,
         4.7908397,
         "Golden Earrings (1947)"
        ],
        [
         817,
         507,
         5.873743,
         "Frisk (1995)"
        ],
        [
         1449,
         508,
         5.0624213,
         "Pather Panchali (1955)"
        ],
        [
         1154,
         509,
         4.2547917,
         "Alphaville (1965)"
        ],
        [
         313,
         510,
         4.158151,
         "Titanic (1997)"
        ],
        [
         1664,
         511,
         5.3381257,
         "8 Heads in a Duffel Bag (1997)"
        ],
        [
         1463,
         512,
         5.743197,
         "Boys, Les (1997)"
        ],
        [
         313,
         513,
         5.145142,
         "Titanic (1997)"
        ],
        [
         1467,
         514,
         4.9102936,
         "Saint of Fort Washington, The (1993)"
        ],
        [
         817,
         515,
         4.266796,
         "Frisk (1995)"
        ],
        [
         958,
         516,
         5.4936075,
         "To Live (Huozhe) (1994)"
        ],
        [
         1377,
         517,
         4.9840508,
         "Hotel de Love (1996)"
        ],
        [
         867,
         518,
         5.3923306,
         "Whole Wide World, The (1996)"
        ],
        [
         320,
         519,
         6.4034605,
         "Paradise Lost: The Child Murders at Robin Hood Hills (1996)"
        ],
        [
         1233,
         520,
         4.904966,
         "N�nette et Boni (1996)"
        ],
        [
         1467,
         521,
         4.205856,
         "Saint of Fort Washington, The (1993)"
        ],
        [
         1463,
         522,
         5.2035766,
         "Boys, Les (1997)"
        ],
        [
         1642,
         523,
         5.4468584,
         "Some Mother's Son (1996)"
        ],
        [
         320,
         524,
         4.8191857,
         "Paradise Lost: The Child Murders at Robin Hood Hills (1996)"
        ],
        [
         1467,
         525,
         4.461086,
         "Saint of Fort Washington, The (1993)"
        ],
        [
         1463,
         526,
         4.98891,
         "Boys, Les (1997)"
        ],
        [
         1449,
         527,
         4.783865,
         "Pather Panchali (1955)"
        ],
        [
         1467,
         528,
         5.0578656,
         "Saint of Fort Washington, The (1993)"
        ],
        [
         1242,
         529,
         5.049363,
         "Old Lady Who Walked in the Sea, The (Vieille qui marchait dans la mer, La) (1991)"
        ],
        [
         1642,
         530,
         4.9441557,
         "Some Mother's Son (1996)"
        ],
        [
         867,
         531,
         5.8091426,
         "Whole Wide World, The (1996)"
        ],
        [
         1467,
         532,
         5.524206,
         "Saint of Fort Washington, The (1993)"
        ],
        [
         1450,
         533,
         4.5311923,
         "Golden Earrings (1947)"
        ],
        [
         1643,
         534,
         5.7305956,
         "Angel Baby (1995)"
        ],
        [
         1642,
         535,
         4.912015,
         "Some Mother's Son (1996)"
        ],
        [
         1450,
         536,
         4.8349385,
         "Golden Earrings (1947)"
        ],
        [
         1463,
         537,
         4.2248926,
         "Boys, Les (1997)"
        ],
        [
         1450,
         538,
         4.356622,
         "Golden Earrings (1947)"
        ],
        [
         1242,
         539,
         5.379808,
         "Old Lady Who Walked in the Sea, The (Vieille qui marchait dans la mer, La) (1991)"
        ],
        [
         1467,
         540,
         4.8127923,
         "Saint of Fort Washington, The (1993)"
        ],
        [
         1278,
         541,
         4.706195,
         "Selena (1997)"
        ],
        [
         1449,
         542,
         4.6319466,
         "Pather Panchali (1955)"
        ],
        [
         1643,
         543,
         4.6601315,
         "Angel Baby (1995)"
        ],
        [
         1643,
         544,
         4.2005043,
         "Angel Baby (1995)"
        ],
        [
         1467,
         545,
         4.5821095,
         "Saint of Fort Washington, The (1993)"
        ],
        [
         958,
         546,
         5.6162395,
         "To Live (Huozhe) (1994)"
        ],
        [
         1643,
         547,
         5.432609,
         "Angel Baby (1995)"
        ],
        [
         1643,
         548,
         5.524416,
         "Angel Baby (1995)"
        ],
        [
         1467,
         549,
         5.085197,
         "Saint of Fort Washington, The (1993)"
        ],
        [
         1192,
         550,
         5.1930733,
         "Boys of St. Vincent, The (1993)"
        ],
        [
         1463,
         551,
         5.1998706,
         "Boys, Les (1997)"
        ],
        [
         958,
         552,
         4.203767,
         "To Live (Huozhe) (1994)"
        ],
        [
         1463,
         553,
         4.990817,
         "Boys, Les (1997)"
        ],
        [
         1467,
         554,
         4.457288,
         "Saint of Fort Washington, The (1993)"
        ],
        [
         1642,
         555,
         5.2985854,
         "Some Mother's Son (1996)"
        ],
        [
         1463,
         556,
         5.4183693,
         "Boys, Les (1997)"
        ],
        [
         1643,
         557,
         5.2807627,
         "Angel Baby (1995)"
        ],
        [
         320,
         558,
         5.960811,
         "Paradise Lost: The Child Murders at Robin Hood Hills (1996)"
        ],
        [
         1643,
         559,
         5.185956,
         "Angel Baby (1995)"
        ],
        [
         1449,
         560,
         4.609938,
         "Pather Panchali (1955)"
        ],
        [
         1449,
         561,
         4.378077,
         "Pather Panchali (1955)"
        ],
        [
         1664,
         562,
         5.119821,
         "8 Heads in a Duffel Bag (1997)"
        ],
        [
         1467,
         563,
         5.0576572,
         "Saint of Fort Washington, The (1993)"
        ],
        [
         1467,
         564,
         4.1970525,
         "Saint of Fort Washington, The (1993)"
        ],
        [
         320,
         565,
         5.707348,
         "Paradise Lost: The Child Murders at Robin Hood Hills (1996)"
        ],
        [
         1449,
         566,
         4.886781,
         "Pather Panchali (1955)"
        ],
        [
         1449,
         567,
         5.1037135,
         "Pather Panchali (1955)"
        ],
        [
         1463,
         568,
         4.624815,
         "Boys, Les (1997)"
        ],
        [
         1398,
         569,
         4.779925,
         "Anna (1996)"
        ],
        [
         1463,
         570,
         5.0833683,
         "Boys, Les (1997)"
        ],
        [
         1463,
         571,
         4.3499985,
         "Boys, Les (1997)"
        ],
        [
         408,
         572,
         4.694295,
         "Close Shave, A (1995)"
        ],
        [
         1449,
         573,
         4.5783033,
         "Pather Panchali (1955)"
        ],
        [
         1642,
         574,
         4.884451,
         "Some Mother's Son (1996)"
        ],
        [
         1643,
         575,
         5.531114,
         "Angel Baby (1995)"
        ],
        [
         1643,
         576,
         4.598481,
         "Angel Baby (1995)"
        ],
        [
         1450,
         577,
         4.6582828,
         "Golden Earrings (1947)"
        ],
        [
         22,
         578,
         3.9132285,
         "Braveheart (1995)"
        ],
        [
         318,
         579,
         4.4106164,
         "Schindler's List (1993)"
        ],
        [
         1664,
         580,
         5.394637,
         "8 Heads in a Duffel Bag (1997)"
        ],
        [
         1368,
         581,
         5.3947053,
         "Mina Tannenbaum (1994)"
        ],
        [
         1467,
         582,
         4.8604894,
         "Saint of Fort Washington, The (1993)"
        ],
        [
         1449,
         583,
         5.509114,
         "Pather Panchali (1955)"
        ],
        [
         1589,
         584,
         4.3894234,
         "Schizopolis (1996)"
        ],
        [
         1642,
         585,
         4.744991,
         "Some Mother's Son (1996)"
        ],
        [
         1019,
         586,
         4.161093,
         "Die xue shuang xiong (Killer, The) (1989)"
        ],
        [
         854,
         587,
         4.4912047,
         "Bad Taste (1987)"
        ],
        [
         958,
         588,
         4.8512053,
         "To Live (Huozhe) (1994)"
        ],
        [
         899,
         589,
         5.3752737,
         "Winter Guest, The (1997)"
        ],
        [
         320,
         590,
         4.8354526,
         "Paradise Lost: The Child Murders at Robin Hood Hills (1996)"
        ],
        [
         1449,
         591,
         4.6389976,
         "Pather Panchali (1955)"
        ],
        [
         1463,
         592,
         5.901061,
         "Boys, Les (1997)"
        ],
        [
         1643,
         593,
         4.753749,
         "Angel Baby (1995)"
        ],
        [
         1463,
         594,
         4.4801817,
         "Boys, Les (1997)"
        ],
        [
         320,
         595,
         4.9027467,
         "Paradise Lost: The Child Murders at Robin Hood Hills (1996)"
        ],
        [
         313,
         596,
         4.789964,
         "Titanic (1997)"
        ],
        [
         1467,
         597,
         5.1271267,
         "Saint of Fort Washington, The (1993)"
        ],
        [
         867,
         598,
         5.031552,
         "Whole Wide World, The (1996)"
        ],
        [
         1294,
         599,
         5.124741,
         "Ayn Rand: A Sense of Life (1997)"
        ],
        [
         1463,
         600,
         4.897407,
         "Boys, Les (1997)"
        ],
        [
         1643,
         601,
         5.036165,
         "Angel Baby (1995)"
        ],
        [
         1467,
         602,
         5.0195584,
         "Saint of Fort Washington, The (1993)"
        ],
        [
         1154,
         603,
         4.838217,
         "Alphaville (1965)"
        ],
        [
         1472,
         604,
         4.7661343,
         "Visitors, The (Visiteurs, Les) (1993)"
        ],
        [
         1463,
         605,
         5.380578,
         "Boys, Les (1997)"
        ],
        [
         1467,
         606,
         5.035301,
         "Saint of Fort Washington, The (1993)"
        ],
        [
         1463,
         607,
         4.762909,
         "Boys, Les (1997)"
        ],
        [
         1643,
         608,
         5.1219835,
         "Angel Baby (1995)"
        ],
        [
         1512,
         609,
         4.744542,
         "World of Apu, The (Apur Sansar) (1959)"
        ],
        [
         1450,
         610,
         4.6870413,
         "Golden Earrings (1947)"
        ],
        [
         884,
         611,
         5.2803774,
         "Year of the Horse (1997)"
        ],
        [
         1064,
         612,
         4.3347163,
         "Crossfire (1947)"
        ],
        [
         1463,
         613,
         5.38111,
         "Boys, Les (1997)"
        ],
        [
         1154,
         614,
         4.2370152,
         "Alphaville (1965)"
        ],
        [
         1463,
         615,
         5.4463325,
         "Boys, Les (1997)"
        ],
        [
         1064,
         616,
         4.975394,
         "Crossfire (1947)"
        ],
        [
         1159,
         617,
         4.235835,
         "Stalker (1979)"
        ],
        [
         1450,
         618,
         4.275711,
         "Golden Earrings (1947)"
        ],
        [
         313,
         619,
         4.375969,
         "Titanic (1997)"
        ],
        [
         1242,
         620,
         5.1485357,
         "Old Lady Who Walked in the Sea, The (Vieille qui marchait dans la mer, La) (1991)"
        ],
        [
         1467,
         621,
         5.0585184,
         "Saint of Fort Washington, The (1993)"
        ],
        [
         1449,
         622,
         4.8115873,
         "Pather Panchali (1955)"
        ],
        [
         1450,
         623,
         4.4343567,
         "Golden Earrings (1947)"
        ],
        [
         1449,
         624,
         4.866399,
         "Pather Panchali (1955)"
        ],
        [
         1449,
         625,
         4.312723,
         "Pather Panchali (1955)"
        ],
        [
         1463,
         626,
         4.6356287,
         "Boys, Les (1997)"
        ],
        [
         1643,
         627,
         4.5361595,
         "Angel Baby (1995)"
        ],
        [
         1650,
         628,
         6.0627465,
         "Butcher Boy, The (1998)"
        ],
        [
         1450,
         629,
         5.158693,
         "Golden Earrings (1947)"
        ],
        [
         914,
         630,
         4.31981,
         "Wild Things (1998)"
        ],
        [
         1467,
         631,
         4.6171474,
         "Saint of Fort Washington, The (1993)"
        ],
        [
         1467,
         632,
         4.6063514,
         "Saint of Fort Washington, The (1993)"
        ],
        [
         313,
         633,
         4.01729,
         "Titanic (1997)"
        ],
        [
         1019,
         634,
         4.559131,
         "Die xue shuang xiong (Killer, The) (1989)"
        ],
        [
         320,
         635,
         4.716611,
         "Paradise Lost: The Child Murders at Robin Hood Hills (1996)"
        ],
        [
         1019,
         636,
         5.579207,
         "Die xue shuang xiong (Killer, The) (1989)"
        ],
        [
         1233,
         637,
         4.0909014,
         "N�nette et Boni (1996)"
        ],
        [
         1467,
         638,
         4.4957294,
         "Saint of Fort Washington, The (1993)"
        ],
        [
         1463,
         639,
         4.0780926,
         "Boys, Les (1997)"
        ],
        [
         1449,
         640,
         5.586892,
         "Pather Panchali (1955)"
        ],
        [
         1449,
         641,
         5.06236,
         "Pather Panchali (1955)"
        ],
        [
         867,
         642,
         5.205388,
         "Whole Wide World, The (1996)"
        ],
        [
         1449,
         643,
         4.875098,
         "Pather Panchali (1955)"
        ],
        [
         958,
         644,
         5.2343216,
         "To Live (Huozhe) (1994)"
        ],
        [
         1463,
         645,
         5.3185163,
         "Boys, Les (1997)"
        ],
        [
         958,
         646,
         3.820754,
         "To Live (Huozhe) (1994)"
        ],
        [
         1467,
         647,
         4.690572,
         "Saint of Fort Washington, The (1993)"
        ],
        [
         174,
         648,
         4.563908,
         "Raiders of the Lost Ark (1981)"
        ],
        [
         1467,
         649,
         4.811693,
         "Saint of Fort Washington, The (1993)"
        ],
        [
         1449,
         650,
         4.1518517,
         "Pather Panchali (1955)"
        ],
        [
         1463,
         651,
         5.442863,
         "Boys, Les (1997)"
        ],
        [
         1427,
         652,
         4.1945786,
         "Drunks (1995)"
        ],
        [
         1589,
         653,
         4.005397,
         "Schizopolis (1996)"
        ],
        [
         1467,
         654,
         4.6360373,
         "Saint of Fort Washington, The (1993)"
        ],
        [
         320,
         655,
         3.9068983,
         "Paradise Lost: The Child Murders at Robin Hood Hills (1996)"
        ],
        [
         1463,
         656,
         4.154065,
         "Boys, Les (1997)"
        ],
        [
         854,
         657,
         5.0577383,
         "Bad Taste (1987)"
        ],
        [
         1463,
         658,
         4.7640047,
         "Boys, Les (1997)"
        ],
        [
         1064,
         659,
         4.6383085,
         "Crossfire (1947)"
        ],
        [
         408,
         660,
         3.6887145,
         "Close Shave, A (1995)"
        ],
        [
         1463,
         661,
         4.9731264,
         "Boys, Les (1997)"
        ],
        [
         1398,
         662,
         5.1127777,
         "Anna (1996)"
        ],
        [
         1467,
         663,
         4.6637917,
         "Saint of Fort Washington, The (1993)"
        ],
        [
         1463,
         664,
         5.0742326,
         "Boys, Les (1997)"
        ],
        [
         1449,
         665,
         4.5381293,
         "Pather Panchali (1955)"
        ],
        [
         1449,
         666,
         4.8078737,
         "Pather Panchali (1955)"
        ],
        [
         1463,
         667,
         5.098314,
         "Boys, Les (1997)"
        ],
        [
         1589,
         668,
         5.013232,
         "Schizopolis (1996)"
        ],
        [
         1463,
         669,
         4.5704107,
         "Boys, Les (1997)"
        ],
        [
         1064,
         670,
         4.502068,
         "Crossfire (1947)"
        ],
        [
         1467,
         671,
         4.490041,
         "Saint of Fort Washington, The (1993)"
        ],
        [
         958,
         672,
         5.013419,
         "To Live (Huozhe) (1994)"
        ],
        [
         1463,
         673,
         5.2030225,
         "Boys, Les (1997)"
        ],
        [
         1643,
         674,
         4.408361,
         "Angel Baby (1995)"
        ],
        [
         1463,
         675,
         5.5591984,
         "Boys, Les (1997)"
        ],
        [
         173,
         676,
         4.847726,
         "Princess Bride, The (1987)"
        ],
        [
         1019,
         677,
         5.403023,
         "Die xue shuang xiong (Killer, The) (1989)"
        ],
        [
         1643,
         678,
         4.677577,
         "Angel Baby (1995)"
        ],
        [
         1643,
         679,
         4.9099936,
         "Angel Baby (1995)"
        ],
        [
         1449,
         680,
         4.996877,
         "Pather Panchali (1955)"
        ],
        [
         1155,
         681,
         4.7851386,
         "Rendezvous in Paris (Rendez-vous de Paris, Les) (1995)"
        ],
        [
         1467,
         682,
         4.4038963,
         "Saint of Fort Washington, The (1993)"
        ],
        [
         1449,
         683,
         4.668456,
         "Pather Panchali (1955)"
        ],
        [
         1450,
         684,
         4.3932796,
         "Golden Earrings (1947)"
        ],
        [
         1639,
         685,
         3.0796738,
         "Bitter Sugar (Azucar Amargo) (1996)"
        ],
        [
         1643,
         686,
         5.9100585,
         "Angel Baby (1995)"
        ],
        [
         958,
         687,
         4.792751,
         "To Live (Huozhe) (1994)"
        ],
        [
         1664,
         688,
         6.3561645,
         "8 Heads in a Duffel Bag (1997)"
        ],
        [
         1344,
         689,
         5.1121364,
         "Story of Xinghua, The (1993)"
        ],
        [
         1294,
         690,
         4.0731883,
         "Ayn Rand: A Sense of Life (1997)"
        ],
        [
         1643,
         691,
         6.077527,
         "Angel Baby (1995)"
        ],
        [
         320,
         692,
         4.8304176,
         "Paradise Lost: The Child Murders at Robin Hood Hills (1996)"
        ],
        [
         320,
         693,
         4.126149,
         "Paradise Lost: The Child Murders at Robin Hood Hills (1996)"
        ],
        [
         1463,
         694,
         5.0359344,
         "Boys, Les (1997)"
        ],
        [
         958,
         695,
         5.3259206,
         "To Live (Huozhe) (1994)"
        ],
        [
         884,
         696,
         4.992666,
         "Year of the Horse (1997)"
        ],
        [
         1449,
         697,
         5.661794,
         "Pather Panchali (1955)"
        ],
        [
         50,
         698,
         3.7173085,
         "Star Wars (1977)"
        ],
        [
         1642,
         699,
         4.5156217,
         "Some Mother's Son (1996)"
        ],
        [
         1450,
         700,
         4.007306,
         "Golden Earrings (1947)"
        ],
        [
         1642,
         701,
         5.337929,
         "Some Mother's Son (1996)"
        ],
        [
         1154,
         702,
         4.533293,
         "Alphaville (1965)"
        ],
        [
         1467,
         703,
         4.6377773,
         "Saint of Fort Washington, The (1993)"
        ],
        [
         1463,
         704,
         5.267538,
         "Boys, Les (1997)"
        ],
        [
         909,
         705,
         4.878977,
         "Dangerous Beauty (1998)"
        ],
        [
         1242,
         706,
         4.6904154,
         "Old Lady Who Walked in the Sea, The (Vieille qui marchait dans la mer, La) (1991)"
        ],
        [
         1642,
         707,
         4.8164234,
         "Some Mother's Son (1996)"
        ],
        [
         1450,
         708,
         4.650536,
         "Golden Earrings (1947)"
        ],
        [
         1467,
         709,
         4.6584325,
         "Saint of Fort Washington, The (1993)"
        ],
        [
         1449,
         710,
         4.6572003,
         "Pather Panchali (1955)"
        ],
        [
         884,
         711,
         5.1695113,
         "Year of the Horse (1997)"
        ],
        [
         1160,
         712,
         4.7466702,
         "Love! Valour! Compassion! (1997)"
        ],
        [
         344,
         713,
         4.216547,
         "Apostle, The (1997)"
        ],
        [
         1410,
         714,
         4.775214,
         "Harlem (1993)"
        ],
        [
         1643,
         715,
         4.7617025,
         "Angel Baby (1995)"
        ],
        [
         1398,
         716,
         4.854222,
         "Anna (1996)"
        ],
        [
         1398,
         717,
         5.0534234,
         "Anna (1996)"
        ],
        [
         909,
         718,
         5.060603,
         "Dangerous Beauty (1998)"
        ],
        [
         1450,
         719,
         4.2214365,
         "Golden Earrings (1947)"
        ],
        [
         867,
         720,
         4.955356,
         "Whole Wide World, The (1996)"
        ],
        [
         1450,
         721,
         4.6164384,
         "Golden Earrings (1947)"
        ],
        [
         1643,
         722,
         5.053039,
         "Angel Baby (1995)"
        ],
        [
         1643,
         723,
         4.237884,
         "Angel Baby (1995)"
        ],
        [
         313,
         724,
         3.674538,
         "Titanic (1997)"
        ],
        [
         1643,
         725,
         6.2047524,
         "Angel Baby (1995)"
        ],
        [
         1094,
         726,
         4.7427115,
         "Thin Line Between Love and Hate, A (1996)"
        ],
        [
         1467,
         727,
         4.362204,
         "Saint of Fort Washington, The (1993)"
        ],
        [
         1642,
         728,
         4.781602,
         "Some Mother's Son (1996)"
        ],
        [
         1643,
         729,
         4.8904,
         "Angel Baby (1995)"
        ],
        [
         408,
         730,
         4.5023403,
         "Close Shave, A (1995)"
        ],
        [
         909,
         731,
         5.0324383,
         "Dangerous Beauty (1998)"
        ],
        [
         899,
         732,
         5.9691463,
         "Winter Guest, The (1997)"
        ],
        [
         884,
         733,
         4.5446033,
         "Year of the Horse (1997)"
        ],
        [
         884,
         734,
         4.4715385,
         "Year of the Horse (1997)"
        ],
        [
         1463,
         735,
         4.4416876,
         "Boys, Les (1997)"
        ],
        [
         320,
         736,
         5.464926,
         "Paradise Lost: The Child Murders at Robin Hood Hills (1996)"
        ],
        [
         1463,
         737,
         5.1875725,
         "Boys, Les (1997)"
        ],
        [
         1467,
         738,
         4.650844,
         "Saint of Fort Washington, The (1993)"
        ],
        [
         1410,
         739,
         4.803564,
         "Harlem (1993)"
        ],
        [
         1398,
         740,
         4.788614,
         "Anna (1996)"
        ],
        [
         1467,
         741,
         4.5483456,
         "Saint of Fort Washington, The (1993)"
        ],
        [
         1463,
         742,
         5.1640286,
         "Boys, Les (1997)"
        ],
        [
         1643,
         743,
         5.676789,
         "Angel Baby (1995)"
        ],
        [
         320,
         744,
         4.8311057,
         "Paradise Lost: The Child Murders at Robin Hood Hills (1996)"
        ],
        [
         1643,
         745,
         4.7901998,
         "Angel Baby (1995)"
        ],
        [
         1589,
         746,
         4.4654307,
         "Schizopolis (1996)"
        ],
        [
         1463,
         747,
         5.1775517,
         "Boys, Les (1997)"
        ],
        [
         169,
         748,
         4.620941,
         "Wrong Trousers, The (1993)"
        ],
        [
         1450,
         749,
         4.7744317,
         "Golden Earrings (1947)"
        ],
        [
         1463,
         750,
         4.6831064,
         "Boys, Les (1997)"
        ],
        [
         1463,
         751,
         4.9079757,
         "Boys, Les (1997)"
        ],
        [
         958,
         752,
         4.704117,
         "To Live (Huozhe) (1994)"
        ],
        [
         1463,
         753,
         4.7280617,
         "Boys, Les (1997)"
        ],
        [
         1064,
         754,
         4.424907,
         "Crossfire (1947)"
        ],
        [
         867,
         755,
         4.6272836,
         "Whole Wide World, The (1996)"
        ],
        [
         1467,
         756,
         4.146931,
         "Saint of Fort Washington, The (1993)"
        ],
        [
         1467,
         757,
         4.531544,
         "Saint of Fort Washington, The (1993)"
        ],
        [
         1449,
         758,
         5.275611,
         "Pather Panchali (1955)"
        ],
        [
         313,
         759,
         4.9589095,
         "Titanic (1997)"
        ],
        [
         1242,
         760,
         5.0257244,
         "Old Lady Who Walked in the Sea, The (Vieille qui marchait dans la mer, La) (1991)"
        ],
        [
         1472,
         761,
         4.4190197,
         "Visitors, The (Visiteurs, Les) (1993)"
        ],
        [
         1643,
         762,
         5.902051,
         "Angel Baby (1995)"
        ],
        [
         1449,
         763,
         5.053486,
         "Pather Panchali (1955)"
        ],
        [
         1467,
         764,
         4.703751,
         "Saint of Fort Washington, The (1993)"
        ],
        [
         320,
         765,
         5.813857,
         "Paradise Lost: The Child Murders at Robin Hood Hills (1996)"
        ],
        [
         1449,
         766,
         4.2545342,
         "Pather Panchali (1955)"
        ],
        [
         1449,
         767,
         5.3727913,
         "Pather Panchali (1955)"
        ],
        [
         1450,
         768,
         4.7543364,
         "Golden Earrings (1947)"
        ],
        [
         1064,
         769,
         4.371995,
         "Crossfire (1947)"
        ],
        [
         1642,
         770,
         5.800137,
         "Some Mother's Son (1996)"
        ],
        [
         1512,
         771,
         5.5649767,
         "World of Apu, The (Apur Sansar) (1959)"
        ],
        [
         1467,
         772,
         5.2655873,
         "Saint of Fort Washington, The (1993)"
        ],
        [
         1367,
         773,
         4.6799417,
         "Faust (1994)"
        ],
        [
         1463,
         774,
         3.2891626,
         "Boys, Les (1997)"
        ],
        [
         958,
         775,
         4.97468,
         "To Live (Huozhe) (1994)"
        ],
        [
         1467,
         776,
         4.751485,
         "Saint of Fort Washington, The (1993)"
        ],
        [
         1159,
         777,
         5.3353596,
         "Stalker (1979)"
        ],
        [
         1463,
         778,
         4.4259953,
         "Boys, Les (1997)"
        ],
        [
         1278,
         779,
         4.7085004,
         "Selena (1997)"
        ],
        [
         1450,
         780,
         4.704981,
         "Golden Earrings (1947)"
        ],
        [
         1643,
         781,
         4.9312925,
         "Angel Baby (1995)"
        ],
        [
         1512,
         782,
         4.0689564,
         "World of Apu, The (Apur Sansar) (1959)"
        ],
        [
         1643,
         783,
         5.7343807,
         "Angel Baby (1995)"
        ],
        [
         169,
         784,
         4.989276,
         "Wrong Trousers, The (1993)"
        ],
        [
         1467,
         785,
         4.514055,
         "Saint of Fort Washington, The (1993)"
        ],
        [
         1450,
         786,
         4.7400813,
         "Golden Earrings (1947)"
        ],
        [
         313,
         787,
         4.380928,
         "Titanic (1997)"
        ],
        [
         318,
         788,
         4.3178773,
         "Schindler's List (1993)"
        ],
        [
         1449,
         789,
         4.866433,
         "Pather Panchali (1955)"
        ],
        [
         1467,
         790,
         4.261259,
         "Saint of Fort Washington, The (1993)"
        ],
        [
         1467,
         791,
         4.807533,
         "Saint of Fort Washington, The (1993)"
        ],
        [
         1467,
         792,
         4.5559683,
         "Saint of Fort Washington, The (1993)"
        ],
        [
         1467,
         793,
         4.8278728,
         "Saint of Fort Washington, The (1993)"
        ],
        [
         320,
         794,
         5.5475826,
         "Paradise Lost: The Child Murders at Robin Hood Hills (1996)"
        ],
        [
         1449,
         795,
         4.205083,
         "Pather Panchali (1955)"
        ],
        [
         1467,
         796,
         4.5916615,
         "Saint of Fort Washington, The (1993)"
        ],
        [
         1467,
         797,
         3.721291,
         "Saint of Fort Washington, The (1993)"
        ],
        [
         1169,
         798,
         4.1485004,
         "Fresh (1994)"
        ],
        [
         1463,
         799,
         5.3458548,
         "Boys, Les (1997)"
        ],
        [
         1449,
         800,
         4.7723584,
         "Pather Panchali (1955)"
        ],
        [
         963,
         801,
         5.351035,
         "Some Folks Call It a Sling Blade (1993)"
        ],
        [
         1019,
         802,
         4.7685575,
         "Die xue shuang xiong (Killer, The) (1989)"
        ],
        [
         1463,
         803,
         5.4753885,
         "Boys, Les (1997)"
        ],
        [
         1643,
         804,
         4.9250445,
         "Angel Baby (1995)"
        ],
        [
         1449,
         805,
         4.9586105,
         "Pather Panchali (1955)"
        ],
        [
         1467,
         806,
         4.5925817,
         "Saint of Fort Washington, The (1993)"
        ],
        [
         1450,
         807,
         4.860498,
         "Golden Earrings (1947)"
        ],
        [
         1463,
         808,
         5.9844713,
         "Boys, Les (1997)"
        ],
        [
         1643,
         809,
         5.4771976,
         "Angel Baby (1995)"
        ],
        [
         1467,
         810,
         5.9385695,
         "Saint of Fort Washington, The (1993)"
        ],
        [
         817,
         811,
         5.890028,
         "Frisk (1995)"
        ],
        [
         1483,
         812,
         5.1738515,
         "Man in the Iron Mask, The (1998)"
        ],
        [
         74,
         813,
         4.5330906,
         "Faster Pussycat! Kill! Kill! (1965)"
        ],
        [
         1642,
         814,
         3.9201512,
         "Some Mother's Son (1996)"
        ],
        [
         1450,
         815,
         4.794144,
         "Golden Earrings (1947)"
        ],
        [
         1664,
         816,
         4.981416,
         "8 Heads in a Duffel Bag (1997)"
        ],
        [
         1589,
         817,
         4.681366,
         "Schizopolis (1996)"
        ],
        [
         1463,
         818,
         4.855152,
         "Boys, Les (1997)"
        ],
        [
         1463,
         819,
         5.6298904,
         "Boys, Les (1997)"
        ],
        [
         854,
         820,
         5.5919423,
         "Bad Taste (1987)"
        ],
        [
         1064,
         821,
         5.3666606,
         "Crossfire (1947)"
        ],
        [
         408,
         822,
         4.345426,
         "Close Shave, A (1995)"
        ],
        [
         1463,
         823,
         5.3546104,
         "Boys, Les (1997)"
        ],
        [
         854,
         824,
         4.4502473,
         "Bad Taste (1987)"
        ],
        [
         1294,
         825,
         5.2096205,
         "Ayn Rand: A Sense of Life (1997)"
        ],
        [
         1467,
         826,
         4.8970175,
         "Saint of Fort Washington, The (1993)"
        ],
        [
         320,
         827,
         4.6205883,
         "Paradise Lost: The Child Murders at Robin Hood Hills (1996)"
        ],
        [
         1643,
         828,
         4.556309,
         "Angel Baby (1995)"
        ],
        [
         1449,
         829,
         4.7984834,
         "Pather Panchali (1955)"
        ],
        [
         1463,
         830,
         5.0226316,
         "Boys, Les (1997)"
        ],
        [
         1467,
         831,
         4.6088123,
         "Saint of Fort Washington, The (1993)"
        ],
        [
         313,
         832,
         3.9581804,
         "Titanic (1997)"
        ],
        [
         1085,
         833,
         4.227395,
         "Carried Away (1996)"
        ],
        [
         1467,
         834,
         4.9368877,
         "Saint of Fort Washington, The (1993)"
        ],
        [
         1642,
         835,
         5.1754394,
         "Some Mother's Son (1996)"
        ],
        [
         1643,
         836,
         5.527282,
         "Angel Baby (1995)"
        ],
        [
         1512,
         837,
         4.5236845,
         "World of Apu, The (Apur Sansar) (1959)"
        ],
        [
         1467,
         838,
         4.857074,
         "Saint of Fort Washington, The (1993)"
        ],
        [
         1154,
         839,
         4.9227433,
         "Alphaville (1965)"
        ],
        [
         1463,
         840,
         5.103287,
         "Boys, Les (1997)"
        ],
        [
         272,
         841,
         4.9970574,
         "Good Will Hunting (1997)"
        ],
        [
         320,
         842,
         6.7754936,
         "Paradise Lost: The Child Murders at Robin Hood Hills (1996)"
        ],
        [
         1589,
         843,
         3.9563603,
         "Schizopolis (1996)"
        ],
        [
         1463,
         844,
         4.569058,
         "Boys, Les (1997)"
        ],
        [
         1159,
         845,
         4.4476647,
         "Stalker (1979)"
        ],
        [
         1449,
         846,
         5.0606956,
         "Pather Panchali (1955)"
        ],
        [
         958,
         847,
         4.3262234,
         "To Live (Huozhe) (1994)"
        ],
        [
         1643,
         848,
         6.0211005,
         "Angel Baby (1995)"
        ],
        [
         958,
         849,
         5.896836,
         "To Live (Huozhe) (1994)"
        ],
        [
         1278,
         850,
         5.358262,
         "Selena (1997)"
        ],
        [
         1643,
         851,
         5.3300014,
         "Angel Baby (1995)"
        ],
        [
         114,
         852,
         4.8863754,
         "Wallace & Gromit: The Best of Aardman Animation (1996)"
        ],
        [
         1159,
         853,
         4.748569,
         "Stalker (1979)"
        ],
        [
         1463,
         854,
         4.411881,
         "Boys, Les (1997)"
        ],
        [
         1463,
         855,
         4.437776,
         "Boys, Les (1997)"
        ],
        [
         1463,
         856,
         4.8571067,
         "Boys, Les (1997)"
        ],
        [
         1558,
         857,
         5.0858903,
         "Aparajito (1956)"
        ],
        [
         1642,
         858,
         4.6470323,
         "Some Mother's Son (1996)"
        ],
        [
         1019,
         859,
         5.317113,
         "Die xue shuang xiong (Killer, The) (1989)"
        ],
        [
         1398,
         860,
         4.346241,
         "Anna (1996)"
        ],
        [
         408,
         861,
         5.1659665,
         "Close Shave, A (1995)"
        ],
        [
         958,
         862,
         5.659417,
         "To Live (Huozhe) (1994)"
        ],
        [
         1467,
         863,
         5.0274777,
         "Saint of Fort Washington, The (1993)"
        ],
        [
         1467,
         864,
         5.1607203,
         "Saint of Fort Washington, The (1993)"
        ],
        [
         1558,
         865,
         4.76422,
         "Aparajito (1956)"
        ],
        [
         344,
         866,
         4.2075815,
         "Apostle, The (1997)"
        ],
        [
         1449,
         867,
         5.50624,
         "Pather Panchali (1955)"
        ],
        [
         1449,
         868,
         4.51261,
         "Pather Panchali (1955)"
        ],
        [
         1643,
         869,
         4.8205566,
         "Angel Baby (1995)"
        ],
        [
         1463,
         870,
         4.71462,
         "Boys, Les (1997)"
        ],
        [
         1467,
         871,
         4.6046543,
         "Saint of Fort Washington, The (1993)"
        ],
        [
         1294,
         872,
         4.525383,
         "Ayn Rand: A Sense of Life (1997)"
        ],
        [
         1278,
         873,
         4.2832465,
         "Selena (1997)"
        ],
        [
         1449,
         874,
         4.842903,
         "Pather Panchali (1955)"
        ],
        [
         1449,
         875,
         5.3586884,
         "Pather Panchali (1955)"
        ],
        [
         1463,
         876,
         5.204362,
         "Boys, Les (1997)"
        ],
        [
         1643,
         877,
         4.8838487,
         "Angel Baby (1995)"
        ],
        [
         1463,
         878,
         4.30259,
         "Boys, Les (1997)"
        ],
        [
         1467,
         879,
         4.668102,
         "Saint of Fort Washington, The (1993)"
        ],
        [
         1449,
         880,
         4.9484324,
         "Pather Panchali (1955)"
        ],
        [
         1643,
         881,
         4.857753,
         "Angel Baby (1995)"
        ],
        [
         1467,
         882,
         5.169891,
         "Saint of Fort Washington, The (1993)"
        ],
        [
         1642,
         883,
         5.009216,
         "Some Mother's Son (1996)"
        ],
        [
         1558,
         884,
         4.9732804,
         "Aparajito (1956)"
        ],
        [
         1450,
         885,
         4.408083,
         "Golden Earrings (1947)"
        ],
        [
         1467,
         886,
         4.7763925,
         "Saint of Fort Washington, The (1993)"
        ],
        [
         1472,
         887,
         5.804775,
         "Visitors, The (Visiteurs, Les) (1993)"
        ],
        [
         1449,
         888,
         5.3931184,
         "Pather Panchali (1955)"
        ],
        [
         1467,
         889,
         4.593117,
         "Saint of Fort Washington, The (1993)"
        ],
        [
         1463,
         890,
         5.226201,
         "Boys, Les (1997)"
        ],
        [
         1064,
         891,
         5.2559414,
         "Crossfire (1947)"
        ],
        [
         1467,
         892,
         5.151002,
         "Saint of Fort Washington, The (1993)"
        ],
        [
         1467,
         893,
         4.860705,
         "Saint of Fort Washington, The (1993)"
        ],
        [
         1642,
         894,
         4.8618693,
         "Some Mother's Son (1996)"
        ],
        [
         1463,
         895,
         5.4127235,
         "Boys, Les (1997)"
        ],
        [
         1463,
         896,
         4.2946405,
         "Boys, Les (1997)"
        ],
        [
         1467,
         897,
         4.8916974,
         "Saint of Fort Washington, The (1993)"
        ],
        [
         1242,
         898,
         5.3009815,
         "Old Lady Who Walked in the Sea, The (Vieille qui marchait dans la mer, La) (1991)"
        ],
        [
         1450,
         899,
         4.4207125,
         "Golden Earrings (1947)"
        ],
        [
         1512,
         900,
         4.033419,
         "World of Apu, The (Apur Sansar) (1959)"
        ],
        [
         867,
         901,
         5.0769153,
         "Whole Wide World, The (1996)"
        ],
        [
         1450,
         902,
         4.423606,
         "Golden Earrings (1947)"
        ],
        [
         1449,
         903,
         5.1167912,
         "Pather Panchali (1955)"
        ],
        [
         1512,
         904,
         5.5001855,
         "World of Apu, The (Apur Sansar) (1959)"
        ],
        [
         1467,
         905,
         4.5673556,
         "Saint of Fort Washington, The (1993)"
        ],
        [
         1642,
         906,
         4.903103,
         "Some Mother's Son (1996)"
        ],
        [
         1064,
         907,
         5.667625,
         "Crossfire (1947)"
        ],
        [
         1642,
         908,
         4.2139506,
         "Some Mother's Son (1996)"
        ],
        [
         1449,
         909,
         5.6179276,
         "Pather Panchali (1955)"
        ],
        [
         1643,
         910,
         4.2755637,
         "Angel Baby (1995)"
        ],
        [
         1449,
         911,
         4.5009613,
         "Pather Panchali (1955)"
        ],
        [
         344,
         912,
         4.7274446,
         "Apostle, The (1997)"
        ],
        [
         1467,
         913,
         4.3750815,
         "Saint of Fort Washington, The (1993)"
        ],
        [
         1664,
         914,
         4.5443954,
         "8 Heads in a Duffel Bag (1997)"
        ],
        [
         1463,
         915,
         4.500205,
         "Boys, Les (1997)"
        ],
        [
         1449,
         916,
         4.6514077,
         "Pather Panchali (1955)"
        ],
        [
         1642,
         917,
         4.8684435,
         "Some Mother's Son (1996)"
        ],
        [
         1639,
         918,
         4.5939627,
         "Bitter Sugar (Azucar Amargo) (1996)"
        ],
        [
         1064,
         919,
         4.5326166,
         "Crossfire (1947)"
        ],
        [
         320,
         920,
         4.0219417,
         "Paradise Lost: The Child Murders at Robin Hood Hills (1996)"
        ],
        [
         1278,
         921,
         4.242789,
         "Selena (1997)"
        ],
        [
         173,
         922,
         4.611015,
         "Princess Bride, The (1987)"
        ],
        [
         1449,
         923,
         5.4381776,
         "Pather Panchali (1955)"
        ],
        [
         1467,
         924,
         4.5645037,
         "Saint of Fort Washington, The (1993)"
        ],
        [
         1642,
         925,
         4.3367715,
         "Some Mother's Son (1996)"
        ],
        [
         1463,
         926,
         4.5935416,
         "Boys, Les (1997)"
        ],
        [
         1294,
         927,
         4.9015145,
         "Ayn Rand: A Sense of Life (1997)"
        ],
        [
         958,
         928,
         6.7767353,
         "To Live (Huozhe) (1994)"
        ],
        [
         1463,
         929,
         4.372408,
         "Boys, Les (1997)"
        ],
        [
         1167,
         930,
         4.256628,
         "Sum of Us, The (1994)"
        ],
        [
         318,
         931,
         4.7441936,
         "Schindler's List (1993)"
        ],
        [
         1463,
         932,
         5.0705104,
         "Boys, Les (1997)"
        ],
        [
         1643,
         933,
         4.0083065,
         "Angel Baby (1995)"
        ],
        [
         1643,
         934,
         4.6982837,
         "Angel Baby (1995)"
        ],
        [
         1102,
         935,
         4.8775225,
         "Two Much (1996)"
        ],
        [
         1449,
         936,
         5.152805,
         "Pather Panchali (1955)"
        ],
        [
         1463,
         937,
         4.384873,
         "Boys, Les (1997)"
        ],
        [
         1664,
         938,
         4.9956713,
         "8 Heads in a Duffel Bag (1997)"
        ],
        [
         1064,
         939,
         5.8013334,
         "Crossfire (1947)"
        ],
        [
         1643,
         940,
         4.472472,
         "Angel Baby (1995)"
        ],
        [
         1467,
         941,
         5.1162343,
         "Saint of Fort Washington, The (1993)"
        ],
        [
         318,
         942,
         4.9935083,
         "Schindler's List (1993)"
        ],
        [
         1467,
         943,
         4.6865945,
         "Saint of Fort Washington, The (1993)"
        ]
       ],
       "datasetInfos": [],
       "dbfsResultPath": null,
       "isJsonSchema": true,
       "metadata": {},
       "overflow": false,
       "plotOptions": {
        "customPlotOptions": {},
        "displayType": "table",
        "pivotAggregation": null,
        "pivotColumns": null,
        "xColumns": null,
        "yColumns": null
       },
       "removedWidgets": [],
       "schema": [
        {
         "metadata": "{}",
         "name": "movie_id",
         "type": "\"integer\""
        },
        {
         "metadata": "{}",
         "name": "user_id",
         "type": "\"integer\""
        },
        {
         "metadata": "{}",
         "name": "rating",
         "type": "\"float\""
        },
        {
         "metadata": "{}",
         "name": "movie_title",
         "type": "\"string\""
        }
       ],
       "type": "table"
      }
     },
     "output_type": "display_data"
    }
   ],
   "source": [
    "recommendations_with_titles.display()"
   ]
  },
  {
   "cell_type": "code",
   "execution_count": 0,
   "metadata": {
    "application/vnd.databricks.v1+cell": {
     "cellMetadata": {},
     "inputWidgets": {},
     "nuid": "b7acfc77-44ae-4d05-ade6-09f2fa1941c5",
     "showTitle": false,
     "tableResultSettingsMap": {},
     "title": ""
    }
   },
   "outputs": [],
   "source": []
  }
 ],
 "metadata": {
  "application/vnd.databricks.v1+notebook": {
   "computePreferences": null,
   "dashboards": [],
   "environmentMetadata": {
    "base_environment": "",
    "client": "1"
   },
   "language": "python",
   "notebookMetadata": {
    "pythonIndentUnit": 4
   },
   "notebookName": "MovieRecommender",
   "widgets": {}
  }
 },
 "nbformat": 4,
 "nbformat_minor": 0
}
